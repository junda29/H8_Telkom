{
  "nbformat": 4,
  "nbformat_minor": 0,
  "metadata": {
    "colab": {
      "name": "PYIM_sesi3.ipynb",
      "provenance": [],
      "authorship_tag": "ABX9TyPF9APEP5t0UVVjfKZpOGL1",
      "include_colab_link": true
    },
    "kernelspec": {
      "name": "python3",
      "display_name": "Python 3"
    },
    "language_info": {
      "name": "python"
    }
  },
  "cells": [
    {
      "cell_type": "markdown",
      "metadata": {
        "id": "view-in-github",
        "colab_type": "text"
      },
      "source": [
        "<a href=\"https://colab.research.google.com/github/junda29/H8_Telkom/blob/master/PYIM_sesi3.ipynb\" target=\"_parent\"><img src=\"https://colab.research.google.com/assets/colab-badge.svg\" alt=\"Open In Colab\"/></a>"
      ]
    },
    {
      "cell_type": "code",
      "metadata": {
        "id": "SBkheTyp7f3E"
      },
      "source": [
        "import pandas as pd"
      ],
      "execution_count": 1,
      "outputs": []
    },
    {
      "cell_type": "code",
      "metadata": {
        "id": "OOycuGFU7sQZ"
      },
      "source": [
        "w1 = 1\n",
        "w2 = 1\n",
        "b = -0.5"
      ],
      "execution_count": 27,
      "outputs": []
    },
    {
      "cell_type": "code",
      "metadata": {
        "id": "Qr0AuZcA7yaq"
      },
      "source": [
        "data = [(0,0), (0,1), (1,0), (1,1)]\n",
        "label = [False, True, True, True]\n",
        "output = []"
      ],
      "execution_count": 28,
      "outputs": []
    },
    {
      "cell_type": "code",
      "metadata": {
        "id": "Xe4cMuyL8IFz"
      },
      "source": [
        "for input, target in zip(data, label):\n",
        "  linear_combination = w1*input[0] + w2*input[1]\n",
        "  out = int(linear_combination) > 0\n",
        "  is_correct = 'Benar' if out == target else 'Salah'\n",
        "  output.append(\n",
        "      [input[0], input[1], linear_combination, out, is_correct]\n",
        "  )"
      ],
      "execution_count": 29,
      "outputs": []
    },
    {
      "cell_type": "code",
      "metadata": {
        "colab": {
          "base_uri": "https://localhost:8080/"
        },
        "id": "qki5PB0-_6b1",
        "outputId": "d98dfb2c-0c21-4fdf-8839-feb9205423f8"
      },
      "source": [
        "output"
      ],
      "execution_count": 31,
      "outputs": [
        {
          "output_type": "execute_result",
          "data": {
            "text/plain": [
              "[[0, 0, 0, False, 'Benar'],\n",
              " [0, 1, 1, True, 'Benar'],\n",
              " [1, 0, 1, True, 'Benar'],\n",
              " [1, 1, 2, True, 'Benar']]"
            ]
          },
          "metadata": {
            "tags": []
          },
          "execution_count": 31
        }
      ]
    },
    {
      "cell_type": "markdown",
      "metadata": {
        "id": "mPRFo8ZZLGp-"
      },
      "source": [
        "Train neural Network"
      ]
    },
    {
      "cell_type": "code",
      "metadata": {
        "id": "KaW8ZOLgLIgV"
      },
      "source": [
        "import numpy as np\n",
        "def sigmoid(x):\n",
        "  return 1/(1+np.exp(-x))"
      ],
      "execution_count": 32,
      "outputs": []
    },
    {
      "cell_type": "code",
      "metadata": {
        "id": "QJOVlmoOLR_A"
      },
      "source": [
        "def output_net(features, weights, bias):\n",
        "  y_pred = sigmoid(np.matmul(features,weights)+bias)\n",
        "  return y_pred"
      ],
      "execution_count": 33,
      "outputs": []
    },
    {
      "cell_type": "code",
      "metadata": {
        "id": "mb4rypX7MLMK"
      },
      "source": [
        "def loss_function(y,output):\n",
        "  error = -(y * np.log10(output) + (1-y)*np.log10(1-output))\n",
        "  return error"
      ],
      "execution_count": 49,
      "outputs": []
    },
    {
      "cell_type": "code",
      "metadata": {
        "id": "0NOKq5zqMfW3"
      },
      "source": [
        "def update_weights(x,y,weights, bias, alpha):\n",
        "  output = output_net(x, weights, bias)\n",
        "  new_weights = weights + alpha*(y-output)*x\n",
        "  new_bias = bias + alpha*(y-output)\n",
        "  return new_weights,new_bias"
      ],
      "execution_count": 50,
      "outputs": []
    },
    {
      "cell_type": "code",
      "metadata": {
        "id": "GxuqT5w_NKx4"
      },
      "source": [
        "def train(features,targets,epochs,alpha, graph_line=False):\n",
        "  n_records, n_features = features.shape\n",
        "  #inisiasi weight\n",
        "  weights = np.random.normal(scale=1/n_features**.5,size=n_features)\n",
        "\n",
        "  errors = []\n",
        "  last_loss = None\n",
        "  bias = 0\n",
        "\n",
        "  for e in range(epochs):\n",
        "    del_w = np.zeros(weights.shape)\n",
        "    for x,y in zip (features,targets):\n",
        "      output = output_net(x,weights,bias)\n",
        "      error = loss_function(y, output)\n",
        "      weights, bias = update_weights(x,y,weights,bias,alpha)\n",
        "\n",
        "      # print loss\n",
        "      out = output_net(features,weights,bias)\n",
        "      loss = np.mean(loss_function(targets, out))\n",
        "      errors.append(loss)\n",
        "\n",
        "      if e % (epochs / 10) == 0:\n",
        "        print(\"=\"*10, e, \"=\"*10)\n",
        "        if last_loss and last_loss < loss:\n",
        "          print(\"[WARNING] LOSS INCREASING\")\n",
        "        else:\n",
        "            print(\"Train Loss :\", loss)\n",
        "            last_loss = loss\n",
        "            prediction = out > 0.5\n",
        "            accuracy = np.mean(prediction == targets)\n",
        "            print(\"Acc :\",accuracy)\n"
      ],
      "execution_count": 51,
      "outputs": []
    },
    {
      "cell_type": "code",
      "metadata": {
        "colab": {
          "base_uri": "https://localhost:8080/"
        },
        "id": "2-ckpa7zPwsV",
        "outputId": "a5e0f745-afb9-46fe-84e4-37f102432d4e"
      },
      "source": [
        "epochs = 100\n",
        "alpha = 0.001\n",
        "X = np.array([[0,0],[0,1],[1,0],[1,1]])\n",
        "y = np.array([0,1,1,1])\n",
        "train(X,y,epochs,alpha)"
      ],
      "execution_count": 52,
      "outputs": [
        {
          "output_type": "stream",
          "text": [
            "========== 0 ==========\n",
            "Train Loss : 0.29039183299958743\n",
            "Acc : 0.75\n",
            "========== 0 ==========\n",
            "Train Loss : 0.29033006540918\n",
            "Acc : 0.75\n",
            "========== 0 ==========\n",
            "Train Loss : 0.2901964376609927\n",
            "Acc : 0.5\n",
            "========== 0 ==========\n",
            "Train Loss : 0.2900606138767241\n",
            "Acc : 0.5\n",
            "========== 10 ==========\n",
            "Train Loss : 0.28760787929221265\n",
            "Acc : 0.5\n",
            "========== 10 ==========\n",
            "Train Loss : 0.2875478081653168\n",
            "Acc : 0.5\n",
            "========== 10 ==========\n",
            "Train Loss : 0.28741711203053133\n",
            "Acc : 0.5\n",
            "========== 10 ==========\n",
            "Train Loss : 0.2872852361052298\n",
            "Acc : 0.5\n",
            "========== 20 ==========\n",
            "Train Loss : 0.2849012964993891\n",
            "Acc : 0.5\n",
            "========== 20 ==========\n",
            "Train Loss : 0.284842867072857\n",
            "Acc : 0.5\n",
            "========== 20 ==========\n",
            "Train Loss : 0.28471503362083694\n",
            "Acc : 0.5\n",
            "========== 20 ==========\n",
            "Train Loss : 0.2845869822973681\n",
            "Acc : 0.5\n",
            "========== 30 ==========\n",
            "Train Loss : 0.2822696760692513\n",
            "Acc : 0.5\n",
            "========== 30 ==========\n",
            "Train Loss : 0.2822128353475063\n",
            "Acc : 0.5\n",
            "========== 30 ==========\n",
            "Train Loss : 0.28208779674883216\n",
            "Acc : 0.5\n",
            "========== 30 ==========\n",
            "Train Loss : 0.281963449869815\n",
            "Acc : 0.5\n",
            "========== 40 ==========\n",
            "Train Loss : 0.2797106730913236\n",
            "Acc : 0.5\n",
            "========== 40 ==========\n",
            "Train Loss : 0.27965536980706895\n",
            "Acc : 0.5\n",
            "========== 40 ==========\n",
            "Train Loss : 0.2795330593724781\n",
            "Acc : 0.5\n",
            "========== 40 ==========\n",
            "Train Loss : 0.2794122999021681\n",
            "Acc : 0.5\n",
            "========== 50 ==========\n",
            "Train Loss : 0.2772220061457136\n",
            "Acc : 0.5\n",
            "========== 50 ==========\n",
            "Train Loss : 0.27716819071932614\n",
            "Acc : 0.5\n",
            "========== 50 ==========\n",
            "Train Loss : 0.2770485429327409\n",
            "Acc : 0.5\n",
            "========== 50 ==========\n",
            "Train Loss : 0.27693125696676885\n",
            "Acc : 0.5\n",
            "========== 60 ==========\n",
            "Train Loss : 0.2748014569778595\n",
            "Acc : 0.5\n",
            "========== 60 ==========\n",
            "Train Loss : 0.27474908147575655\n",
            "Acc : 0.5\n",
            "========== 60 ==========\n",
            "Train Loss : 0.27463203202178077\n",
            "Acc : 0.5\n",
            "========== 60 ==========\n",
            "Train Loss : 0.2745181087858842\n",
            "Acc : 0.5\n",
            "========== 70 ==========\n",
            "Train Loss : 0.27244687001662926\n",
            "Acc : 0.5\n",
            "========== 70 ==========\n",
            "Train Loss : 0.2723958881088734\n",
            "Acc : 0.5\n",
            "========== 70 ==========\n",
            "Train Loss : 0.2722813738951293\n",
            "Acc : 0.5\n",
            "========== 70 ==========\n",
            "Train Loss : 0.27217070573396496\n",
            "Acc : 0.5\n",
            "========== 80 ==========\n",
            "Train Loss : 0.27015615175265323\n",
            "Acc : 0.5\n",
            "========== 80 ==========\n",
            "Train Loss : 0.27010651867003194\n",
            "Acc : 0.5\n",
            "========== 80 ==========\n",
            "Train Loss : 0.26999447784470576\n",
            "Acc : 0.5\n",
            "========== 80 ==========\n",
            "Train Loss : 0.2698869602017762\n",
            "Acc : 0.5\n",
            "========== 90 ==========\n",
            "Train Loss : 0.26792726999281863\n",
            "Acc : 0.5\n",
            "========== 90 ==========\n",
            "Train Loss : 0.26787894248361493\n",
            "Acc : 0.5\n",
            "========== 90 ==========\n",
            "Train Loss : 0.2677693144485653\n",
            "Acc : 0.5\n",
            "========== 90 ==========\n",
            "Train Loss : 0.26766484583823613\n",
            "Acc : 0.5\n"
          ],
          "name": "stdout"
        }
      ]
    }
  ]
}