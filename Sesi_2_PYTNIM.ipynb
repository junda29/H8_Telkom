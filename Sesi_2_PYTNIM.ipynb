{
  "nbformat": 4,
  "nbformat_minor": 0,
  "metadata": {
    "colab": {
      "name": "Sesi_2_PYTNIM.ipynb",
      "provenance": [],
      "authorship_tag": "ABX9TyPuzhtAhjumPPmTf54jZT/I",
      "include_colab_link": true
    },
    "kernelspec": {
      "name": "python3",
      "display_name": "Python 3"
    },
    "language_info": {
      "name": "python"
    }
  },
  "cells": [
    {
      "cell_type": "markdown",
      "metadata": {
        "id": "view-in-github",
        "colab_type": "text"
      },
      "source": [
        "<a href=\"https://colab.research.google.com/github/junda29/H8_Telkom/blob/master/Sesi_2_PYTNIM.ipynb\" target=\"_parent\"><img src=\"https://colab.research.google.com/assets/colab-badge.svg\" alt=\"Open In Colab\"/></a>"
      ]
    },
    {
      "cell_type": "code",
      "metadata": {
        "id": "nnsEE_IIrPDk"
      },
      "source": [
        "import tensorflow as tf"
      ],
      "execution_count": 2,
      "outputs": []
    },
    {
      "cell_type": "code",
      "metadata": {
        "colab": {
          "base_uri": "https://localhost:8080/",
          "height": 35
        },
        "id": "9DRwqv1Ytp9E",
        "outputId": "dcccf6ad-9111-4e56-ec05-abd6cce23487"
      },
      "source": [
        "tf.__version__"
      ],
      "execution_count": 3,
      "outputs": [
        {
          "output_type": "execute_result",
          "data": {
            "application/vnd.google.colaboratory.intrinsic+json": {
              "type": "string"
            },
            "text/plain": [
              "'2.4.1'"
            ]
          },
          "metadata": {
            "tags": []
          },
          "execution_count": 3
        }
      ]
    },
    {
      "cell_type": "code",
      "metadata": {
        "colab": {
          "base_uri": "https://localhost:8080/"
        },
        "id": "DLkSBbd-ttL4",
        "outputId": "a76d6e81-3456-4dc2-979f-e6b452140493"
      },
      "source": [
        "tf.constant(3, dtype=tf.int64) #64"
      ],
      "execution_count": 4,
      "outputs": [
        {
          "output_type": "execute_result",
          "data": {
            "text/plain": [
              "<tf.Tensor: shape=(), dtype=int64, numpy=3>"
            ]
          },
          "metadata": {
            "tags": []
          },
          "execution_count": 4
        }
      ]
    },
    {
      "cell_type": "code",
      "metadata": {
        "colab": {
          "base_uri": "https://localhost:8080/"
        },
        "id": "KO5bARNPt0CL",
        "outputId": "f34cc939-9474-4c3c-c6ea-ae0a8ad7d013"
      },
      "source": [
        "tf.constant([3, 5], dtype=tf.int32)"
      ],
      "execution_count": 6,
      "outputs": [
        {
          "output_type": "execute_result",
          "data": {
            "text/plain": [
              "<tf.Tensor: shape=(2,), dtype=int32, numpy=array([3, 5], dtype=int32)>"
            ]
          },
          "metadata": {
            "tags": []
          },
          "execution_count": 6
        }
      ]
    },
    {
      "cell_type": "code",
      "metadata": {
        "colab": {
          "base_uri": "https://localhost:8080/"
        },
        "id": "diRo5PwYufOt",
        "outputId": "193455e0-b349-4414-f532-d4cc361110b1"
      },
      "source": [
        "b = tf.constant([3, 5], dtype=tf.int32)\n",
        "b.ndim"
      ],
      "execution_count": 7,
      "outputs": [
        {
          "output_type": "execute_result",
          "data": {
            "text/plain": [
              "1"
            ]
          },
          "metadata": {
            "tags": []
          },
          "execution_count": 7
        }
      ]
    },
    {
      "cell_type": "code",
      "metadata": {
        "colab": {
          "base_uri": "https://localhost:8080/"
        },
        "id": "1qELAMl1u-Wn",
        "outputId": "3a6170a3-cac1-470f-a9e9-20c78d7e0d99"
      },
      "source": [
        "tf.constant([[2,5,8],\n",
        "             [4,1,7]], dtype=tf.int64)"
      ],
      "execution_count": 8,
      "outputs": [
        {
          "output_type": "execute_result",
          "data": {
            "text/plain": [
              "<tf.Tensor: shape=(2, 3), dtype=int64, numpy=\n",
              "array([[2, 5, 8],\n",
              "       [4, 1, 7]])>"
            ]
          },
          "metadata": {
            "tags": []
          },
          "execution_count": 8
        }
      ]
    },
    {
      "cell_type": "code",
      "metadata": {
        "id": "TVDumcJ-vrea"
      },
      "source": [
        "# bikin tensor 2 dimensi untuk row vector, column vector, dan square vectors, n=3"
      ],
      "execution_count": 9,
      "outputs": []
    },
    {
      "cell_type": "code",
      "metadata": {
        "colab": {
          "base_uri": "https://localhost:8080/"
        },
        "id": "EcPyeFJXv5kk",
        "outputId": "8e9882f6-2d39-4956-c6f0-4f447d7c2d3f"
      },
      "source": [
        "tf.constant([1,2,3], dtype=tf.int64) #vektor"
      ],
      "execution_count": 11,
      "outputs": [
        {
          "output_type": "execute_result",
          "data": {
            "text/plain": [
              "<tf.Tensor: shape=(3,), dtype=int64, numpy=array([1, 2, 3])>"
            ]
          },
          "metadata": {
            "tags": []
          },
          "execution_count": 11
        }
      ]
    },
    {
      "cell_type": "code",
      "metadata": {
        "colab": {
          "base_uri": "https://localhost:8080/"
        },
        "id": "CUT8KdQoxIRm",
        "outputId": "ae8174be-4abd-473b-8f7d-0321c160ee3a"
      },
      "source": [
        "tf.constant([[1,2,3]], dtype=tf.int64) #matriks 2 dimensi"
      ],
      "execution_count": 22,
      "outputs": [
        {
          "output_type": "execute_result",
          "data": {
            "text/plain": [
              "<tf.Tensor: shape=(1, 3), dtype=int64, numpy=array([[1, 2, 3]])>"
            ]
          },
          "metadata": {
            "tags": []
          },
          "execution_count": 22
        }
      ]
    },
    {
      "cell_type": "code",
      "metadata": {
        "colab": {
          "base_uri": "https://localhost:8080/"
        },
        "id": "goMIspgHwEE_",
        "outputId": "897401ea-7fe8-48a5-dec0-348c91ea6d06"
      },
      "source": [
        "tf.constant([[1],\n",
        "             [2],\n",
        "             [3]], dtype=tf.int64)"
      ],
      "execution_count": 19,
      "outputs": [
        {
          "output_type": "execute_result",
          "data": {
            "text/plain": [
              "<tf.Tensor: shape=(3, 1), dtype=int64, numpy=\n",
              "array([[1],\n",
              "       [2],\n",
              "       [3]])>"
            ]
          },
          "metadata": {
            "tags": []
          },
          "execution_count": 19
        }
      ]
    },
    {
      "cell_type": "code",
      "metadata": {
        "colab": {
          "base_uri": "https://localhost:8080/"
        },
        "id": "GTGa3M2Kwrhl",
        "outputId": "d352dcf9-ad6b-48f5-9f25-c933724017d3"
      },
      "source": [
        "tf.constant([[1,2,3],\n",
        "             [4,5,6],\n",
        "             [7,8,9]], dtype=tf.int64)"
      ],
      "execution_count": 21,
      "outputs": [
        {
          "output_type": "execute_result",
          "data": {
            "text/plain": [
              "<tf.Tensor: shape=(3, 3), dtype=int64, numpy=\n",
              "array([[1, 2, 3],\n",
              "       [4, 5, 6],\n",
              "       [7, 8, 9]])>"
            ]
          },
          "metadata": {
            "tags": []
          },
          "execution_count": 21
        }
      ]
    },
    {
      "cell_type": "code",
      "metadata": {
        "id": "HdkgMbWxxX-T"
      },
      "source": [
        "# tensor 3 dimensi ukuran 3,2,4"
      ],
      "execution_count": 23,
      "outputs": []
    },
    {
      "cell_type": "code",
      "metadata": {
        "colab": {
          "base_uri": "https://localhost:8080/"
        },
        "id": "6oabpkwxyVXh",
        "outputId": "88fb6efb-a347-49c4-a3af-9e17c7fa5a7a"
      },
      "source": [
        "tf.constant([\n",
        "             [\n",
        "             [1,2,13,14],\n",
        "              [3,4,15,16]\n",
        "             ],\n",
        "             [\n",
        "              [5,6,17,18],\n",
        "              [7,8,19,20]\n",
        "             ],\n",
        "             [\n",
        "             [9,10,21,22],\n",
        "             [11,12,23,24]\n",
        "             ]\n",
        "])"
      ],
      "execution_count": 33,
      "outputs": [
        {
          "output_type": "execute_result",
          "data": {
            "text/plain": [
              "<tf.Tensor: shape=(3, 2, 4), dtype=int32, numpy=\n",
              "array([[[ 1,  2, 13, 14],\n",
              "        [ 3,  4, 15, 16]],\n",
              "\n",
              "       [[ 5,  6, 17, 18],\n",
              "        [ 7,  8, 19, 20]],\n",
              "\n",
              "       [[ 9, 10, 21, 22],\n",
              "        [11, 12, 23, 24]]], dtype=int32)>"
            ]
          },
          "metadata": {
            "tags": []
          },
          "execution_count": 33
        }
      ]
    },
    {
      "cell_type": "code",
      "metadata": {
        "id": "TNCc-R7H2ol7"
      },
      "source": [
        "#operasi tensor flow"
      ],
      "execution_count": null,
      "outputs": []
    },
    {
      "cell_type": "code",
      "metadata": {
        "colab": {
          "base_uri": "https://localhost:8080/"
        },
        "id": "6-JaGpdc2q0B",
        "outputId": "c0c9cc0e-2bca-43bb-e680-550be1a68b70"
      },
      "source": [
        "a = tf.constant([3,2,1])\n",
        "b = tf.constant([7,3,2])\n",
        "tf.add(a,b)"
      ],
      "execution_count": 34,
      "outputs": [
        {
          "output_type": "execute_result",
          "data": {
            "text/plain": [
              "<tf.Tensor: shape=(3,), dtype=int32, numpy=array([10,  5,  3], dtype=int32)>"
            ]
          },
          "metadata": {
            "tags": []
          },
          "execution_count": 34
        }
      ]
    },
    {
      "cell_type": "code",
      "metadata": {
        "colab": {
          "base_uri": "https://localhost:8080/"
        },
        "id": "ZZEQxjiD281V",
        "outputId": "fa7cce32-36bc-4154-8342-435c83b74768"
      },
      "source": [
        "a+b"
      ],
      "execution_count": 35,
      "outputs": [
        {
          "output_type": "execute_result",
          "data": {
            "text/plain": [
              "<tf.Tensor: shape=(3,), dtype=int32, numpy=array([10,  5,  3], dtype=int32)>"
            ]
          },
          "metadata": {
            "tags": []
          },
          "execution_count": 35
        }
      ]
    },
    {
      "cell_type": "code",
      "metadata": {
        "colab": {
          "base_uri": "https://localhost:8080/"
        },
        "id": "rNHRSyUy2_Rt",
        "outputId": "4ce401ef-9f9e-427b-f4d4-f2ebeabb65fd"
      },
      "source": [
        "tf.multiply(a,b)"
      ],
      "execution_count": 37,
      "outputs": [
        {
          "output_type": "execute_result",
          "data": {
            "text/plain": [
              "<tf.Tensor: shape=(3,), dtype=int32, numpy=array([21,  6,  2], dtype=int32)>"
            ]
          },
          "metadata": {
            "tags": []
          },
          "execution_count": 37
        }
      ]
    },
    {
      "cell_type": "code",
      "metadata": {
        "colab": {
          "base_uri": "https://localhost:8080/"
        },
        "id": "8bENErf92_Tx",
        "outputId": "012e20f3-7b5a-4c48-d0dd-01f5de4ffc32"
      },
      "source": [
        "a/b"
      ],
      "execution_count": 38,
      "outputs": [
        {
          "output_type": "execute_result",
          "data": {
            "text/plain": [
              "<tf.Tensor: shape=(3,), dtype=float64, numpy=array([0.42857143, 0.66666667, 0.5       ])>"
            ]
          },
          "metadata": {
            "tags": []
          },
          "execution_count": 38
        }
      ]
    },
    {
      "cell_type": "code",
      "metadata": {
        "colab": {
          "base_uri": "https://localhost:8080/"
        },
        "id": "5cqynRF03KX9",
        "outputId": "73e053c6-44b2-4e3e-e5b2-efe25acad958"
      },
      "source": [
        "a*b"
      ],
      "execution_count": 40,
      "outputs": [
        {
          "output_type": "execute_result",
          "data": {
            "text/plain": [
              "<tf.Tensor: shape=(3,), dtype=int32, numpy=array([21,  6,  2], dtype=int32)>"
            ]
          },
          "metadata": {
            "tags": []
          },
          "execution_count": 40
        }
      ]
    },
    {
      "cell_type": "code",
      "metadata": {
        "id": "d0cJBn-r36mN"
      },
      "source": [
        "#latihan coba nikin pertambahan matriks"
      ],
      "execution_count": null,
      "outputs": []
    },
    {
      "cell_type": "code",
      "metadata": {
        "colab": {
          "base_uri": "https://localhost:8080/"
        },
        "id": "rjG4UrUY4A3h",
        "outputId": "aef990c7-9cd4-4e85-fb71-d9dcc9789995"
      },
      "source": [
        "c=tf.constant(\n",
        "    [\n",
        "     [1,2],\n",
        "     [3,4]\n",
        "    ])\n",
        "c"
      ],
      "execution_count": 47,
      "outputs": [
        {
          "output_type": "execute_result",
          "data": {
            "text/plain": [
              "<tf.Tensor: shape=(2, 2), dtype=int32, numpy=\n",
              "array([[1, 2],\n",
              "       [3, 4]], dtype=int32)>"
            ]
          },
          "metadata": {
            "tags": []
          },
          "execution_count": 47
        }
      ]
    },
    {
      "cell_type": "code",
      "metadata": {
        "colab": {
          "base_uri": "https://localhost:8080/"
        },
        "id": "Xu9Rr6823_G7",
        "outputId": "f92fd349-34d0-46f0-9218-8f2be42a58f3"
      },
      "source": [
        "d=tf.constant(\n",
        "     [\n",
        "     [5,6],\n",
        "     [7,8]\n",
        "    ]\n",
        ")\n",
        "d"
      ],
      "execution_count": 48,
      "outputs": [
        {
          "output_type": "execute_result",
          "data": {
            "text/plain": [
              "<tf.Tensor: shape=(2, 2), dtype=int32, numpy=\n",
              "array([[5, 6],\n",
              "       [7, 8]], dtype=int32)>"
            ]
          },
          "metadata": {
            "tags": []
          },
          "execution_count": 48
        }
      ]
    },
    {
      "cell_type": "code",
      "metadata": {
        "colab": {
          "base_uri": "https://localhost:8080/"
        },
        "id": "GEGs5HLF4hpt",
        "outputId": "d2fab888-2a27-45a4-99ce-c7504714ce80"
      },
      "source": [
        "c+d"
      ],
      "execution_count": 49,
      "outputs": [
        {
          "output_type": "execute_result",
          "data": {
            "text/plain": [
              "<tf.Tensor: shape=(2, 2), dtype=int32, numpy=\n",
              "array([[ 6,  8],\n",
              "       [10, 12]], dtype=int32)>"
            ]
          },
          "metadata": {
            "tags": []
          },
          "execution_count": 49
        }
      ]
    },
    {
      "cell_type": "code",
      "metadata": {
        "colab": {
          "base_uri": "https://localhost:8080/"
        },
        "id": "XHczdbUk40rZ",
        "outputId": "a74b1332-8b0c-4140-f265-cd1b4f1a032a"
      },
      "source": [
        "c*d"
      ],
      "execution_count": 50,
      "outputs": [
        {
          "output_type": "execute_result",
          "data": {
            "text/plain": [
              "<tf.Tensor: shape=(2, 2), dtype=int32, numpy=\n",
              "array([[ 5, 12],\n",
              "       [21, 32]], dtype=int32)>"
            ]
          },
          "metadata": {
            "tags": []
          },
          "execution_count": 50
        }
      ]
    },
    {
      "cell_type": "code",
      "metadata": {
        "colab": {
          "base_uri": "https://localhost:8080/"
        },
        "id": "cYHrvPZ25ZcM",
        "outputId": "b4148f19-fb05-47ee-c020-92e99bc86909"
      },
      "source": [
        "tf.tensordot(c,d,axes=1)"
      ],
      "execution_count": 59,
      "outputs": [
        {
          "output_type": "execute_result",
          "data": {
            "text/plain": [
              "<tf.Tensor: shape=(2, 2), dtype=int32, numpy=\n",
              "array([[19, 22],\n",
              "       [43, 50]], dtype=int32)>"
            ]
          },
          "metadata": {
            "tags": []
          },
          "execution_count": 59
        }
      ]
    },
    {
      "cell_type": "code",
      "metadata": {
        "colab": {
          "base_uri": "https://localhost:8080/"
        },
        "id": "1GQlmU_c6N8l",
        "outputId": "4b316171-cbc4-459a-fa76-005b09da9faa"
      },
      "source": [
        "tf.matmul(c,d)"
      ],
      "execution_count": 60,
      "outputs": [
        {
          "output_type": "execute_result",
          "data": {
            "text/plain": [
              "<tf.Tensor: shape=(2, 2), dtype=int32, numpy=\n",
              "array([[19, 22],\n",
              "       [43, 50]], dtype=int32)>"
            ]
          },
          "metadata": {
            "tags": []
          },
          "execution_count": 60
        }
      ]
    },
    {
      "cell_type": "code",
      "metadata": {
        "colab": {
          "base_uri": "https://localhost:8080/"
        },
        "id": "SGQ6LJPz7Nso",
        "outputId": "28a6953c-987e-4148-f908-58f45d5e5ebb"
      },
      "source": [
        "e = tf.ones([4,4])\n",
        "e"
      ],
      "execution_count": 68,
      "outputs": [
        {
          "output_type": "execute_result",
          "data": {
            "text/plain": [
              "<tf.Tensor: shape=(4, 4), dtype=float32, numpy=\n",
              "array([[1., 1., 1., 1.],\n",
              "       [1., 1., 1., 1.],\n",
              "       [1., 1., 1., 1.],\n",
              "       [1., 1., 1., 1.]], dtype=float32)>"
            ]
          },
          "metadata": {
            "tags": []
          },
          "execution_count": 68
        }
      ]
    },
    {
      "cell_type": "code",
      "metadata": {
        "colab": {
          "base_uri": "https://localhost:8080/"
        },
        "id": "F_G_ClUE714c",
        "outputId": "be3e8f5c-e4d2-48ca-a123-19742672a144"
      },
      "source": [
        "tf.eye(3,4)"
      ],
      "execution_count": 70,
      "outputs": [
        {
          "output_type": "execute_result",
          "data": {
            "text/plain": [
              "<tf.Tensor: shape=(3, 4), dtype=float32, numpy=\n",
              "array([[1., 0., 0., 0.],\n",
              "       [0., 1., 0., 0.],\n",
              "       [0., 0., 1., 0.]], dtype=float32)>"
            ]
          },
          "metadata": {
            "tags": []
          },
          "execution_count": 70
        }
      ]
    },
    {
      "cell_type": "code",
      "metadata": {
        "colab": {
          "base_uri": "https://localhost:8080/"
        },
        "id": "xXAqh3_o8T61",
        "outputId": "5b6ab535-a0b2-4095-90d3-2a05c1dbfc3d"
      },
      "source": [
        "tf.sigmoid(2.0)"
      ],
      "execution_count": 74,
      "outputs": [
        {
          "output_type": "execute_result",
          "data": {
            "text/plain": [
              "<tf.Tensor: shape=(), dtype=float32, numpy=0.8807971>"
            ]
          },
          "metadata": {
            "tags": []
          },
          "execution_count": 74
        }
      ]
    },
    {
      "cell_type": "code",
      "metadata": {
        "colab": {
          "base_uri": "https://localhost:8080/"
        },
        "id": "wWvkSNNd89xC",
        "outputId": "f64f360f-cfb0-4357-dedf-1911d2bd2571"
      },
      "source": [
        "tf.sigmoid(10.0)"
      ],
      "execution_count": 75,
      "outputs": [
        {
          "output_type": "execute_result",
          "data": {
            "text/plain": [
              "<tf.Tensor: shape=(), dtype=float32, numpy=0.9999546>"
            ]
          },
          "metadata": {
            "tags": []
          },
          "execution_count": 75
        }
      ]
    },
    {
      "cell_type": "code",
      "metadata": {
        "colab": {
          "base_uri": "https://localhost:8080/"
        },
        "id": "bGi3KR0O9Uhc",
        "outputId": "77f34841-9e38-4f2a-e6e8-1ebaa3edd801"
      },
      "source": [
        "f = tf.constant([[1,3,5,6]])\n",
        "f"
      ],
      "execution_count": 76,
      "outputs": [
        {
          "output_type": "execute_result",
          "data": {
            "text/plain": [
              "<tf.Tensor: shape=(1, 4), dtype=int32, numpy=array([[1, 3, 5, 6]], dtype=int32)>"
            ]
          },
          "metadata": {
            "tags": []
          },
          "execution_count": 76
        }
      ]
    },
    {
      "cell_type": "code",
      "metadata": {
        "colab": {
          "base_uri": "https://localhost:8080/"
        },
        "id": "b2ZG0y3M9ill",
        "outputId": "8bb27cc0-a62d-42f6-b338-f18bd7315668"
      },
      "source": [
        "g = tf.reshape(f,[4,1])\n",
        "g"
      ],
      "execution_count": 78,
      "outputs": [
        {
          "output_type": "execute_result",
          "data": {
            "text/plain": [
              "<tf.Tensor: shape=(4, 1), dtype=int32, numpy=\n",
              "array([[1],\n",
              "       [3],\n",
              "       [5],\n",
              "       [6]], dtype=int32)>"
            ]
          },
          "metadata": {
            "tags": []
          },
          "execution_count": 78
        }
      ]
    },
    {
      "cell_type": "code",
      "metadata": {
        "colab": {
          "base_uri": "https://localhost:8080/"
        },
        "id": "_2GXXXfR_OeN",
        "outputId": "875bc3c9-1439-4113-ece3-2f6b98f540d4"
      },
      "source": [
        "tf.Variable([3,3])"
      ],
      "execution_count": 81,
      "outputs": [
        {
          "output_type": "execute_result",
          "data": {
            "text/plain": [
              "<tf.Variable 'Variable:0' shape=(2,) dtype=int32, numpy=array([3, 3], dtype=int32)>"
            ]
          },
          "metadata": {
            "tags": []
          },
          "execution_count": 81
        }
      ]
    },
    {
      "cell_type": "code",
      "metadata": {
        "colab": {
          "base_uri": "https://localhost:8080/"
        },
        "id": "JkVaxGBl_gF8",
        "outputId": "fc682cce-a593-4f43-961b-2cac898cd9b3"
      },
      "source": [
        "h = tf.Variable([[1,2],[3,4]])\n",
        "h"
      ],
      "execution_count": 83,
      "outputs": [
        {
          "output_type": "execute_result",
          "data": {
            "text/plain": [
              "<tf.Variable 'Variable:0' shape=(2, 2) dtype=int32, numpy=\n",
              "array([[1, 2],\n",
              "       [3, 4]], dtype=int32)>"
            ]
          },
          "metadata": {
            "tags": []
          },
          "execution_count": 83
        }
      ]
    },
    {
      "cell_type": "code",
      "metadata": {
        "colab": {
          "base_uri": "https://localhost:8080/"
        },
        "id": "B4c0J4CNBGEY",
        "outputId": "2fedae86-9122-470c-bd04-9f88a5331c22"
      },
      "source": [
        "c=tf.Variable(4.0)\n",
        "c"
      ],
      "execution_count": 102,
      "outputs": [
        {
          "output_type": "execute_result",
          "data": {
            "text/plain": [
              "<tf.Variable 'Variable:0' shape=() dtype=float32, numpy=4.0>"
            ]
          },
          "metadata": {
            "tags": []
          },
          "execution_count": 102
        }
      ]
    },
    {
      "cell_type": "code",
      "metadata": {
        "id": "azvLyOm__oYf"
      },
      "source": [
        "with tf.GradientTape() as tape:\n",
        "  y = c*c*c"
      ],
      "execution_count": 91,
      "outputs": []
    },
    {
      "cell_type": "code",
      "metadata": {
        "colab": {
          "base_uri": "https://localhost:8080/"
        },
        "id": "fSiNK4MHA24t",
        "outputId": "980df5ce-7c71-491d-9895-ba3ef32e2bc3"
      },
      "source": [
        "dy_dc = tape.gradient(y,c)\n",
        "dy_dc"
      ],
      "execution_count": 92,
      "outputs": [
        {
          "output_type": "execute_result",
          "data": {
            "text/plain": [
              "<tf.Tensor: shape=(), dtype=float32, numpy=48.0>"
            ]
          },
          "metadata": {
            "tags": []
          },
          "execution_count": 92
        }
      ]
    },
    {
      "cell_type": "code",
      "metadata": {
        "colab": {
          "base_uri": "https://localhost:8080/"
        },
        "id": "GpbUeJTuBsjs",
        "outputId": "f5aa277a-28f5-4fd9-bf0f-c33aca856fe9"
      },
      "source": [
        "d = tf.Variable(60.0)\n",
        "d"
      ],
      "execution_count": 101,
      "outputs": [
        {
          "output_type": "execute_result",
          "data": {
            "text/plain": [
              "<tf.Variable 'Variable:0' shape=() dtype=float32, numpy=60.0>"
            ]
          },
          "metadata": {
            "tags": []
          },
          "execution_count": 101
        }
      ]
    },
    {
      "cell_type": "code",
      "metadata": {
        "id": "9ubN4h91B500"
      },
      "source": [
        "with tf.GradientTape() as tape:\n",
        "  y1 = tf.sin(d)\n",
        "  y1"
      ],
      "execution_count": 107,
      "outputs": []
    },
    {
      "cell_type": "code",
      "metadata": {
        "colab": {
          "base_uri": "https://localhost:8080/"
        },
        "id": "NKMXZ4xADUaH",
        "outputId": "92eb9e63-3f23-4b0a-ff3c-0ae96a1592ca"
      },
      "source": [
        "y1"
      ],
      "execution_count": 109,
      "outputs": [
        {
          "output_type": "execute_result",
          "data": {
            "text/plain": [
              "<tf.Tensor: shape=(), dtype=float32, numpy=-0.3048106>"
            ]
          },
          "metadata": {
            "tags": []
          },
          "execution_count": 109
        }
      ]
    },
    {
      "cell_type": "code",
      "metadata": {
        "colab": {
          "base_uri": "https://localhost:8080/"
        },
        "id": "uZb0XPckCsRl",
        "outputId": "b336603f-813b-4fab-e43c-09cf5abadf55"
      },
      "source": [
        "dy_dc = tape.gradient(y1,d)\n",
        "dy_dc"
      ],
      "execution_count": 108,
      "outputs": [
        {
          "output_type": "execute_result",
          "data": {
            "text/plain": [
              "<tf.Tensor: shape=(), dtype=float32, numpy=-0.95241296>"
            ]
          },
          "metadata": {
            "tags": []
          },
          "execution_count": 108
        }
      ]
    },
    {
      "cell_type": "code",
      "metadata": {
        "colab": {
          "base_uri": "https://localhost:8080/"
        },
        "id": "IP-Z5FkyFKXG",
        "outputId": "d9f010ac-d395-4a73-ac47-4512a4911b2a"
      },
      "source": [
        "tf.cos(d)"
      ],
      "execution_count": 118,
      "outputs": [
        {
          "output_type": "execute_result",
          "data": {
            "text/plain": [
              "<tf.Tensor: shape=(), dtype=float32, numpy=-0.95241296>"
            ]
          },
          "metadata": {
            "tags": []
          },
          "execution_count": 118
        }
      ]
    },
    {
      "cell_type": "code",
      "metadata": {
        "colab": {
          "base_uri": "https://localhost:8080/"
        },
        "id": "gdt_JyMIEMCX",
        "outputId": "363d7f3a-fe38-4f8d-d881-58566227666d"
      },
      "source": [
        "h = tf.Variable(60.0)\n",
        "h"
      ],
      "execution_count": 119,
      "outputs": [
        {
          "output_type": "execute_result",
          "data": {
            "text/plain": [
              "<tf.Variable 'Variable:0' shape=() dtype=float32, numpy=60.0>"
            ]
          },
          "metadata": {
            "tags": []
          },
          "execution_count": 119
        }
      ]
    },
    {
      "cell_type": "code",
      "metadata": {
        "id": "gQWsaOqhEP1P"
      },
      "source": [
        "with tf.GradientTape() as tape:\n",
        "  y2 = 4*tf.sin(h)**3 + tf.cos(h)**2 + e**4\n",
        "  y2"
      ],
      "execution_count": 120,
      "outputs": []
    },
    {
      "cell_type": "code",
      "metadata": {
        "colab": {
          "base_uri": "https://localhost:8080/"
        },
        "id": "Fpfe41VsEcuD",
        "outputId": "467c1220-1581-4648-c429-2cafabe93f7d"
      },
      "source": [
        "dy_dc = tape.gradient(y2,h)\n",
        "dy_dc"
      ],
      "execution_count": 121,
      "outputs": [
        {
          "output_type": "execute_result",
          "data": {
            "text/plain": [
              "<tf.Tensor: shape=(), dtype=float32, numpy=-1.6424699>"
            ]
          },
          "metadata": {
            "tags": []
          },
          "execution_count": 121
        }
      ]
    },
    {
      "cell_type": "code",
      "metadata": {
        "id": "7ncBgiY8Fqfx"
      },
      "source": [
        "from tensorflow import keras\n",
        "from tensorflow.keras import layers\n",
        "import matplotlib.pyplot as plt\n",
        "import numpy as np\n",
        "import tensorflow as tf\n",
        "from sklearn.linear_model import LinearRegression\n",
        "from sklearn.metrics import mean_squared_error"
      ],
      "execution_count": 128,
      "outputs": []
    },
    {
      "cell_type": "code",
      "metadata": {
        "id": "Gp2sQYxFLNTd"
      },
      "source": [
        "celcius = np.array([-40,-10,0,8,15,22,38],dtype=float)\n",
        "Fahrenheit = np.array([-40,14,32,46,59,72,100],dtype=float)"
      ],
      "execution_count": 131,
      "outputs": []
    },
    {
      "cell_type": "code",
      "metadata": {
        "colab": {
          "base_uri": "https://localhost:8080/"
        },
        "id": "lyOys7xLLpyi",
        "outputId": "2c389a51-2916-4401-f96b-c2574586574d"
      },
      "source": [
        "for idx, degree in enumerate(celcius):\n",
        "  print(\"{} degrees Celcius = {} degress Fahrenheit\".format(degree,\n",
        "                                                            Fahrenheit[idx]))"
      ],
      "execution_count": 132,
      "outputs": [
        {
          "output_type": "stream",
          "text": [
            "-40.0 degrees Celcius = -40.0 degress Fahrenheit\n",
            "-10.0 degrees Celcius = 14.0 degress Fahrenheit\n",
            "0.0 degrees Celcius = 32.0 degress Fahrenheit\n",
            "8.0 degrees Celcius = 46.0 degress Fahrenheit\n",
            "15.0 degrees Celcius = 59.0 degress Fahrenheit\n",
            "22.0 degrees Celcius = 72.0 degress Fahrenheit\n",
            "38.0 degrees Celcius = 100.0 degress Fahrenheit\n"
          ],
          "name": "stdout"
        }
      ]
    },
    {
      "cell_type": "code",
      "metadata": {
        "id": "sGshPoeSHMex"
      },
      "source": [
        "# define Linear Regression in TensorFLow Manner"
      ],
      "execution_count": null,
      "outputs": []
    },
    {
      "cell_type": "code",
      "metadata": {
        "id": "oaq7JpkhNXdG"
      },
      "source": [
        "tf_model = tf.keras.Sequential([\n",
        "                                tf.keras.layers.Dense(units=1, input_shape=[1])\n",
        "])\n",
        "tf_model.compile(\n",
        "    loss=\"mean_squared_error\",\n",
        "    optimizer=tf.keras.optimizers.Adam(0.1)\n",
        ")"
      ],
      "execution_count": 133,
      "outputs": []
    },
    {
      "cell_type": "code",
      "metadata": {
        "id": "wxHtQaTvNxt_"
      },
      "source": [
        "# define linear Regression in Scikit-Learn manner"
      ],
      "execution_count": null,
      "outputs": []
    },
    {
      "cell_type": "code",
      "metadata": {
        "id": "--60bIYgN7OX"
      },
      "source": [
        "lr_model = LinearRegression()"
      ],
      "execution_count": 134,
      "outputs": []
    },
    {
      "cell_type": "code",
      "metadata": {
        "id": "HRK0S1N3OAkL"
      },
      "source": [
        "# train tf model"
      ],
      "execution_count": null,
      "outputs": []
    },
    {
      "cell_type": "code",
      "metadata": {
        "id": "xFZJFxL-ODLY"
      },
      "source": [
        "history = tf_model.fit(celcius,Fahrenheit, epochs=500, verbose=False)"
      ],
      "execution_count": 141,
      "outputs": []
    },
    {
      "cell_type": "code",
      "metadata": {
        "colab": {
          "base_uri": "https://localhost:8080/"
        },
        "id": "k9m33FstPN5O",
        "outputId": "4c043e42-1816-43b0-c000-537cc705cc19"
      },
      "source": [
        "tf_model.predict([34])"
      ],
      "execution_count": 143,
      "outputs": [
        {
          "output_type": "execute_result",
          "data": {
            "text/plain": [
              "array([[91.05087]], dtype=float32)"
            ]
          },
          "metadata": {
            "tags": []
          },
          "execution_count": 143
        }
      ]
    },
    {
      "cell_type": "code",
      "metadata": {
        "id": "XKYTdqG7VgiV"
      },
      "source": [
        "# plot gambar"
      ],
      "execution_count": null,
      "outputs": []
    },
    {
      "cell_type": "code",
      "metadata": {
        "colab": {
          "base_uri": "https://localhost:8080/",
          "height": 295
        },
        "id": "a3SJhkqHW5Ng",
        "outputId": "cffb4a0e-e5ab-43d5-fe64-b4e1e1605652"
      },
      "source": [
        "plt.xlabel(\"Epoch Label\")\n",
        "plt.ylabel(\"Loss\")\n",
        "plt.title(\"Error Plot\")\n",
        "plt.plot(history.history[\"loss\"])\n",
        "plt.show()"
      ],
      "execution_count": 146,
      "outputs": [
        {
          "output_type": "display_data",
          "data": {
            "image/png": "[encoded data removed]",
            "text/plain": [
              "<Figure size 432x288 with 1 Axes>"
            ]
          },
          "metadata": {
            "tags": [],
            "needs_background": "light"
          }
        }
      ]
    },
    {
      "cell_type": "code",
      "metadata": {
        "colab": {
          "base_uri": "https://localhost:8080/"
        },
        "id": "3isNbxfaZBo1",
        "outputId": "a756fdb8-e877-4ff6-d214-d46bdd315db8"
      },
      "source": [
        "print(\"TF model prediction of 100 degree celcius:\", tf_model.predict([100.0]))\n",
        "print(\"Scikit-learn model prediction of 100 degree celcius:\"),\n",
        "tf_model.predict([[100.0]])"
      ],
      "execution_count": 149,
      "outputs": [
        {
          "output_type": "stream",
          "text": [
            "TF model prediction of 100 degree celcius: [[211.3253]]\n",
            "Scikit-learn model prediction of 100 degree celcius:\n"
          ],
          "name": "stdout"
        },
        {
          "output_type": "execute_result",
          "data": {
            "text/plain": [
              "array([[211.3253]], dtype=float32)"
            ]
          },
          "metadata": {
            "tags": []
          },
          "execution_count": 149
        }
      ]
    }
  ]
}