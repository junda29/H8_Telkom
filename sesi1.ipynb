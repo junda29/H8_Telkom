{
  "nbformat": 4,
  "nbformat_minor": 0,
  "metadata": {
    "colab": {
      "name": "sesi1.ipynb",
      "provenance": [],
      "collapsed_sections": []
    },
    "kernelspec": {
      "name": "python3",
      "display_name": "Python 3"
    }
  },
  "cells": [
    {
      "cell_type": "markdown",
      "metadata": {
        "id": "PiM-aIpdlNMN"
      },
      "source": [
        "# Sesi 1"
      ]
    },
    {
      "cell_type": "markdown",
      "metadata": {
        "id": "XvMreWeTohxs"
      },
      "source": [
        "## Integer"
      ]
    },
    {
      "cell_type": "markdown",
      "metadata": {
        "id": "NzKqUgdspGpz"
      },
      "source": [
        ""
      ]
    },
    {
      "cell_type": "code",
      "metadata": {
        "colab": {
          "base_uri": "https://localhost:8080/"
        },
        "id": "SpI3rtvRksdh",
        "outputId": "e9480868-b238-447d-b03c-2f687962d958"
      },
      "source": [
        "print(10)\n",
        "print(type(10))"
      ],
      "execution_count": 6,
      "outputs": [
        {
          "output_type": "stream",
          "text": [
            "10\n",
            "<class 'int'>\n"
          ],
          "name": "stdout"
        }
      ]
    },
    {
      "cell_type": "markdown",
      "metadata": {
        "id": "AePbMfzrpHsH"
      },
      "source": [
        "## float"
      ]
    },
    {
      "cell_type": "code",
      "metadata": {
        "colab": {
          "base_uri": "https://localhost:8080/"
        },
        "id": "GuBla1-Spdcz",
        "outputId": "2c289333-d8ff-4d8a-80ac-9827cec6401b"
      },
      "source": [
        "print(4.2)\n",
        "print(type(4.2))"
      ],
      "execution_count": 8,
      "outputs": [
        {
          "output_type": "stream",
          "text": [
            "4.2\n",
            "<class 'float'>\n"
          ],
          "name": "stdout"
        }
      ]
    },
    {
      "cell_type": "markdown",
      "metadata": {
        "id": "ionDvV-0puaG"
      },
      "source": [
        "## String"
      ]
    },
    {
      "cell_type": "code",
      "metadata": {
        "colab": {
          "base_uri": "https://localhost:8080/"
        },
        "id": "ie8igERppwsU",
        "outputId": "0f381499-4c8f-483d-c3ec-7dabbaae22db"
      },
      "source": [
        "print('GGMU')\n",
        "print(type('GGMU'))"
      ],
      "execution_count": 9,
      "outputs": [
        {
          "output_type": "stream",
          "text": [
            "GGMU\n",
            "<class 'str'>\n"
          ],
          "name": "stdout"
        }
      ]
    },
    {
      "cell_type": "markdown",
      "metadata": {
        "id": "qPHlsE-ArZJJ"
      },
      "source": [
        "## Boolean"
      ]
    },
    {
      "cell_type": "code",
      "metadata": {
        "colab": {
          "base_uri": "https://localhost:8080/"
        },
        "id": "eINMFc2Trasa",
        "outputId": "d4b2ebb2-a3a6-409f-af0b-c7cc9a3c92aa"
      },
      "source": [
        "print(type(True))"
      ],
      "execution_count": 11,
      "outputs": [
        {
          "output_type": "stream",
          "text": [
            "<class 'bool'>\n"
          ],
          "name": "stdout"
        }
      ]
    },
    {
      "cell_type": "markdown",
      "metadata": {
        "id": "uNY-t_tIshMV"
      },
      "source": [
        "## Variable assignment"
      ]
    },
    {
      "cell_type": "code",
      "metadata": {
        "id": "gU9QBtzAsjTX"
      },
      "source": [
        "n = 300"
      ],
      "execution_count": 15,
      "outputs": []
    },
    {
      "cell_type": "code",
      "metadata": {
        "colab": {
          "base_uri": "https://localhost:8080/"
        },
        "id": "_CGq7osjtIHr",
        "outputId": "3744d40e-4a40-46d9-e747-8644f4f7fe68"
      },
      "source": [
        "print(type(n))"
      ],
      "execution_count": 16,
      "outputs": [
        {
          "output_type": "stream",
          "text": [
            "<class 'int'>\n"
          ],
          "name": "stdout"
        }
      ]
    },
    {
      "cell_type": "code",
      "metadata": {
        "colab": {
          "base_uri": "https://localhost:8080/"
        },
        "id": "4WRRibRstWii",
        "outputId": "08ef2453-350c-418f-b3ff-fbeee7a5fc95"
      },
      "source": [
        "print(n)"
      ],
      "execution_count": 17,
      "outputs": [
        {
          "output_type": "stream",
          "text": [
            "300\n"
          ],
          "name": "stdout"
        }
      ]
    },
    {
      "cell_type": "code",
      "metadata": {
        "id": "kRfAM5gMt3ru"
      },
      "source": [
        "n = a = b = 100"
      ],
      "execution_count": 20,
      "outputs": []
    },
    {
      "cell_type": "code",
      "metadata": {
        "id": "EVnsuhsRuBz0"
      },
      "source": [
        "m = b + 20"
      ],
      "execution_count": 24,
      "outputs": []
    },
    {
      "cell_type": "code",
      "metadata": {
        "colab": {
          "base_uri": "https://localhost:8080/"
        },
        "id": "DeGlzGR-uUnm",
        "outputId": "a1e9d5b8-308e-4aec-a677-9400a564c807"
      },
      "source": [
        "m"
      ],
      "execution_count": 25,
      "outputs": [
        {
          "output_type": "execute_result",
          "data": {
            "text/plain": [
              "120"
            ]
          },
          "metadata": {
            "tags": []
          },
          "execution_count": 25
        }
      ]
    },
    {
      "cell_type": "code",
      "metadata": {
        "id": "H2bkd5SSunu6"
      },
      "source": [
        "n = n + 10"
      ],
      "execution_count": 26,
      "outputs": []
    },
    {
      "cell_type": "code",
      "metadata": {
        "colab": {
          "base_uri": "https://localhost:8080/"
        },
        "id": "TFbWTV0Pusty",
        "outputId": "c4b98638-7531-49a1-f955-004334d46312"
      },
      "source": [
        "n"
      ],
      "execution_count": 27,
      "outputs": [
        {
          "output_type": "execute_result",
          "data": {
            "text/plain": [
              "110"
            ]
          },
          "metadata": {
            "tags": []
          },
          "execution_count": 27
        }
      ]
    },
    {
      "cell_type": "markdown",
      "metadata": {
        "id": "WBxPGwzHxXF1"
      },
      "source": [
        "## variable name"
      ]
    },
    {
      "cell_type": "code",
      "metadata": {
        "id": "z4cdxAAixaFr"
      },
      "source": [
        "nama_depan = 'Junda'\n",
        "usia = 26\n",
        "gender = 'Pria'"
      ],
      "execution_count": 34,
      "outputs": []
    },
    {
      "cell_type": "code",
      "metadata": {
        "colab": {
          "base_uri": "https://localhost:8080/"
        },
        "id": "vOX1prDExqMg",
        "outputId": "db965d14-8e0b-4fec-b5c9-95e545cb1b0c"
      },
      "source": [
        "print(nama_depan,usia,gender)"
      ],
      "execution_count": 35,
      "outputs": [
        {
          "output_type": "stream",
          "text": [
            "Junda 26 Pria\n"
          ],
          "name": "stdout"
        }
      ]
    },
    {
      "cell_type": "markdown",
      "metadata": {
        "id": "BF7VKkSUyr-j"
      },
      "source": [
        "## operator & expression in phyton"
      ]
    },
    {
      "cell_type": "code",
      "metadata": {
        "colab": {
          "base_uri": "https://localhost:8080/"
        },
        "id": "_OryGKNwzCak",
        "outputId": "43f8a348-b00a-42cf-aaeb-1cba29f3263b"
      },
      "source": [
        "print(type(10/5))"
      ],
      "execution_count": 38,
      "outputs": [
        {
          "output_type": "stream",
          "text": [
            "<class 'float'>\n"
          ],
          "name": "stdout"
        }
      ]
    },
    {
      "cell_type": "code",
      "metadata": {
        "id": "fw9v_CKX1ocv"
      },
      "source": [
        "comparison operator"
      ],
      "execution_count": null,
      "outputs": []
    },
    {
      "cell_type": "code",
      "metadata": {
        "id": "WzQl5VpJ1rYx"
      },
      "source": [
        "a = 1\n",
        "b = 2"
      ],
      "execution_count": 39,
      "outputs": []
    },
    {
      "cell_type": "code",
      "metadata": {
        "colab": {
          "base_uri": "https://localhost:8080/"
        },
        "id": "DCtj9vK01w8T",
        "outputId": "176108ab-1c2d-4c15-a40a-9ac39ddd8bbc"
      },
      "source": [
        "print(a == b)\n",
        "print(a < b)\n",
        "print (a > b)"
      ],
      "execution_count": 40,
      "outputs": [
        {
          "output_type": "stream",
          "text": [
            "False\n",
            "True\n",
            "False\n"
          ],
          "name": "stdout"
        }
      ]
    },
    {
      "cell_type": "markdown",
      "metadata": {
        "id": "CYI-F89824rs"
      },
      "source": [
        "## string manipulation"
      ]
    },
    {
      "cell_type": "code",
      "metadata": {
        "colab": {
          "base_uri": "https://localhost:8080/"
        },
        "id": "gWqoolil2_IJ",
        "outputId": "1eed96e7-fbc9-4926-c35a-dece5b483c11"
      },
      "source": [
        "a = 'Junda'\n",
        "b = 'Lutfi'\n",
        "c = 'Falastian'\n",
        "print(a + b + c)"
      ],
      "execution_count": 41,
      "outputs": [
        {
          "output_type": "stream",
          "text": [
            "JundaLutfiFalastian\n"
          ],
          "name": "stdout"
        }
      ]
    },
    {
      "cell_type": "code",
      "metadata": {
        "colab": {
          "base_uri": "https://localhost:8080/"
        },
        "id": "171Fo_Ax3cGQ",
        "outputId": "50931b47-ab5b-4dbe-a085-9c59c846f5ee"
      },
      "source": [
        "s = 'bar'\n",
        "print (s in 'sabar')\n",
        "print (s in 'huhu')"
      ],
      "execution_count": 43,
      "outputs": [
        {
          "output_type": "stream",
          "text": [
            "True\n",
            "False\n"
          ],
          "name": "stdout"
        }
      ]
    },
    {
      "cell_type": "code",
      "metadata": {
        "id": "_b0rjqmX3kXa"
      },
      "source": [
        ""
      ],
      "execution_count": null,
      "outputs": []
    },
    {
      "cell_type": "markdown",
      "metadata": {
        "id": "y0FNs4lA4X6x"
      },
      "source": [
        "## Phyton List"
      ]
    },
    {
      "cell_type": "code",
      "metadata": {
        "id": "kw4JfT8a4aUB"
      },
      "source": [
        "List = [1,2,3,4,5,6,7,8,9]"
      ],
      "execution_count": 72,
      "outputs": []
    },
    {
      "cell_type": "code",
      "metadata": {
        "colab": {
          "base_uri": "https://localhost:8080/"
        },
        "id": "BEnYG9N95uyN",
        "outputId": "9d2a61e6-775b-404d-d999-4cc86db57486"
      },
      "source": [
        "satu=print(List[0])"
      ],
      "execution_count": 47,
      "outputs": [
        {
          "output_type": "stream",
          "text": [
            "1\n"
          ],
          "name": "stdout"
        }
      ]
    },
    {
      "cell_type": "code",
      "metadata": {
        "colab": {
          "base_uri": "https://localhost:8080/"
        },
        "id": "my9OqeZk57Wm",
        "outputId": "daae3d81-443d-47d9-ddea-08793448a4dc"
      },
      "source": [
        "dua=print(List[1])"
      ],
      "execution_count": 51,
      "outputs": [
        {
          "output_type": "stream",
          "text": [
            "2\n"
          ],
          "name": "stdout"
        }
      ]
    },
    {
      "cell_type": "code",
      "metadata": {
        "colab": {
          "base_uri": "https://localhost:8080/"
        },
        "id": "R_u1ENbm6TFa",
        "outputId": "c0c4bc60-8e60-40a1-a2d1-5d59451c5b6a"
      },
      "source": [
        "List[5:9]"
      ],
      "execution_count": 60,
      "outputs": [
        {
          "output_type": "execute_result",
          "data": {
            "text/plain": [
              "[6, 7, 8, 9]"
            ]
          },
          "metadata": {
            "tags": []
          },
          "execution_count": 60
        }
      ]
    },
    {
      "cell_type": "code",
      "metadata": {
        "colab": {
          "base_uri": "https://localhost:8080/"
        },
        "id": "qfyvDsOO6wNY",
        "outputId": "4a6d35f2-504f-44a0-9ba6-771610e2bf9e"
      },
      "source": [
        "print(len(List))\n",
        "print(min(List))\n",
        "print(max(List))"
      ],
      "execution_count": 73,
      "outputs": [
        {
          "output_type": "stream",
          "text": [
            "9\n",
            "1\n",
            "9\n"
          ],
          "name": "stdout"
        }
      ]
    },
    {
      "cell_type": "code",
      "metadata": {
        "colab": {
          "base_uri": "https://localhost:8080/"
        },
        "id": "mLiWM22j9r9a",
        "outputId": "29c55b4e-8189-461c-f20c-0cd99607ddde"
      },
      "source": [
        "print(List)\n",
        "List[3]=100\n",
        "print(List)"
      ],
      "execution_count": 77,
      "outputs": [
        {
          "output_type": "stream",
          "text": [
            "[1, 2, 3, 4, 5, 6, 7, 8, 9]\n",
            "[1, 2, 3, 100, 5, 6, 7, 8, 9]\n"
          ],
          "name": "stdout"
        }
      ]
    },
    {
      "cell_type": "code",
      "metadata": {
        "colab": {
          "base_uri": "https://localhost:8080/"
        },
        "id": "v2RVBCo6_T2P",
        "outputId": "b494f5cc-097c-4e5a-8e7e-005931587adc"
      },
      "source": [
        "print(List[3])\n",
        "List[3:4]=[111,222]\n",
        "print(List)"
      ],
      "execution_count": 88,
      "outputs": [
        {
          "output_type": "stream",
          "text": [
            "[111, 222]\n",
            "[1, 2, 3, 111, 222, 5, 6, 7, 8, 9]\n"
          ],
          "name": "stdout"
        }
      ]
    },
    {
      "cell_type": "code",
      "metadata": {
        "colab": {
          "base_uri": "https://localhost:8080/"
        },
        "id": "v13cO-VP_Xes",
        "outputId": "90b80ccb-b15b-4bce-d54d-eb979c9a5bd5"
      },
      "source": [
        "List"
      ],
      "execution_count": 87,
      "outputs": [
        {
          "output_type": "execute_result",
          "data": {
            "text/plain": [
              "[1, 2, 3, [111, 222], 5, 6, 7, 8, 9]"
            ]
          },
          "metadata": {
            "tags": []
          },
          "execution_count": 87
        }
      ]
    },
    {
      "cell_type": "code",
      "metadata": {
        "id": "pbwA_QbsAIwn"
      },
      "source": [
        "Identitas = {\n",
        "    'nama': 'Junda',\n",
        "    'Umur':26,\n",
        "    'Gender':'Pria'\n",
        "}"
      ],
      "execution_count": 91,
      "outputs": []
    },
    {
      "cell_type": "code",
      "metadata": {
        "colab": {
          "base_uri": "https://localhost:8080/"
        },
        "id": "cQPI2YaYApwl",
        "outputId": "be277523-bd9d-429a-f8d3-aa595d61baec"
      },
      "source": [
        "print(Identitas['nama'])\n",
        "print(Identitas['Gender'])"
      ],
      "execution_count": 95,
      "outputs": [
        {
          "output_type": "stream",
          "text": [
            "Junda\n",
            "Pria\n"
          ],
          "name": "stdout"
        }
      ]
    },
    {
      "cell_type": "code",
      "metadata": {
        "id": "7YqUdFb4A1Du"
      },
      "source": [
        ""
      ],
      "execution_count": null,
      "outputs": []
    }
  ]
}