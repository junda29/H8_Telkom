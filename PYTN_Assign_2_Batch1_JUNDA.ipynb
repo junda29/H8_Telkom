{
 "cells": [
  {
   "cell_type": "markdown",
   "metadata": {},
   "source": [
    "# Statistic Descriptive dan Statistic Inferensi dari data Feedback e-Learning Telkom CorpU"
   ]
  },
  {
   "cell_type": "code",
   "execution_count": 66,
   "metadata": {},
   "outputs": [],
   "source": [
    "import pandas as pd\n",
    "import numpy as np\n",
    "import math\n",
    "import statistics\n",
    "import scipy.stats"
   ]
  },
  {
   "cell_type": "code",
   "execution_count": 67,
   "metadata": {},
   "outputs": [],
   "source": [
    "#data_feed_pelatihan = pd.read_csv('./dataset/Feedback_Lat_2020.csv')\n",
    "data_feed_elearn = pd.read_csv('./dataset/Feedback_ELearn_2020.csv')\n",
    "#data_elearn = pd.read_csv('./dataset/ELearn_2020.csv')"
   ]
  },
  {
   "cell_type": "markdown",
   "metadata": {},
   "source": [
    "# Project Rubric"
   ]
  },
  {
   "cell_type": "markdown",
   "metadata": {},
   "source": [
    "## Data Preprocessing"
   ]
  },
  {
   "cell_type": "code",
   "execution_count": 68,
   "metadata": {},
   "outputs": [
    {
     "data": {
      "text/html": [
       "<div>\n",
       "<style scoped>\n",
       "    .dataframe tbody tr th:only-of-type {\n",
       "        vertical-align: middle;\n",
       "    }\n",
       "\n",
       "    .dataframe tbody tr th {\n",
       "        vertical-align: top;\n",
       "    }\n",
       "\n",
       "    .dataframe thead th {\n",
       "        text-align: right;\n",
       "    }\n",
       "</style>\n",
       "<table border=\"1\" class=\"dataframe\">\n",
       "  <thead>\n",
       "    <tr style=\"text-align: right;\">\n",
       "      <th></th>\n",
       "      <th>Bulan</th>\n",
       "      <th>Course</th>\n",
       "      <th>Category</th>\n",
       "      <th>Jumlah Partisipan</th>\n",
       "      <th>Kecepatan pelayanan</th>\n",
       "      <th>Kemudahan fungsi fungsi untuk digunakan</th>\n",
       "      <th>Kemudahan nama situs untuk diingat</th>\n",
       "      <th>Kemudahan situs untuk dipahami</th>\n",
       "      <th>Kemudahan untuk dihubungi</th>\n",
       "      <th>Kemudahan untuk dipahami</th>\n",
       "      <th>Kenyamanan dalam mempelajari materi</th>\n",
       "      <th>Keramahan petugas</th>\n",
       "      <th>Manfaat terhadap tugas</th>\n",
       "      <th>Pengetahuan terhadap situs</th>\n",
       "      <th>Sistematika Penulisan</th>\n",
       "      <th>Tampilan situs</th>\n",
       "      <th>Final Score</th>\n",
       "    </tr>\n",
       "  </thead>\n",
       "  <tbody>\n",
       "    <tr>\n",
       "      <th>0</th>\n",
       "      <td>1</td>\n",
       "      <td>Fraud Klaim Asuransi</td>\n",
       "      <td>ADMEDIKA</td>\n",
       "      <td>1</td>\n",
       "      <td>100.00</td>\n",
       "      <td>100.00</td>\n",
       "      <td>0.00</td>\n",
       "      <td>100.00</td>\n",
       "      <td>100.00</td>\n",
       "      <td>70.00</td>\n",
       "      <td>100.00</td>\n",
       "      <td>100.00</td>\n",
       "      <td>100.00</td>\n",
       "      <td>100.00</td>\n",
       "      <td>100.00</td>\n",
       "      <td>100.00</td>\n",
       "      <td>89.17</td>\n",
       "    </tr>\n",
       "    <tr>\n",
       "      <th>1</th>\n",
       "      <td>1</td>\n",
       "      <td>Basic Procurement</td>\n",
       "      <td>Business Enabler / Enterprise Management (EL-EEM)</td>\n",
       "      <td>1</td>\n",
       "      <td>100.00</td>\n",
       "      <td>100.00</td>\n",
       "      <td>100.00</td>\n",
       "      <td>100.00</td>\n",
       "      <td>100.00</td>\n",
       "      <td>100.00</td>\n",
       "      <td>100.00</td>\n",
       "      <td>100.00</td>\n",
       "      <td>100.00</td>\n",
       "      <td>100.00</td>\n",
       "      <td>100.00</td>\n",
       "      <td>100.00</td>\n",
       "      <td>100.00</td>\n",
       "    </tr>\n",
       "    <tr>\n",
       "      <th>2</th>\n",
       "      <td>1</td>\n",
       "      <td>Paradigma Spiritual</td>\n",
       "      <td>Business Enabler / Enterprise Management (EL-EEM)</td>\n",
       "      <td>4</td>\n",
       "      <td>91.25</td>\n",
       "      <td>91.25</td>\n",
       "      <td>91.25</td>\n",
       "      <td>91.25</td>\n",
       "      <td>91.25</td>\n",
       "      <td>91.25</td>\n",
       "      <td>90.67</td>\n",
       "      <td>91.25</td>\n",
       "      <td>91.25</td>\n",
       "      <td>91.25</td>\n",
       "      <td>91.25</td>\n",
       "      <td>91.25</td>\n",
       "      <td>91.20</td>\n",
       "    </tr>\n",
       "    <tr>\n",
       "      <th>3</th>\n",
       "      <td>1</td>\n",
       "      <td>PMBOK</td>\n",
       "      <td>Business Enabler / Enterprise Management (EL-EEM)</td>\n",
       "      <td>10</td>\n",
       "      <td>88.11</td>\n",
       "      <td>87.43</td>\n",
       "      <td>89.47</td>\n",
       "      <td>88.11</td>\n",
       "      <td>89.47</td>\n",
       "      <td>88.11</td>\n",
       "      <td>86.67</td>\n",
       "      <td>88.95</td>\n",
       "      <td>91.50</td>\n",
       "      <td>89.47</td>\n",
       "      <td>87.78</td>\n",
       "      <td>88.33</td>\n",
       "      <td>88.62</td>\n",
       "    </tr>\n",
       "    <tr>\n",
       "      <th>4</th>\n",
       "      <td>1</td>\n",
       "      <td>Spiritual (Islam) Bekerja Ma allah</td>\n",
       "      <td>Business Enabler / Enterprise Management (EL-EEM)</td>\n",
       "      <td>2</td>\n",
       "      <td>90.00</td>\n",
       "      <td>90.00</td>\n",
       "      <td>90.00</td>\n",
       "      <td>90.00</td>\n",
       "      <td>90.00</td>\n",
       "      <td>90.00</td>\n",
       "      <td>90.00</td>\n",
       "      <td>90.00</td>\n",
       "      <td>90.00</td>\n",
       "      <td>90.00</td>\n",
       "      <td>90.00</td>\n",
       "      <td>90.00</td>\n",
       "      <td>90.00</td>\n",
       "    </tr>\n",
       "  </tbody>\n",
       "</table>\n",
       "</div>"
      ],
      "text/plain": [
       "   Bulan                              Course  \\\n",
       "0      1                Fraud Klaim Asuransi   \n",
       "1      1                   Basic Procurement   \n",
       "2      1                 Paradigma Spiritual   \n",
       "3      1                               PMBOK   \n",
       "4      1  Spiritual (Islam) Bekerja Ma allah   \n",
       "\n",
       "                                            Category Jumlah Partisipan  \\\n",
       "0                                           ADMEDIKA                 1   \n",
       "1  Business Enabler / Enterprise Management (EL-EEM)                 1   \n",
       "2  Business Enabler / Enterprise Management (EL-EEM)                 4   \n",
       "3  Business Enabler / Enterprise Management (EL-EEM)                10   \n",
       "4  Business Enabler / Enterprise Management (EL-EEM)                 2   \n",
       "\n",
       "   Kecepatan pelayanan  Kemudahan fungsi fungsi untuk digunakan  \\\n",
       "0               100.00                                   100.00   \n",
       "1               100.00                                   100.00   \n",
       "2                91.25                                    91.25   \n",
       "3                88.11                                    87.43   \n",
       "4                90.00                                    90.00   \n",
       "\n",
       "   Kemudahan nama situs untuk diingat  Kemudahan situs untuk dipahami  \\\n",
       "0                                0.00                          100.00   \n",
       "1                              100.00                          100.00   \n",
       "2                               91.25                           91.25   \n",
       "3                               89.47                           88.11   \n",
       "4                               90.00                           90.00   \n",
       "\n",
       "   Kemudahan untuk dihubungi  Kemudahan untuk dipahami  \\\n",
       "0                     100.00                     70.00   \n",
       "1                     100.00                    100.00   \n",
       "2                      91.25                     91.25   \n",
       "3                      89.47                     88.11   \n",
       "4                      90.00                     90.00   \n",
       "\n",
       "   Kenyamanan dalam mempelajari materi  Keramahan petugas  \\\n",
       "0                               100.00             100.00   \n",
       "1                               100.00             100.00   \n",
       "2                                90.67              91.25   \n",
       "3                                86.67              88.95   \n",
       "4                                90.00              90.00   \n",
       "\n",
       "   Manfaat terhadap tugas  Pengetahuan terhadap situs  Sistematika Penulisan  \\\n",
       "0                  100.00                      100.00                 100.00   \n",
       "1                  100.00                      100.00                 100.00   \n",
       "2                   91.25                       91.25                  91.25   \n",
       "3                   91.50                       89.47                  87.78   \n",
       "4                   90.00                       90.00                  90.00   \n",
       "\n",
       "   Tampilan situs  Final Score  \n",
       "0          100.00        89.17  \n",
       "1          100.00       100.00  \n",
       "2           91.25        91.20  \n",
       "3           88.33        88.62  \n",
       "4           90.00        90.00  "
      ]
     },
     "execution_count": 68,
     "metadata": {},
     "output_type": "execute_result"
    }
   ],
   "source": [
    "data_feed_elearn.head()"
   ]
  },
  {
   "cell_type": "code",
   "execution_count": 69,
   "metadata": {},
   "outputs": [
    {
     "name": "stdout",
     "output_type": "stream",
     "text": [
      "Column name\n",
      "Course 406\n",
      "Category 13\n",
      "Jumlah Partisipan 198\n"
     ]
    }
   ],
   "source": [
    "#First, let's check which columns should be categorical\n",
    "print('Column name')\n",
    "for col in data_feed_elearn.columns:\n",
    "    if data_feed_elearn[col].dtype=='object':\n",
    "        print(col, data_feed_elearn[col].nunique())"
   ]
  },
  {
   "cell_type": "code",
   "execution_count": 70,
   "metadata": {},
   "outputs": [
    {
     "name": "stdout",
     "output_type": "stream",
     "text": [
      "Empty DataFrame\n",
      "Columns: []\n",
      "Index: [percent missing, how many missing]\n"
     ]
    }
   ],
   "source": [
    "missing = data_feed_elearn.isnull().sum()/len(data_feed_elearn)*100\n",
    "\n",
    "print(pd.DataFrame([missing[missing>0],pd.Series(data_feed_elearn.isnull().sum()[data_feed_elearn.isnull().sum()>1000])], index=['percent missing','how many missing']))"
   ]
  },
  {
   "cell_type": "code",
   "execution_count": 71,
   "metadata": {},
   "outputs": [
    {
     "name": "stdout",
     "output_type": "stream",
     "text": [
      "0\n"
     ]
    },
    {
     "data": {
      "text/html": [
       "<div>\n",
       "<style scoped>\n",
       "    .dataframe tbody tr th:only-of-type {\n",
       "        vertical-align: middle;\n",
       "    }\n",
       "\n",
       "    .dataframe tbody tr th {\n",
       "        vertical-align: top;\n",
       "    }\n",
       "\n",
       "    .dataframe thead th {\n",
       "        text-align: right;\n",
       "    }\n",
       "</style>\n",
       "<table border=\"1\" class=\"dataframe\">\n",
       "  <thead>\n",
       "    <tr style=\"text-align: right;\">\n",
       "      <th></th>\n",
       "      <th>Bulan</th>\n",
       "      <th>Course</th>\n",
       "      <th>Category</th>\n",
       "      <th>Jumlah Partisipan</th>\n",
       "      <th>Kecepatan pelayanan</th>\n",
       "      <th>Kemudahan fungsi fungsi untuk digunakan</th>\n",
       "      <th>Kemudahan nama situs untuk diingat</th>\n",
       "      <th>Kemudahan situs untuk dipahami</th>\n",
       "      <th>Kemudahan untuk dihubungi</th>\n",
       "      <th>Kemudahan untuk dipahami</th>\n",
       "      <th>Kenyamanan dalam mempelajari materi</th>\n",
       "      <th>Keramahan petugas</th>\n",
       "      <th>Manfaat terhadap tugas</th>\n",
       "      <th>Pengetahuan terhadap situs</th>\n",
       "      <th>Sistematika Penulisan</th>\n",
       "      <th>Tampilan situs</th>\n",
       "      <th>Final Score</th>\n",
       "    </tr>\n",
       "  </thead>\n",
       "  <tbody>\n",
       "  </tbody>\n",
       "</table>\n",
       "</div>"
      ],
      "text/plain": [
       "Empty DataFrame\n",
       "Columns: [Bulan, Course, Category, Jumlah Partisipan, Kecepatan pelayanan, Kemudahan fungsi fungsi untuk digunakan, Kemudahan nama situs untuk diingat, Kemudahan situs untuk dipahami, Kemudahan untuk dihubungi, Kemudahan untuk dipahami, Kenyamanan dalam mempelajari materi, Keramahan petugas, Manfaat terhadap tugas, Pengetahuan terhadap situs, Sistematika Penulisan, Tampilan situs, Final Score]\n",
       "Index: []"
      ]
     },
     "execution_count": 71,
     "metadata": {},
     "output_type": "execute_result"
    }
   ],
   "source": [
    "print(sum(data_feed_elearn.duplicated()))\n",
    "\n",
    "data_feed_elearn[data_feed_elearn.duplicated(keep=False)].sort_values(['Course'])"
   ]
  },
  {
   "cell_type": "markdown",
   "metadata": {},
   "source": [
    "## Mean"
   ]
  },
  {
   "cell_type": "code",
   "execution_count": 72,
   "metadata": {},
   "outputs": [
    {
     "data": {
      "text/html": [
       "<div>\n",
       "<style scoped>\n",
       "    .dataframe tbody tr th:only-of-type {\n",
       "        vertical-align: middle;\n",
       "    }\n",
       "\n",
       "    .dataframe tbody tr th {\n",
       "        vertical-align: top;\n",
       "    }\n",
       "\n",
       "    .dataframe thead th {\n",
       "        text-align: right;\n",
       "    }\n",
       "</style>\n",
       "<table border=\"1\" class=\"dataframe\">\n",
       "  <thead>\n",
       "    <tr style=\"text-align: right;\">\n",
       "      <th></th>\n",
       "      <th>Bulan</th>\n",
       "      <th>Course</th>\n",
       "      <th>Category</th>\n",
       "      <th>Jumlah Partisipan</th>\n",
       "      <th>Kecepatan pelayanan</th>\n",
       "      <th>Kemudahan fungsi fungsi untuk digunakan</th>\n",
       "      <th>Kemudahan nama situs untuk diingat</th>\n",
       "      <th>Kemudahan situs untuk dipahami</th>\n",
       "      <th>Kemudahan untuk dihubungi</th>\n",
       "      <th>Kemudahan untuk dipahami</th>\n",
       "      <th>Kenyamanan dalam mempelajari materi</th>\n",
       "      <th>Keramahan petugas</th>\n",
       "      <th>Manfaat terhadap tugas</th>\n",
       "      <th>Pengetahuan terhadap situs</th>\n",
       "      <th>Sistematika Penulisan</th>\n",
       "      <th>Tampilan situs</th>\n",
       "      <th>Final Score</th>\n",
       "    </tr>\n",
       "  </thead>\n",
       "  <tbody>\n",
       "    <tr>\n",
       "      <th>0</th>\n",
       "      <td>1</td>\n",
       "      <td>Fraud Klaim Asuransi</td>\n",
       "      <td>ADMEDIKA</td>\n",
       "      <td>1</td>\n",
       "      <td>100.00</td>\n",
       "      <td>100.00</td>\n",
       "      <td>0.00</td>\n",
       "      <td>100.00</td>\n",
       "      <td>100.00</td>\n",
       "      <td>70.00</td>\n",
       "      <td>100.00</td>\n",
       "      <td>100.00</td>\n",
       "      <td>100.00</td>\n",
       "      <td>100.00</td>\n",
       "      <td>100.00</td>\n",
       "      <td>100.00</td>\n",
       "      <td>89.17</td>\n",
       "    </tr>\n",
       "    <tr>\n",
       "      <th>1</th>\n",
       "      <td>1</td>\n",
       "      <td>Basic Procurement</td>\n",
       "      <td>Business Enabler / Enterprise Management (EL-EEM)</td>\n",
       "      <td>1</td>\n",
       "      <td>100.00</td>\n",
       "      <td>100.00</td>\n",
       "      <td>100.00</td>\n",
       "      <td>100.00</td>\n",
       "      <td>100.00</td>\n",
       "      <td>100.00</td>\n",
       "      <td>100.00</td>\n",
       "      <td>100.00</td>\n",
       "      <td>100.00</td>\n",
       "      <td>100.00</td>\n",
       "      <td>100.00</td>\n",
       "      <td>100.00</td>\n",
       "      <td>100.00</td>\n",
       "    </tr>\n",
       "    <tr>\n",
       "      <th>2</th>\n",
       "      <td>1</td>\n",
       "      <td>Paradigma Spiritual</td>\n",
       "      <td>Business Enabler / Enterprise Management (EL-EEM)</td>\n",
       "      <td>4</td>\n",
       "      <td>91.25</td>\n",
       "      <td>91.25</td>\n",
       "      <td>91.25</td>\n",
       "      <td>91.25</td>\n",
       "      <td>91.25</td>\n",
       "      <td>91.25</td>\n",
       "      <td>90.67</td>\n",
       "      <td>91.25</td>\n",
       "      <td>91.25</td>\n",
       "      <td>91.25</td>\n",
       "      <td>91.25</td>\n",
       "      <td>91.25</td>\n",
       "      <td>91.20</td>\n",
       "    </tr>\n",
       "    <tr>\n",
       "      <th>3</th>\n",
       "      <td>1</td>\n",
       "      <td>PMBOK</td>\n",
       "      <td>Business Enabler / Enterprise Management (EL-EEM)</td>\n",
       "      <td>10</td>\n",
       "      <td>88.11</td>\n",
       "      <td>87.43</td>\n",
       "      <td>89.47</td>\n",
       "      <td>88.11</td>\n",
       "      <td>89.47</td>\n",
       "      <td>88.11</td>\n",
       "      <td>86.67</td>\n",
       "      <td>88.95</td>\n",
       "      <td>91.50</td>\n",
       "      <td>89.47</td>\n",
       "      <td>87.78</td>\n",
       "      <td>88.33</td>\n",
       "      <td>88.62</td>\n",
       "    </tr>\n",
       "    <tr>\n",
       "      <th>4</th>\n",
       "      <td>1</td>\n",
       "      <td>Spiritual (Islam) Bekerja Ma allah</td>\n",
       "      <td>Business Enabler / Enterprise Management (EL-EEM)</td>\n",
       "      <td>2</td>\n",
       "      <td>90.00</td>\n",
       "      <td>90.00</td>\n",
       "      <td>90.00</td>\n",
       "      <td>90.00</td>\n",
       "      <td>90.00</td>\n",
       "      <td>90.00</td>\n",
       "      <td>90.00</td>\n",
       "      <td>90.00</td>\n",
       "      <td>90.00</td>\n",
       "      <td>90.00</td>\n",
       "      <td>90.00</td>\n",
       "      <td>90.00</td>\n",
       "      <td>90.00</td>\n",
       "    </tr>\n",
       "  </tbody>\n",
       "</table>\n",
       "</div>"
      ],
      "text/plain": [
       "   Bulan                              Course  \\\n",
       "0      1                Fraud Klaim Asuransi   \n",
       "1      1                   Basic Procurement   \n",
       "2      1                 Paradigma Spiritual   \n",
       "3      1                               PMBOK   \n",
       "4      1  Spiritual (Islam) Bekerja Ma allah   \n",
       "\n",
       "                                            Category Jumlah Partisipan  \\\n",
       "0                                           ADMEDIKA                 1   \n",
       "1  Business Enabler / Enterprise Management (EL-EEM)                 1   \n",
       "2  Business Enabler / Enterprise Management (EL-EEM)                 4   \n",
       "3  Business Enabler / Enterprise Management (EL-EEM)                10   \n",
       "4  Business Enabler / Enterprise Management (EL-EEM)                 2   \n",
       "\n",
       "   Kecepatan pelayanan  Kemudahan fungsi fungsi untuk digunakan  \\\n",
       "0               100.00                                   100.00   \n",
       "1               100.00                                   100.00   \n",
       "2                91.25                                    91.25   \n",
       "3                88.11                                    87.43   \n",
       "4                90.00                                    90.00   \n",
       "\n",
       "   Kemudahan nama situs untuk diingat  Kemudahan situs untuk dipahami  \\\n",
       "0                                0.00                          100.00   \n",
       "1                              100.00                          100.00   \n",
       "2                               91.25                           91.25   \n",
       "3                               89.47                           88.11   \n",
       "4                               90.00                           90.00   \n",
       "\n",
       "   Kemudahan untuk dihubungi  Kemudahan untuk dipahami  \\\n",
       "0                     100.00                     70.00   \n",
       "1                     100.00                    100.00   \n",
       "2                      91.25                     91.25   \n",
       "3                      89.47                     88.11   \n",
       "4                      90.00                     90.00   \n",
       "\n",
       "   Kenyamanan dalam mempelajari materi  Keramahan petugas  \\\n",
       "0                               100.00             100.00   \n",
       "1                               100.00             100.00   \n",
       "2                                90.67              91.25   \n",
       "3                                86.67              88.95   \n",
       "4                                90.00              90.00   \n",
       "\n",
       "   Manfaat terhadap tugas  Pengetahuan terhadap situs  Sistematika Penulisan  \\\n",
       "0                  100.00                      100.00                 100.00   \n",
       "1                  100.00                      100.00                 100.00   \n",
       "2                   91.25                       91.25                  91.25   \n",
       "3                   91.50                       89.47                  87.78   \n",
       "4                   90.00                       90.00                  90.00   \n",
       "\n",
       "   Tampilan situs  Final Score  \n",
       "0          100.00        89.17  \n",
       "1          100.00       100.00  \n",
       "2           91.25        91.20  \n",
       "3           88.33        88.62  \n",
       "4           90.00        90.00  "
      ]
     },
     "execution_count": 72,
     "metadata": {},
     "output_type": "execute_result"
    }
   ],
   "source": [
    "data_feed_elearn.head()"
   ]
  },
  {
   "cell_type": "code",
   "execution_count": 73,
   "metadata": {},
   "outputs": [],
   "source": [
    "Kecepatan_pelayanan=data_feed_elearn['Kecepatan pelayanan']\n",
    "Kemudahan_fungsi_fungsi_untuk_digunakan=data_feed_elearn['Kemudahan fungsi fungsi untuk digunakan']\n",
    "Kemudahan_nama_situs_untuk_diingate=data_feed_elearn['Kemudahan nama situs untuk diingat']\n",
    "Kemudahan_situs_untuk_dipahami=data_feed_elearn['Kemudahan situs untuk dipahami']\n",
    "Kemudahan_untuk_dihubungi=data_feed_elearn['Kemudahan untuk dihubungi']\n",
    "Kemudahan_untuk_dipahami=data_feed_elearn['Kemudahan untuk dipahami']\n",
    "Kenyamanan_dalam_mempelajari_materi=data_feed_elearn['Kenyamanan dalam mempelajari materi']\n",
    "Keramahan_petugas=data_feed_elearn['Keramahan petugas']\n",
    "Manfaat_terhadap_tugas=data_feed_elearn['Manfaat terhadap tugas']\n",
    "Pengetahuan_terhadap_situs=data_feed_elearn['Pengetahuan terhadap situs']\n",
    "Sistematika_Penulisan=data_feed_elearn['Sistematika Penulisan']\n",
    "Tampilan_situs=data_feed_elearn['Tampilan situs']\n",
    "Final_Score=data_feed_elearn['Final Score']"
   ]
  },
  {
   "cell_type": "code",
   "execution_count": 74,
   "metadata": {},
   "outputs": [
    {
     "data": {
      "text/plain": [
       "0        89.17\n",
       "1       100.00\n",
       "2        91.20\n",
       "3        88.62\n",
       "4        90.00\n",
       "         ...  \n",
       "2565     91.68\n",
       "2566     96.30\n",
       "2567     90.85\n",
       "2568     91.74\n",
       "2569     91.02\n",
       "Name: Final Score, Length: 2570, dtype: float64"
      ]
     },
     "execution_count": 74,
     "metadata": {},
     "output_type": "execute_result"
    }
   ],
   "source": [
    "Final_Score"
   ]
  },
  {
   "cell_type": "code",
   "execution_count": 75,
   "metadata": {},
   "outputs": [],
   "source": [
    "mean_Kecepatan_pelayanan=statistics.mean(Kecepatan_pelayanan)\n",
    "mean_Kemudahan_fungsi_fungsi_untuk_digunakan=statistics.mean(Kemudahan_fungsi_fungsi_untuk_digunakan)\n",
    "mean_Kemudahan_nama_situs_untuk_diingate=statistics.mean(Kemudahan_nama_situs_untuk_diingate)\n",
    "mean_Kemudahan_situs_untuk_dipahami=statistics.mean(Kemudahan_situs_untuk_dipahami)\n",
    "mean_Kemudahan_untuk_dihubungi=statistics.mean(Kemudahan_untuk_dihubungi)\n",
    "mean_Kemudahan_untuk_dipahami=statistics.mean(Kemudahan_untuk_dipahami)\n",
    "mean_Kenyamanan_dalam_mempelajari_materi=statistics.mean(Kenyamanan_dalam_mempelajari_materi)\n",
    "mean_Keramahan_petugas=statistics.mean(Keramahan_petugas)\n",
    "mean_Manfaat_terhadap_tugas=statistics.mean(Manfaat_terhadap_tugas)\n",
    "mean_Pengetahuan_terhadap_situs=statistics.mean(Pengetahuan_terhadap_situs)\n",
    "mean_Sistematika_Penulisan=statistics.mean(Sistematika_Penulisan)\n",
    "mean_Tampilan_situs=statistics.mean(Tampilan_situs)\n",
    "mean_Final_Score=statistics.mean(Final_Score)"
   ]
  },
  {
   "cell_type": "code",
   "execution_count": 76,
   "metadata": {},
   "outputs": [
    {
     "name": "stdout",
     "output_type": "stream",
     "text": [
      "90.75810116731517\n",
      "92.33050972762646\n",
      "91.08625680933852\n"
     ]
    }
   ],
   "source": [
    "print(mean_Kecepatan_pelayanan)\n",
    "print(mean_Manfaat_terhadap_tugas)\n",
    "print(mean_Final_Score)"
   ]
  },
  {
   "cell_type": "markdown",
   "metadata": {},
   "source": [
    "## Median"
   ]
  },
  {
   "cell_type": "code",
   "execution_count": 77,
   "metadata": {},
   "outputs": [
    {
     "data": {
      "text/html": [
       "<div>\n",
       "<style scoped>\n",
       "    .dataframe tbody tr th:only-of-type {\n",
       "        vertical-align: middle;\n",
       "    }\n",
       "\n",
       "    .dataframe tbody tr th {\n",
       "        vertical-align: top;\n",
       "    }\n",
       "\n",
       "    .dataframe thead th {\n",
       "        text-align: right;\n",
       "    }\n",
       "</style>\n",
       "<table border=\"1\" class=\"dataframe\">\n",
       "  <thead>\n",
       "    <tr style=\"text-align: right;\">\n",
       "      <th></th>\n",
       "      <th>Bulan</th>\n",
       "      <th>Course</th>\n",
       "      <th>Category</th>\n",
       "      <th>Jumlah Partisipan</th>\n",
       "      <th>Kecepatan pelayanan</th>\n",
       "      <th>Kemudahan fungsi fungsi untuk digunakan</th>\n",
       "      <th>Kemudahan nama situs untuk diingat</th>\n",
       "      <th>Kemudahan situs untuk dipahami</th>\n",
       "      <th>Kemudahan untuk dihubungi</th>\n",
       "      <th>Kemudahan untuk dipahami</th>\n",
       "      <th>Kenyamanan dalam mempelajari materi</th>\n",
       "      <th>Keramahan petugas</th>\n",
       "      <th>Manfaat terhadap tugas</th>\n",
       "      <th>Pengetahuan terhadap situs</th>\n",
       "      <th>Sistematika Penulisan</th>\n",
       "      <th>Tampilan situs</th>\n",
       "      <th>Final Score</th>\n",
       "    </tr>\n",
       "  </thead>\n",
       "  <tbody>\n",
       "    <tr>\n",
       "      <th>0</th>\n",
       "      <td>1</td>\n",
       "      <td>Fraud Klaim Asuransi</td>\n",
       "      <td>ADMEDIKA</td>\n",
       "      <td>1</td>\n",
       "      <td>100.00</td>\n",
       "      <td>100.00</td>\n",
       "      <td>0.00</td>\n",
       "      <td>100.00</td>\n",
       "      <td>100.00</td>\n",
       "      <td>70.00</td>\n",
       "      <td>100.00</td>\n",
       "      <td>100.00</td>\n",
       "      <td>100.00</td>\n",
       "      <td>100.00</td>\n",
       "      <td>100.00</td>\n",
       "      <td>100.00</td>\n",
       "      <td>89.17</td>\n",
       "    </tr>\n",
       "    <tr>\n",
       "      <th>1</th>\n",
       "      <td>1</td>\n",
       "      <td>Basic Procurement</td>\n",
       "      <td>Business Enabler / Enterprise Management (EL-EEM)</td>\n",
       "      <td>1</td>\n",
       "      <td>100.00</td>\n",
       "      <td>100.00</td>\n",
       "      <td>100.00</td>\n",
       "      <td>100.00</td>\n",
       "      <td>100.00</td>\n",
       "      <td>100.00</td>\n",
       "      <td>100.00</td>\n",
       "      <td>100.00</td>\n",
       "      <td>100.00</td>\n",
       "      <td>100.00</td>\n",
       "      <td>100.00</td>\n",
       "      <td>100.00</td>\n",
       "      <td>100.00</td>\n",
       "    </tr>\n",
       "    <tr>\n",
       "      <th>2</th>\n",
       "      <td>1</td>\n",
       "      <td>Paradigma Spiritual</td>\n",
       "      <td>Business Enabler / Enterprise Management (EL-EEM)</td>\n",
       "      <td>4</td>\n",
       "      <td>91.25</td>\n",
       "      <td>91.25</td>\n",
       "      <td>91.25</td>\n",
       "      <td>91.25</td>\n",
       "      <td>91.25</td>\n",
       "      <td>91.25</td>\n",
       "      <td>90.67</td>\n",
       "      <td>91.25</td>\n",
       "      <td>91.25</td>\n",
       "      <td>91.25</td>\n",
       "      <td>91.25</td>\n",
       "      <td>91.25</td>\n",
       "      <td>91.20</td>\n",
       "    </tr>\n",
       "    <tr>\n",
       "      <th>3</th>\n",
       "      <td>1</td>\n",
       "      <td>PMBOK</td>\n",
       "      <td>Business Enabler / Enterprise Management (EL-EEM)</td>\n",
       "      <td>10</td>\n",
       "      <td>88.11</td>\n",
       "      <td>87.43</td>\n",
       "      <td>89.47</td>\n",
       "      <td>88.11</td>\n",
       "      <td>89.47</td>\n",
       "      <td>88.11</td>\n",
       "      <td>86.67</td>\n",
       "      <td>88.95</td>\n",
       "      <td>91.50</td>\n",
       "      <td>89.47</td>\n",
       "      <td>87.78</td>\n",
       "      <td>88.33</td>\n",
       "      <td>88.62</td>\n",
       "    </tr>\n",
       "    <tr>\n",
       "      <th>4</th>\n",
       "      <td>1</td>\n",
       "      <td>Spiritual (Islam) Bekerja Ma allah</td>\n",
       "      <td>Business Enabler / Enterprise Management (EL-EEM)</td>\n",
       "      <td>2</td>\n",
       "      <td>90.00</td>\n",
       "      <td>90.00</td>\n",
       "      <td>90.00</td>\n",
       "      <td>90.00</td>\n",
       "      <td>90.00</td>\n",
       "      <td>90.00</td>\n",
       "      <td>90.00</td>\n",
       "      <td>90.00</td>\n",
       "      <td>90.00</td>\n",
       "      <td>90.00</td>\n",
       "      <td>90.00</td>\n",
       "      <td>90.00</td>\n",
       "      <td>90.00</td>\n",
       "    </tr>\n",
       "  </tbody>\n",
       "</table>\n",
       "</div>"
      ],
      "text/plain": [
       "   Bulan                              Course  \\\n",
       "0      1                Fraud Klaim Asuransi   \n",
       "1      1                   Basic Procurement   \n",
       "2      1                 Paradigma Spiritual   \n",
       "3      1                               PMBOK   \n",
       "4      1  Spiritual (Islam) Bekerja Ma allah   \n",
       "\n",
       "                                            Category Jumlah Partisipan  \\\n",
       "0                                           ADMEDIKA                 1   \n",
       "1  Business Enabler / Enterprise Management (EL-EEM)                 1   \n",
       "2  Business Enabler / Enterprise Management (EL-EEM)                 4   \n",
       "3  Business Enabler / Enterprise Management (EL-EEM)                10   \n",
       "4  Business Enabler / Enterprise Management (EL-EEM)                 2   \n",
       "\n",
       "   Kecepatan pelayanan  Kemudahan fungsi fungsi untuk digunakan  \\\n",
       "0               100.00                                   100.00   \n",
       "1               100.00                                   100.00   \n",
       "2                91.25                                    91.25   \n",
       "3                88.11                                    87.43   \n",
       "4                90.00                                    90.00   \n",
       "\n",
       "   Kemudahan nama situs untuk diingat  Kemudahan situs untuk dipahami  \\\n",
       "0                                0.00                          100.00   \n",
       "1                              100.00                          100.00   \n",
       "2                               91.25                           91.25   \n",
       "3                               89.47                           88.11   \n",
       "4                               90.00                           90.00   \n",
       "\n",
       "   Kemudahan untuk dihubungi  Kemudahan untuk dipahami  \\\n",
       "0                     100.00                     70.00   \n",
       "1                     100.00                    100.00   \n",
       "2                      91.25                     91.25   \n",
       "3                      89.47                     88.11   \n",
       "4                      90.00                     90.00   \n",
       "\n",
       "   Kenyamanan dalam mempelajari materi  Keramahan petugas  \\\n",
       "0                               100.00             100.00   \n",
       "1                               100.00             100.00   \n",
       "2                                90.67              91.25   \n",
       "3                                86.67              88.95   \n",
       "4                                90.00              90.00   \n",
       "\n",
       "   Manfaat terhadap tugas  Pengetahuan terhadap situs  Sistematika Penulisan  \\\n",
       "0                  100.00                      100.00                 100.00   \n",
       "1                  100.00                      100.00                 100.00   \n",
       "2                   91.25                       91.25                  91.25   \n",
       "3                   91.50                       89.47                  87.78   \n",
       "4                   90.00                       90.00                  90.00   \n",
       "\n",
       "   Tampilan situs  Final Score  \n",
       "0          100.00        89.17  \n",
       "1          100.00       100.00  \n",
       "2           91.25        91.20  \n",
       "3           88.33        88.62  \n",
       "4           90.00        90.00  "
      ]
     },
     "execution_count": 77,
     "metadata": {},
     "output_type": "execute_result"
    }
   ],
   "source": [
    "data_feed_elearn.head()"
   ]
  },
  {
   "cell_type": "code",
   "execution_count": 78,
   "metadata": {},
   "outputs": [],
   "source": [
    "Kecepatan_pelayanan=data_feed_elearn['Kecepatan pelayanan']\n",
    "Kemudahan_fungsi_fungsi_untuk_digunakan=data_feed_elearn['Kemudahan fungsi fungsi untuk digunakan']\n",
    "Kemudahan_nama_situs_untuk_diingate=data_feed_elearn['Kemudahan nama situs untuk diingat']\n",
    "Kemudahan_situs_untuk_dipahami=data_feed_elearn['Kemudahan situs untuk dipahami']\n",
    "Kemudahan_untuk_dihubungi=data_feed_elearn['Kemudahan untuk dihubungi']\n",
    "Kemudahan_untuk_dipahami=data_feed_elearn['Kemudahan untuk dipahami']\n",
    "Kenyamanan_dalam_mempelajari_materi=data_feed_elearn['Kenyamanan dalam mempelajari materi']\n",
    "Keramahan_petugas=data_feed_elearn['Keramahan petugas']\n",
    "Manfaat_terhadap_tugas=data_feed_elearn['Manfaat terhadap tugas']\n",
    "Pengetahuan_terhadap_situs=data_feed_elearn['Pengetahuan terhadap situs']\n",
    "Sistematika_Penulisan=data_feed_elearn['Sistematika Penulisan']\n",
    "Tampilan_situs=data_feed_elearn['Tampilan situs']\n",
    "Final_Score=data_feed_elearn['Final Score']"
   ]
  },
  {
   "cell_type": "code",
   "execution_count": 79,
   "metadata": {},
   "outputs": [
    {
     "name": "stdout",
     "output_type": "stream",
     "text": [
      "0       100.00\n",
      "1       100.00\n",
      "2        91.25\n",
      "3        88.11\n",
      "4        90.00\n",
      "         ...  \n",
      "2565     91.32\n",
      "2566     94.80\n",
      "2567     90.59\n",
      "2568     91.36\n",
      "2569     90.90\n",
      "Name: Kecepatan pelayanan, Length: 2570, dtype: float64\n",
      "0        89.17\n",
      "1       100.00\n",
      "2        91.20\n",
      "3        88.62\n",
      "4        90.00\n",
      "         ...  \n",
      "2565     91.68\n",
      "2566     96.30\n",
      "2567     90.85\n",
      "2568     91.74\n",
      "2569     91.02\n",
      "Name: Final Score, Length: 2570, dtype: float64\n"
     ]
    }
   ],
   "source": [
    "print(Kecepatan_pelayanan)\n",
    "print(Final_Score)"
   ]
  },
  {
   "cell_type": "code",
   "execution_count": 80,
   "metadata": {},
   "outputs": [
    {
     "data": {
      "text/plain": [
       "(2570, 17)"
      ]
     },
     "execution_count": 80,
     "metadata": {},
     "output_type": "execute_result"
    }
   ],
   "source": [
    "data_feed_elearn.shape"
   ]
  },
  {
   "cell_type": "markdown",
   "metadata": {},
   "source": [
    "jumlah elemen adalah genap, maka akan mengunakan 2 median, yaitu median_low() dan median_high\n",
    "data akan digunakan pada variabel Kecepatan_pelayanan dan Final_Score"
   ]
  },
  {
   "cell_type": "code",
   "execution_count": 81,
   "metadata": {},
   "outputs": [
    {
     "name": "stdout",
     "output_type": "stream",
     "text": [
      "91.68\n",
      "91.69\n",
      "91.99\n",
      "91.99\n"
     ]
    }
   ],
   "source": [
    "median_low_Kecepatan_pelayanan=statistics.median_low(Kecepatan_pelayanan)\n",
    "print(median_low_Kecepatan_pelayanan)\n",
    "median_high_Kecepatan_pelayanan=statistics.median_high(Kecepatan_pelayanan)\n",
    "print(median_high_Kecepatan_pelayanan)\n",
    "median_low_Final_Score=statistics.median_low(Final_Score)\n",
    "print(median_low_Final_Score)\n",
    "median_high_Final_Score=statistics.median_high(Final_Score)\n",
    "print(median_high_Final_Score)"
   ]
  },
  {
   "cell_type": "markdown",
   "metadata": {},
   "source": [
    "## Modus"
   ]
  },
  {
   "cell_type": "code",
   "execution_count": 82,
   "metadata": {},
   "outputs": [
    {
     "data": {
      "text/html": [
       "<div>\n",
       "<style scoped>\n",
       "    .dataframe tbody tr th:only-of-type {\n",
       "        vertical-align: middle;\n",
       "    }\n",
       "\n",
       "    .dataframe tbody tr th {\n",
       "        vertical-align: top;\n",
       "    }\n",
       "\n",
       "    .dataframe thead th {\n",
       "        text-align: right;\n",
       "    }\n",
       "</style>\n",
       "<table border=\"1\" class=\"dataframe\">\n",
       "  <thead>\n",
       "    <tr style=\"text-align: right;\">\n",
       "      <th></th>\n",
       "      <th>Bulan</th>\n",
       "      <th>Course</th>\n",
       "      <th>Category</th>\n",
       "      <th>Jumlah Partisipan</th>\n",
       "      <th>Kecepatan pelayanan</th>\n",
       "      <th>Kemudahan fungsi fungsi untuk digunakan</th>\n",
       "      <th>Kemudahan nama situs untuk diingat</th>\n",
       "      <th>Kemudahan situs untuk dipahami</th>\n",
       "      <th>Kemudahan untuk dihubungi</th>\n",
       "      <th>Kemudahan untuk dipahami</th>\n",
       "      <th>Kenyamanan dalam mempelajari materi</th>\n",
       "      <th>Keramahan petugas</th>\n",
       "      <th>Manfaat terhadap tugas</th>\n",
       "      <th>Pengetahuan terhadap situs</th>\n",
       "      <th>Sistematika Penulisan</th>\n",
       "      <th>Tampilan situs</th>\n",
       "      <th>Final Score</th>\n",
       "    </tr>\n",
       "  </thead>\n",
       "  <tbody>\n",
       "    <tr>\n",
       "      <th>0</th>\n",
       "      <td>1</td>\n",
       "      <td>Fraud Klaim Asuransi</td>\n",
       "      <td>ADMEDIKA</td>\n",
       "      <td>1</td>\n",
       "      <td>100.00</td>\n",
       "      <td>100.00</td>\n",
       "      <td>0.00</td>\n",
       "      <td>100.00</td>\n",
       "      <td>100.00</td>\n",
       "      <td>70.00</td>\n",
       "      <td>100.00</td>\n",
       "      <td>100.00</td>\n",
       "      <td>100.00</td>\n",
       "      <td>100.00</td>\n",
       "      <td>100.00</td>\n",
       "      <td>100.00</td>\n",
       "      <td>89.17</td>\n",
       "    </tr>\n",
       "    <tr>\n",
       "      <th>1</th>\n",
       "      <td>1</td>\n",
       "      <td>Basic Procurement</td>\n",
       "      <td>Business Enabler / Enterprise Management (EL-EEM)</td>\n",
       "      <td>1</td>\n",
       "      <td>100.00</td>\n",
       "      <td>100.00</td>\n",
       "      <td>100.00</td>\n",
       "      <td>100.00</td>\n",
       "      <td>100.00</td>\n",
       "      <td>100.00</td>\n",
       "      <td>100.00</td>\n",
       "      <td>100.00</td>\n",
       "      <td>100.00</td>\n",
       "      <td>100.00</td>\n",
       "      <td>100.00</td>\n",
       "      <td>100.00</td>\n",
       "      <td>100.00</td>\n",
       "    </tr>\n",
       "    <tr>\n",
       "      <th>2</th>\n",
       "      <td>1</td>\n",
       "      <td>Paradigma Spiritual</td>\n",
       "      <td>Business Enabler / Enterprise Management (EL-EEM)</td>\n",
       "      <td>4</td>\n",
       "      <td>91.25</td>\n",
       "      <td>91.25</td>\n",
       "      <td>91.25</td>\n",
       "      <td>91.25</td>\n",
       "      <td>91.25</td>\n",
       "      <td>91.25</td>\n",
       "      <td>90.67</td>\n",
       "      <td>91.25</td>\n",
       "      <td>91.25</td>\n",
       "      <td>91.25</td>\n",
       "      <td>91.25</td>\n",
       "      <td>91.25</td>\n",
       "      <td>91.20</td>\n",
       "    </tr>\n",
       "    <tr>\n",
       "      <th>3</th>\n",
       "      <td>1</td>\n",
       "      <td>PMBOK</td>\n",
       "      <td>Business Enabler / Enterprise Management (EL-EEM)</td>\n",
       "      <td>10</td>\n",
       "      <td>88.11</td>\n",
       "      <td>87.43</td>\n",
       "      <td>89.47</td>\n",
       "      <td>88.11</td>\n",
       "      <td>89.47</td>\n",
       "      <td>88.11</td>\n",
       "      <td>86.67</td>\n",
       "      <td>88.95</td>\n",
       "      <td>91.50</td>\n",
       "      <td>89.47</td>\n",
       "      <td>87.78</td>\n",
       "      <td>88.33</td>\n",
       "      <td>88.62</td>\n",
       "    </tr>\n",
       "    <tr>\n",
       "      <th>4</th>\n",
       "      <td>1</td>\n",
       "      <td>Spiritual (Islam) Bekerja Ma allah</td>\n",
       "      <td>Business Enabler / Enterprise Management (EL-EEM)</td>\n",
       "      <td>2</td>\n",
       "      <td>90.00</td>\n",
       "      <td>90.00</td>\n",
       "      <td>90.00</td>\n",
       "      <td>90.00</td>\n",
       "      <td>90.00</td>\n",
       "      <td>90.00</td>\n",
       "      <td>90.00</td>\n",
       "      <td>90.00</td>\n",
       "      <td>90.00</td>\n",
       "      <td>90.00</td>\n",
       "      <td>90.00</td>\n",
       "      <td>90.00</td>\n",
       "      <td>90.00</td>\n",
       "    </tr>\n",
       "  </tbody>\n",
       "</table>\n",
       "</div>"
      ],
      "text/plain": [
       "   Bulan                              Course  \\\n",
       "0      1                Fraud Klaim Asuransi   \n",
       "1      1                   Basic Procurement   \n",
       "2      1                 Paradigma Spiritual   \n",
       "3      1                               PMBOK   \n",
       "4      1  Spiritual (Islam) Bekerja Ma allah   \n",
       "\n",
       "                                            Category Jumlah Partisipan  \\\n",
       "0                                           ADMEDIKA                 1   \n",
       "1  Business Enabler / Enterprise Management (EL-EEM)                 1   \n",
       "2  Business Enabler / Enterprise Management (EL-EEM)                 4   \n",
       "3  Business Enabler / Enterprise Management (EL-EEM)                10   \n",
       "4  Business Enabler / Enterprise Management (EL-EEM)                 2   \n",
       "\n",
       "   Kecepatan pelayanan  Kemudahan fungsi fungsi untuk digunakan  \\\n",
       "0               100.00                                   100.00   \n",
       "1               100.00                                   100.00   \n",
       "2                91.25                                    91.25   \n",
       "3                88.11                                    87.43   \n",
       "4                90.00                                    90.00   \n",
       "\n",
       "   Kemudahan nama situs untuk diingat  Kemudahan situs untuk dipahami  \\\n",
       "0                                0.00                          100.00   \n",
       "1                              100.00                          100.00   \n",
       "2                               91.25                           91.25   \n",
       "3                               89.47                           88.11   \n",
       "4                               90.00                           90.00   \n",
       "\n",
       "   Kemudahan untuk dihubungi  Kemudahan untuk dipahami  \\\n",
       "0                     100.00                     70.00   \n",
       "1                     100.00                    100.00   \n",
       "2                      91.25                     91.25   \n",
       "3                      89.47                     88.11   \n",
       "4                      90.00                     90.00   \n",
       "\n",
       "   Kenyamanan dalam mempelajari materi  Keramahan petugas  \\\n",
       "0                               100.00             100.00   \n",
       "1                               100.00             100.00   \n",
       "2                                90.67              91.25   \n",
       "3                                86.67              88.95   \n",
       "4                                90.00              90.00   \n",
       "\n",
       "   Manfaat terhadap tugas  Pengetahuan terhadap situs  Sistematika Penulisan  \\\n",
       "0                  100.00                      100.00                 100.00   \n",
       "1                  100.00                      100.00                 100.00   \n",
       "2                   91.25                       91.25                  91.25   \n",
       "3                   91.50                       89.47                  87.78   \n",
       "4                   90.00                       90.00                  90.00   \n",
       "\n",
       "   Tampilan situs  Final Score  \n",
       "0          100.00        89.17  \n",
       "1          100.00       100.00  \n",
       "2           91.25        91.20  \n",
       "3           88.33        88.62  \n",
       "4           90.00        90.00  "
      ]
     },
     "execution_count": 82,
     "metadata": {},
     "output_type": "execute_result"
    }
   ],
   "source": [
    "data_feed_elearn.head()"
   ]
  },
  {
   "cell_type": "code",
   "execution_count": 83,
   "metadata": {},
   "outputs": [],
   "source": [
    "Kecepatan_pelayanan=data_feed_elearn['Kecepatan pelayanan']\n",
    "Kemudahan_fungsi_fungsi_untuk_digunakan=data_feed_elearn['Kemudahan fungsi fungsi untuk digunakan']\n",
    "Kemudahan_nama_situs_untuk_diingate=data_feed_elearn['Kemudahan nama situs untuk diingat']\n",
    "Kemudahan_situs_untuk_dipahami=data_feed_elearn['Kemudahan situs untuk dipahami']\n",
    "Kemudahan_untuk_dihubungi=data_feed_elearn['Kemudahan untuk dihubungi']\n",
    "Kemudahan_untuk_dipahami=data_feed_elearn['Kemudahan untuk dipahami']\n",
    "Kenyamanan_dalam_mempelajari_materi=data_feed_elearn['Kenyamanan dalam mempelajari materi']\n",
    "Keramahan_petugas=data_feed_elearn['Keramahan petugas']\n",
    "Manfaat_terhadap_tugas=data_feed_elearn['Manfaat terhadap tugas']\n",
    "Pengetahuan_terhadap_situs=data_feed_elearn['Pengetahuan terhadap situs']\n",
    "Sistematika_Penulisan=data_feed_elearn['Sistematika Penulisan']\n",
    "Tampilan_situs=data_feed_elearn['Tampilan situs']\n",
    "Final_Score=data_feed_elearn['Final Score']"
   ]
  },
  {
   "cell_type": "code",
   "execution_count": 84,
   "metadata": {},
   "outputs": [
    {
     "name": "stdout",
     "output_type": "stream",
     "text": [
      "0       100.00\n",
      "1       100.00\n",
      "2        91.25\n",
      "3        88.33\n",
      "4        90.00\n",
      "         ...  \n",
      "2565     91.68\n",
      "2566     96.15\n",
      "2567     91.15\n",
      "2568     91.00\n",
      "2569     90.69\n",
      "Name: Tampilan situs, Length: 2570, dtype: float64\n",
      "0        89.17\n",
      "1       100.00\n",
      "2        91.20\n",
      "3        88.62\n",
      "4        90.00\n",
      "         ...  \n",
      "2565     91.68\n",
      "2566     96.30\n",
      "2567     90.85\n",
      "2568     91.74\n",
      "2569     91.02\n",
      "Name: Final Score, Length: 2570, dtype: float64\n"
     ]
    }
   ],
   "source": [
    "print(Tampilan_situs)\n",
    "print(Final_Score)"
   ]
  },
  {
   "cell_type": "code",
   "execution_count": 85,
   "metadata": {},
   "outputs": [
    {
     "name": "stdout",
     "output_type": "stream",
     "text": [
      "90.0\n",
      "100.0\n"
     ]
    }
   ],
   "source": [
    "mode_Tampilan_situs=statistics.mode(Tampilan_situs)\n",
    "print(mode_Tampilan_situs)\n",
    "mode_Final_Score=statistics.mode(Final_Score)\n",
    "print(mode_Final_Score)"
   ]
  },
  {
   "cell_type": "markdown",
   "metadata": {},
   "source": [
    "## Range"
   ]
  },
  {
   "cell_type": "code",
   "execution_count": 86,
   "metadata": {},
   "outputs": [
    {
     "data": {
      "text/html": [
       "<div>\n",
       "<style scoped>\n",
       "    .dataframe tbody tr th:only-of-type {\n",
       "        vertical-align: middle;\n",
       "    }\n",
       "\n",
       "    .dataframe tbody tr th {\n",
       "        vertical-align: top;\n",
       "    }\n",
       "\n",
       "    .dataframe thead th {\n",
       "        text-align: right;\n",
       "    }\n",
       "</style>\n",
       "<table border=\"1\" class=\"dataframe\">\n",
       "  <thead>\n",
       "    <tr style=\"text-align: right;\">\n",
       "      <th></th>\n",
       "      <th>Bulan</th>\n",
       "      <th>Course</th>\n",
       "      <th>Category</th>\n",
       "      <th>Jumlah Partisipan</th>\n",
       "      <th>Kecepatan pelayanan</th>\n",
       "      <th>Kemudahan fungsi fungsi untuk digunakan</th>\n",
       "      <th>Kemudahan nama situs untuk diingat</th>\n",
       "      <th>Kemudahan situs untuk dipahami</th>\n",
       "      <th>Kemudahan untuk dihubungi</th>\n",
       "      <th>Kemudahan untuk dipahami</th>\n",
       "      <th>Kenyamanan dalam mempelajari materi</th>\n",
       "      <th>Keramahan petugas</th>\n",
       "      <th>Manfaat terhadap tugas</th>\n",
       "      <th>Pengetahuan terhadap situs</th>\n",
       "      <th>Sistematika Penulisan</th>\n",
       "      <th>Tampilan situs</th>\n",
       "      <th>Final Score</th>\n",
       "    </tr>\n",
       "  </thead>\n",
       "  <tbody>\n",
       "    <tr>\n",
       "      <th>0</th>\n",
       "      <td>1</td>\n",
       "      <td>Fraud Klaim Asuransi</td>\n",
       "      <td>ADMEDIKA</td>\n",
       "      <td>1</td>\n",
       "      <td>100.00</td>\n",
       "      <td>100.00</td>\n",
       "      <td>0.00</td>\n",
       "      <td>100.00</td>\n",
       "      <td>100.00</td>\n",
       "      <td>70.00</td>\n",
       "      <td>100.00</td>\n",
       "      <td>100.00</td>\n",
       "      <td>100.00</td>\n",
       "      <td>100.00</td>\n",
       "      <td>100.00</td>\n",
       "      <td>100.00</td>\n",
       "      <td>89.17</td>\n",
       "    </tr>\n",
       "    <tr>\n",
       "      <th>1</th>\n",
       "      <td>1</td>\n",
       "      <td>Basic Procurement</td>\n",
       "      <td>Business Enabler / Enterprise Management (EL-EEM)</td>\n",
       "      <td>1</td>\n",
       "      <td>100.00</td>\n",
       "      <td>100.00</td>\n",
       "      <td>100.00</td>\n",
       "      <td>100.00</td>\n",
       "      <td>100.00</td>\n",
       "      <td>100.00</td>\n",
       "      <td>100.00</td>\n",
       "      <td>100.00</td>\n",
       "      <td>100.00</td>\n",
       "      <td>100.00</td>\n",
       "      <td>100.00</td>\n",
       "      <td>100.00</td>\n",
       "      <td>100.00</td>\n",
       "    </tr>\n",
       "    <tr>\n",
       "      <th>2</th>\n",
       "      <td>1</td>\n",
       "      <td>Paradigma Spiritual</td>\n",
       "      <td>Business Enabler / Enterprise Management (EL-EEM)</td>\n",
       "      <td>4</td>\n",
       "      <td>91.25</td>\n",
       "      <td>91.25</td>\n",
       "      <td>91.25</td>\n",
       "      <td>91.25</td>\n",
       "      <td>91.25</td>\n",
       "      <td>91.25</td>\n",
       "      <td>90.67</td>\n",
       "      <td>91.25</td>\n",
       "      <td>91.25</td>\n",
       "      <td>91.25</td>\n",
       "      <td>91.25</td>\n",
       "      <td>91.25</td>\n",
       "      <td>91.20</td>\n",
       "    </tr>\n",
       "    <tr>\n",
       "      <th>3</th>\n",
       "      <td>1</td>\n",
       "      <td>PMBOK</td>\n",
       "      <td>Business Enabler / Enterprise Management (EL-EEM)</td>\n",
       "      <td>10</td>\n",
       "      <td>88.11</td>\n",
       "      <td>87.43</td>\n",
       "      <td>89.47</td>\n",
       "      <td>88.11</td>\n",
       "      <td>89.47</td>\n",
       "      <td>88.11</td>\n",
       "      <td>86.67</td>\n",
       "      <td>88.95</td>\n",
       "      <td>91.50</td>\n",
       "      <td>89.47</td>\n",
       "      <td>87.78</td>\n",
       "      <td>88.33</td>\n",
       "      <td>88.62</td>\n",
       "    </tr>\n",
       "    <tr>\n",
       "      <th>4</th>\n",
       "      <td>1</td>\n",
       "      <td>Spiritual (Islam) Bekerja Ma allah</td>\n",
       "      <td>Business Enabler / Enterprise Management (EL-EEM)</td>\n",
       "      <td>2</td>\n",
       "      <td>90.00</td>\n",
       "      <td>90.00</td>\n",
       "      <td>90.00</td>\n",
       "      <td>90.00</td>\n",
       "      <td>90.00</td>\n",
       "      <td>90.00</td>\n",
       "      <td>90.00</td>\n",
       "      <td>90.00</td>\n",
       "      <td>90.00</td>\n",
       "      <td>90.00</td>\n",
       "      <td>90.00</td>\n",
       "      <td>90.00</td>\n",
       "      <td>90.00</td>\n",
       "    </tr>\n",
       "  </tbody>\n",
       "</table>\n",
       "</div>"
      ],
      "text/plain": [
       "   Bulan                              Course  \\\n",
       "0      1                Fraud Klaim Asuransi   \n",
       "1      1                   Basic Procurement   \n",
       "2      1                 Paradigma Spiritual   \n",
       "3      1                               PMBOK   \n",
       "4      1  Spiritual (Islam) Bekerja Ma allah   \n",
       "\n",
       "                                            Category Jumlah Partisipan  \\\n",
       "0                                           ADMEDIKA                 1   \n",
       "1  Business Enabler / Enterprise Management (EL-EEM)                 1   \n",
       "2  Business Enabler / Enterprise Management (EL-EEM)                 4   \n",
       "3  Business Enabler / Enterprise Management (EL-EEM)                10   \n",
       "4  Business Enabler / Enterprise Management (EL-EEM)                 2   \n",
       "\n",
       "   Kecepatan pelayanan  Kemudahan fungsi fungsi untuk digunakan  \\\n",
       "0               100.00                                   100.00   \n",
       "1               100.00                                   100.00   \n",
       "2                91.25                                    91.25   \n",
       "3                88.11                                    87.43   \n",
       "4                90.00                                    90.00   \n",
       "\n",
       "   Kemudahan nama situs untuk diingat  Kemudahan situs untuk dipahami  \\\n",
       "0                                0.00                          100.00   \n",
       "1                              100.00                          100.00   \n",
       "2                               91.25                           91.25   \n",
       "3                               89.47                           88.11   \n",
       "4                               90.00                           90.00   \n",
       "\n",
       "   Kemudahan untuk dihubungi  Kemudahan untuk dipahami  \\\n",
       "0                     100.00                     70.00   \n",
       "1                     100.00                    100.00   \n",
       "2                      91.25                     91.25   \n",
       "3                      89.47                     88.11   \n",
       "4                      90.00                     90.00   \n",
       "\n",
       "   Kenyamanan dalam mempelajari materi  Keramahan petugas  \\\n",
       "0                               100.00             100.00   \n",
       "1                               100.00             100.00   \n",
       "2                                90.67              91.25   \n",
       "3                                86.67              88.95   \n",
       "4                                90.00              90.00   \n",
       "\n",
       "   Manfaat terhadap tugas  Pengetahuan terhadap situs  Sistematika Penulisan  \\\n",
       "0                  100.00                      100.00                 100.00   \n",
       "1                  100.00                      100.00                 100.00   \n",
       "2                   91.25                       91.25                  91.25   \n",
       "3                   91.50                       89.47                  87.78   \n",
       "4                   90.00                       90.00                  90.00   \n",
       "\n",
       "   Tampilan situs  Final Score  \n",
       "0          100.00        89.17  \n",
       "1          100.00       100.00  \n",
       "2           91.25        91.20  \n",
       "3           88.33        88.62  \n",
       "4           90.00        90.00  "
      ]
     },
     "execution_count": 86,
     "metadata": {},
     "output_type": "execute_result"
    }
   ],
   "source": [
    "data_feed_elearn.head()"
   ]
  },
  {
   "cell_type": "code",
   "execution_count": 87,
   "metadata": {},
   "outputs": [],
   "source": [
    "Kecepatan_pelayanan=data_feed_elearn['Kecepatan pelayanan']\n",
    "Kemudahan_fungsi_fungsi_untuk_digunakan=data_feed_elearn['Kemudahan fungsi fungsi untuk digunakan']\n",
    "Kemudahan_nama_situs_untuk_diingate=data_feed_elearn['Kemudahan nama situs untuk diingat']\n",
    "Kemudahan_situs_untuk_dipahami=data_feed_elearn['Kemudahan situs untuk dipahami']\n",
    "Kemudahan_untuk_dihubungi=data_feed_elearn['Kemudahan untuk dihubungi']\n",
    "Kemudahan_untuk_dipahami=data_feed_elearn['Kemudahan untuk dipahami']\n",
    "Kenyamanan_dalam_mempelajari_materi=data_feed_elearn['Kenyamanan dalam mempelajari materi']\n",
    "Keramahan_petugas=data_feed_elearn['Keramahan petugas']\n",
    "Manfaat_terhadap_tugas=data_feed_elearn['Manfaat terhadap tugas']\n",
    "Pengetahuan_terhadap_situs=data_feed_elearn['Pengetahuan terhadap situs']\n",
    "Sistematika_Penulisan=data_feed_elearn['Sistematika Penulisan']\n",
    "Tampilan_situs=data_feed_elearn['Tampilan situs']\n",
    "Final_Score=data_feed_elearn['Final Score']"
   ]
  },
  {
   "cell_type": "code",
   "execution_count": 88,
   "metadata": {},
   "outputs": [
    {
     "data": {
      "text/plain": [
       "0        89.17\n",
       "1       100.00\n",
       "2        91.20\n",
       "3        88.62\n",
       "4        90.00\n",
       "         ...  \n",
       "2565     91.68\n",
       "2566     96.30\n",
       "2567     90.85\n",
       "2568     91.74\n",
       "2569     91.02\n",
       "Name: Final Score, Length: 2570, dtype: float64"
      ]
     },
     "execution_count": 88,
     "metadata": {},
     "output_type": "execute_result"
    }
   ],
   "source": [
    "Final_Score"
   ]
  },
  {
   "cell_type": "markdown",
   "metadata": {},
   "source": [
    "nilai paling besar"
   ]
  },
  {
   "cell_type": "code",
   "execution_count": 89,
   "metadata": {},
   "outputs": [
    {
     "name": "stdout",
     "output_type": "stream",
     "text": [
      "100.0\n"
     ]
    }
   ],
   "source": [
    "nilai_paling_besar_Final_Score=max(Final_Score)\n",
    "print(nilai_paling_besar_Final_Score)"
   ]
  },
  {
   "cell_type": "markdown",
   "metadata": {},
   "source": [
    "nilai paling kecil"
   ]
  },
  {
   "cell_type": "code",
   "execution_count": 90,
   "metadata": {},
   "outputs": [
    {
     "name": "stdout",
     "output_type": "stream",
     "text": [
      "13.33\n"
     ]
    }
   ],
   "source": [
    "nilai_paling_kecil_Final_Score=min(Final_Score)\n",
    "print(nilai_paling_kecil_Final_Score)"
   ]
  },
  {
   "cell_type": "markdown",
   "metadata": {},
   "source": [
    "## Variance"
   ]
  },
  {
   "cell_type": "code",
   "execution_count": 91,
   "metadata": {},
   "outputs": [
    {
     "data": {
      "text/html": [
       "<div>\n",
       "<style scoped>\n",
       "    .dataframe tbody tr th:only-of-type {\n",
       "        vertical-align: middle;\n",
       "    }\n",
       "\n",
       "    .dataframe tbody tr th {\n",
       "        vertical-align: top;\n",
       "    }\n",
       "\n",
       "    .dataframe thead th {\n",
       "        text-align: right;\n",
       "    }\n",
       "</style>\n",
       "<table border=\"1\" class=\"dataframe\">\n",
       "  <thead>\n",
       "    <tr style=\"text-align: right;\">\n",
       "      <th></th>\n",
       "      <th>Bulan</th>\n",
       "      <th>Course</th>\n",
       "      <th>Category</th>\n",
       "      <th>Jumlah Partisipan</th>\n",
       "      <th>Kecepatan pelayanan</th>\n",
       "      <th>Kemudahan fungsi fungsi untuk digunakan</th>\n",
       "      <th>Kemudahan nama situs untuk diingat</th>\n",
       "      <th>Kemudahan situs untuk dipahami</th>\n",
       "      <th>Kemudahan untuk dihubungi</th>\n",
       "      <th>Kemudahan untuk dipahami</th>\n",
       "      <th>Kenyamanan dalam mempelajari materi</th>\n",
       "      <th>Keramahan petugas</th>\n",
       "      <th>Manfaat terhadap tugas</th>\n",
       "      <th>Pengetahuan terhadap situs</th>\n",
       "      <th>Sistematika Penulisan</th>\n",
       "      <th>Tampilan situs</th>\n",
       "      <th>Final Score</th>\n",
       "    </tr>\n",
       "  </thead>\n",
       "  <tbody>\n",
       "    <tr>\n",
       "      <th>0</th>\n",
       "      <td>1</td>\n",
       "      <td>Fraud Klaim Asuransi</td>\n",
       "      <td>ADMEDIKA</td>\n",
       "      <td>1</td>\n",
       "      <td>100.00</td>\n",
       "      <td>100.00</td>\n",
       "      <td>0.00</td>\n",
       "      <td>100.00</td>\n",
       "      <td>100.00</td>\n",
       "      <td>70.00</td>\n",
       "      <td>100.00</td>\n",
       "      <td>100.00</td>\n",
       "      <td>100.00</td>\n",
       "      <td>100.00</td>\n",
       "      <td>100.00</td>\n",
       "      <td>100.00</td>\n",
       "      <td>89.17</td>\n",
       "    </tr>\n",
       "    <tr>\n",
       "      <th>1</th>\n",
       "      <td>1</td>\n",
       "      <td>Basic Procurement</td>\n",
       "      <td>Business Enabler / Enterprise Management (EL-EEM)</td>\n",
       "      <td>1</td>\n",
       "      <td>100.00</td>\n",
       "      <td>100.00</td>\n",
       "      <td>100.00</td>\n",
       "      <td>100.00</td>\n",
       "      <td>100.00</td>\n",
       "      <td>100.00</td>\n",
       "      <td>100.00</td>\n",
       "      <td>100.00</td>\n",
       "      <td>100.00</td>\n",
       "      <td>100.00</td>\n",
       "      <td>100.00</td>\n",
       "      <td>100.00</td>\n",
       "      <td>100.00</td>\n",
       "    </tr>\n",
       "    <tr>\n",
       "      <th>2</th>\n",
       "      <td>1</td>\n",
       "      <td>Paradigma Spiritual</td>\n",
       "      <td>Business Enabler / Enterprise Management (EL-EEM)</td>\n",
       "      <td>4</td>\n",
       "      <td>91.25</td>\n",
       "      <td>91.25</td>\n",
       "      <td>91.25</td>\n",
       "      <td>91.25</td>\n",
       "      <td>91.25</td>\n",
       "      <td>91.25</td>\n",
       "      <td>90.67</td>\n",
       "      <td>91.25</td>\n",
       "      <td>91.25</td>\n",
       "      <td>91.25</td>\n",
       "      <td>91.25</td>\n",
       "      <td>91.25</td>\n",
       "      <td>91.20</td>\n",
       "    </tr>\n",
       "    <tr>\n",
       "      <th>3</th>\n",
       "      <td>1</td>\n",
       "      <td>PMBOK</td>\n",
       "      <td>Business Enabler / Enterprise Management (EL-EEM)</td>\n",
       "      <td>10</td>\n",
       "      <td>88.11</td>\n",
       "      <td>87.43</td>\n",
       "      <td>89.47</td>\n",
       "      <td>88.11</td>\n",
       "      <td>89.47</td>\n",
       "      <td>88.11</td>\n",
       "      <td>86.67</td>\n",
       "      <td>88.95</td>\n",
       "      <td>91.50</td>\n",
       "      <td>89.47</td>\n",
       "      <td>87.78</td>\n",
       "      <td>88.33</td>\n",
       "      <td>88.62</td>\n",
       "    </tr>\n",
       "    <tr>\n",
       "      <th>4</th>\n",
       "      <td>1</td>\n",
       "      <td>Spiritual (Islam) Bekerja Ma allah</td>\n",
       "      <td>Business Enabler / Enterprise Management (EL-EEM)</td>\n",
       "      <td>2</td>\n",
       "      <td>90.00</td>\n",
       "      <td>90.00</td>\n",
       "      <td>90.00</td>\n",
       "      <td>90.00</td>\n",
       "      <td>90.00</td>\n",
       "      <td>90.00</td>\n",
       "      <td>90.00</td>\n",
       "      <td>90.00</td>\n",
       "      <td>90.00</td>\n",
       "      <td>90.00</td>\n",
       "      <td>90.00</td>\n",
       "      <td>90.00</td>\n",
       "      <td>90.00</td>\n",
       "    </tr>\n",
       "  </tbody>\n",
       "</table>\n",
       "</div>"
      ],
      "text/plain": [
       "   Bulan                              Course  \\\n",
       "0      1                Fraud Klaim Asuransi   \n",
       "1      1                   Basic Procurement   \n",
       "2      1                 Paradigma Spiritual   \n",
       "3      1                               PMBOK   \n",
       "4      1  Spiritual (Islam) Bekerja Ma allah   \n",
       "\n",
       "                                            Category Jumlah Partisipan  \\\n",
       "0                                           ADMEDIKA                 1   \n",
       "1  Business Enabler / Enterprise Management (EL-EEM)                 1   \n",
       "2  Business Enabler / Enterprise Management (EL-EEM)                 4   \n",
       "3  Business Enabler / Enterprise Management (EL-EEM)                10   \n",
       "4  Business Enabler / Enterprise Management (EL-EEM)                 2   \n",
       "\n",
       "   Kecepatan pelayanan  Kemudahan fungsi fungsi untuk digunakan  \\\n",
       "0               100.00                                   100.00   \n",
       "1               100.00                                   100.00   \n",
       "2                91.25                                    91.25   \n",
       "3                88.11                                    87.43   \n",
       "4                90.00                                    90.00   \n",
       "\n",
       "   Kemudahan nama situs untuk diingat  Kemudahan situs untuk dipahami  \\\n",
       "0                                0.00                          100.00   \n",
       "1                              100.00                          100.00   \n",
       "2                               91.25                           91.25   \n",
       "3                               89.47                           88.11   \n",
       "4                               90.00                           90.00   \n",
       "\n",
       "   Kemudahan untuk dihubungi  Kemudahan untuk dipahami  \\\n",
       "0                     100.00                     70.00   \n",
       "1                     100.00                    100.00   \n",
       "2                      91.25                     91.25   \n",
       "3                      89.47                     88.11   \n",
       "4                      90.00                     90.00   \n",
       "\n",
       "   Kenyamanan dalam mempelajari materi  Keramahan petugas  \\\n",
       "0                               100.00             100.00   \n",
       "1                               100.00             100.00   \n",
       "2                                90.67              91.25   \n",
       "3                                86.67              88.95   \n",
       "4                                90.00              90.00   \n",
       "\n",
       "   Manfaat terhadap tugas  Pengetahuan terhadap situs  Sistematika Penulisan  \\\n",
       "0                  100.00                      100.00                 100.00   \n",
       "1                  100.00                      100.00                 100.00   \n",
       "2                   91.25                       91.25                  91.25   \n",
       "3                   91.50                       89.47                  87.78   \n",
       "4                   90.00                       90.00                  90.00   \n",
       "\n",
       "   Tampilan situs  Final Score  \n",
       "0          100.00        89.17  \n",
       "1          100.00       100.00  \n",
       "2           91.25        91.20  \n",
       "3           88.33        88.62  \n",
       "4           90.00        90.00  "
      ]
     },
     "execution_count": 91,
     "metadata": {},
     "output_type": "execute_result"
    }
   ],
   "source": [
    "data_feed_elearn.head()"
   ]
  },
  {
   "cell_type": "code",
   "execution_count": 92,
   "metadata": {},
   "outputs": [],
   "source": [
    "Kecepatan_pelayanan=data_feed_elearn['Kecepatan pelayanan']\n",
    "Kemudahan_fungsi_fungsi_untuk_digunakan=data_feed_elearn['Kemudahan fungsi fungsi untuk digunakan']\n",
    "Kemudahan_nama_situs_untuk_diingate=data_feed_elearn['Kemudahan nama situs untuk diingat']\n",
    "Kemudahan_situs_untuk_dipahami=data_feed_elearn['Kemudahan situs untuk dipahami']\n",
    "Kemudahan_untuk_dihubungi=data_feed_elearn['Kemudahan untuk dihubungi']\n",
    "Kemudahan_untuk_dipahami=data_feed_elearn['Kemudahan untuk dipahami']\n",
    "Kenyamanan_dalam_mempelajari_materi=data_feed_elearn['Kenyamanan dalam mempelajari materi']\n",
    "Keramahan_petugas=data_feed_elearn['Keramahan petugas']\n",
    "Manfaat_terhadap_tugas=data_feed_elearn['Manfaat terhadap tugas']\n",
    "Pengetahuan_terhadap_situs=data_feed_elearn['Pengetahuan terhadap situs']\n",
    "Sistematika_Penulisan=data_feed_elearn['Sistematika Penulisan']\n",
    "Tampilan_situs=data_feed_elearn['Tampilan situs']\n",
    "Final_Score=data_feed_elearn['Final Score']"
   ]
  },
  {
   "cell_type": "code",
   "execution_count": 93,
   "metadata": {},
   "outputs": [
    {
     "name": "stdout",
     "output_type": "stream",
     "text": [
      "0       100.00\n",
      "1       100.00\n",
      "2        91.25\n",
      "3        91.50\n",
      "4        90.00\n",
      "         ...  \n",
      "2565     91.37\n",
      "2566     96.67\n",
      "2567     93.82\n",
      "2568     92.61\n",
      "2569     91.53\n",
      "Name: Manfaat terhadap tugas, Length: 2570, dtype: float64\n",
      "0        89.17\n",
      "1       100.00\n",
      "2        91.20\n",
      "3        88.62\n",
      "4        90.00\n",
      "         ...  \n",
      "2565     91.68\n",
      "2566     96.30\n",
      "2567     90.85\n",
      "2568     91.74\n",
      "2569     91.02\n",
      "Name: Final Score, Length: 2570, dtype: float64\n"
     ]
    }
   ],
   "source": [
    "print(Manfaat_terhadap_tugas)\n",
    "print(Final_Score)"
   ]
  },
  {
   "cell_type": "code",
   "execution_count": 94,
   "metadata": {},
   "outputs": [
    {
     "name": "stdout",
     "output_type": "stream",
     "text": [
      "34.166969105588485\n",
      "79.36976675379752\n"
     ]
    }
   ],
   "source": [
    "variance_Manfaat_terhadap_tugas=statistics.variance(Manfaat_terhadap_tugas)\n",
    "print(variance_Manfaat_terhadap_tugas)\n",
    "variance_Final_Score=statistics.variance(Final_Score)\n",
    "print(variance_Final_Score)"
   ]
  },
  {
   "cell_type": "markdown",
   "metadata": {},
   "source": [
    "## Standard Deviation"
   ]
  },
  {
   "cell_type": "code",
   "execution_count": 95,
   "metadata": {},
   "outputs": [
    {
     "data": {
      "text/html": [
       "<div>\n",
       "<style scoped>\n",
       "    .dataframe tbody tr th:only-of-type {\n",
       "        vertical-align: middle;\n",
       "    }\n",
       "\n",
       "    .dataframe tbody tr th {\n",
       "        vertical-align: top;\n",
       "    }\n",
       "\n",
       "    .dataframe thead th {\n",
       "        text-align: right;\n",
       "    }\n",
       "</style>\n",
       "<table border=\"1\" class=\"dataframe\">\n",
       "  <thead>\n",
       "    <tr style=\"text-align: right;\">\n",
       "      <th></th>\n",
       "      <th>Bulan</th>\n",
       "      <th>Course</th>\n",
       "      <th>Category</th>\n",
       "      <th>Jumlah Partisipan</th>\n",
       "      <th>Kecepatan pelayanan</th>\n",
       "      <th>Kemudahan fungsi fungsi untuk digunakan</th>\n",
       "      <th>Kemudahan nama situs untuk diingat</th>\n",
       "      <th>Kemudahan situs untuk dipahami</th>\n",
       "      <th>Kemudahan untuk dihubungi</th>\n",
       "      <th>Kemudahan untuk dipahami</th>\n",
       "      <th>Kenyamanan dalam mempelajari materi</th>\n",
       "      <th>Keramahan petugas</th>\n",
       "      <th>Manfaat terhadap tugas</th>\n",
       "      <th>Pengetahuan terhadap situs</th>\n",
       "      <th>Sistematika Penulisan</th>\n",
       "      <th>Tampilan situs</th>\n",
       "      <th>Final Score</th>\n",
       "    </tr>\n",
       "  </thead>\n",
       "  <tbody>\n",
       "    <tr>\n",
       "      <th>0</th>\n",
       "      <td>1</td>\n",
       "      <td>Fraud Klaim Asuransi</td>\n",
       "      <td>ADMEDIKA</td>\n",
       "      <td>1</td>\n",
       "      <td>100.00</td>\n",
       "      <td>100.00</td>\n",
       "      <td>0.00</td>\n",
       "      <td>100.00</td>\n",
       "      <td>100.00</td>\n",
       "      <td>70.00</td>\n",
       "      <td>100.00</td>\n",
       "      <td>100.00</td>\n",
       "      <td>100.00</td>\n",
       "      <td>100.00</td>\n",
       "      <td>100.00</td>\n",
       "      <td>100.00</td>\n",
       "      <td>89.17</td>\n",
       "    </tr>\n",
       "    <tr>\n",
       "      <th>1</th>\n",
       "      <td>1</td>\n",
       "      <td>Basic Procurement</td>\n",
       "      <td>Business Enabler / Enterprise Management (EL-EEM)</td>\n",
       "      <td>1</td>\n",
       "      <td>100.00</td>\n",
       "      <td>100.00</td>\n",
       "      <td>100.00</td>\n",
       "      <td>100.00</td>\n",
       "      <td>100.00</td>\n",
       "      <td>100.00</td>\n",
       "      <td>100.00</td>\n",
       "      <td>100.00</td>\n",
       "      <td>100.00</td>\n",
       "      <td>100.00</td>\n",
       "      <td>100.00</td>\n",
       "      <td>100.00</td>\n",
       "      <td>100.00</td>\n",
       "    </tr>\n",
       "    <tr>\n",
       "      <th>2</th>\n",
       "      <td>1</td>\n",
       "      <td>Paradigma Spiritual</td>\n",
       "      <td>Business Enabler / Enterprise Management (EL-EEM)</td>\n",
       "      <td>4</td>\n",
       "      <td>91.25</td>\n",
       "      <td>91.25</td>\n",
       "      <td>91.25</td>\n",
       "      <td>91.25</td>\n",
       "      <td>91.25</td>\n",
       "      <td>91.25</td>\n",
       "      <td>90.67</td>\n",
       "      <td>91.25</td>\n",
       "      <td>91.25</td>\n",
       "      <td>91.25</td>\n",
       "      <td>91.25</td>\n",
       "      <td>91.25</td>\n",
       "      <td>91.20</td>\n",
       "    </tr>\n",
       "    <tr>\n",
       "      <th>3</th>\n",
       "      <td>1</td>\n",
       "      <td>PMBOK</td>\n",
       "      <td>Business Enabler / Enterprise Management (EL-EEM)</td>\n",
       "      <td>10</td>\n",
       "      <td>88.11</td>\n",
       "      <td>87.43</td>\n",
       "      <td>89.47</td>\n",
       "      <td>88.11</td>\n",
       "      <td>89.47</td>\n",
       "      <td>88.11</td>\n",
       "      <td>86.67</td>\n",
       "      <td>88.95</td>\n",
       "      <td>91.50</td>\n",
       "      <td>89.47</td>\n",
       "      <td>87.78</td>\n",
       "      <td>88.33</td>\n",
       "      <td>88.62</td>\n",
       "    </tr>\n",
       "    <tr>\n",
       "      <th>4</th>\n",
       "      <td>1</td>\n",
       "      <td>Spiritual (Islam) Bekerja Ma allah</td>\n",
       "      <td>Business Enabler / Enterprise Management (EL-EEM)</td>\n",
       "      <td>2</td>\n",
       "      <td>90.00</td>\n",
       "      <td>90.00</td>\n",
       "      <td>90.00</td>\n",
       "      <td>90.00</td>\n",
       "      <td>90.00</td>\n",
       "      <td>90.00</td>\n",
       "      <td>90.00</td>\n",
       "      <td>90.00</td>\n",
       "      <td>90.00</td>\n",
       "      <td>90.00</td>\n",
       "      <td>90.00</td>\n",
       "      <td>90.00</td>\n",
       "      <td>90.00</td>\n",
       "    </tr>\n",
       "  </tbody>\n",
       "</table>\n",
       "</div>"
      ],
      "text/plain": [
       "   Bulan                              Course  \\\n",
       "0      1                Fraud Klaim Asuransi   \n",
       "1      1                   Basic Procurement   \n",
       "2      1                 Paradigma Spiritual   \n",
       "3      1                               PMBOK   \n",
       "4      1  Spiritual (Islam) Bekerja Ma allah   \n",
       "\n",
       "                                            Category Jumlah Partisipan  \\\n",
       "0                                           ADMEDIKA                 1   \n",
       "1  Business Enabler / Enterprise Management (EL-EEM)                 1   \n",
       "2  Business Enabler / Enterprise Management (EL-EEM)                 4   \n",
       "3  Business Enabler / Enterprise Management (EL-EEM)                10   \n",
       "4  Business Enabler / Enterprise Management (EL-EEM)                 2   \n",
       "\n",
       "   Kecepatan pelayanan  Kemudahan fungsi fungsi untuk digunakan  \\\n",
       "0               100.00                                   100.00   \n",
       "1               100.00                                   100.00   \n",
       "2                91.25                                    91.25   \n",
       "3                88.11                                    87.43   \n",
       "4                90.00                                    90.00   \n",
       "\n",
       "   Kemudahan nama situs untuk diingat  Kemudahan situs untuk dipahami  \\\n",
       "0                                0.00                          100.00   \n",
       "1                              100.00                          100.00   \n",
       "2                               91.25                           91.25   \n",
       "3                               89.47                           88.11   \n",
       "4                               90.00                           90.00   \n",
       "\n",
       "   Kemudahan untuk dihubungi  Kemudahan untuk dipahami  \\\n",
       "0                     100.00                     70.00   \n",
       "1                     100.00                    100.00   \n",
       "2                      91.25                     91.25   \n",
       "3                      89.47                     88.11   \n",
       "4                      90.00                     90.00   \n",
       "\n",
       "   Kenyamanan dalam mempelajari materi  Keramahan petugas  \\\n",
       "0                               100.00             100.00   \n",
       "1                               100.00             100.00   \n",
       "2                                90.67              91.25   \n",
       "3                                86.67              88.95   \n",
       "4                                90.00              90.00   \n",
       "\n",
       "   Manfaat terhadap tugas  Pengetahuan terhadap situs  Sistematika Penulisan  \\\n",
       "0                  100.00                      100.00                 100.00   \n",
       "1                  100.00                      100.00                 100.00   \n",
       "2                   91.25                       91.25                  91.25   \n",
       "3                   91.50                       89.47                  87.78   \n",
       "4                   90.00                       90.00                  90.00   \n",
       "\n",
       "   Tampilan situs  Final Score  \n",
       "0          100.00        89.17  \n",
       "1          100.00       100.00  \n",
       "2           91.25        91.20  \n",
       "3           88.33        88.62  \n",
       "4           90.00        90.00  "
      ]
     },
     "execution_count": 95,
     "metadata": {},
     "output_type": "execute_result"
    }
   ],
   "source": [
    "data_feed_elearn.head()"
   ]
  },
  {
   "cell_type": "code",
   "execution_count": 96,
   "metadata": {},
   "outputs": [],
   "source": [
    "Kecepatan_pelayanan=data_feed_elearn['Kecepatan pelayanan']\n",
    "Kemudahan_fungsi_fungsi_untuk_digunakan=data_feed_elearn['Kemudahan fungsi fungsi untuk digunakan']\n",
    "Kemudahan_nama_situs_untuk_diingate=data_feed_elearn['Kemudahan nama situs untuk diingat']\n",
    "Kemudahan_situs_untuk_dipahami=data_feed_elearn['Kemudahan situs untuk dipahami']\n",
    "Kemudahan_untuk_dihubungi=data_feed_elearn['Kemudahan untuk dihubungi']\n",
    "Kemudahan_untuk_dipahami=data_feed_elearn['Kemudahan untuk dipahami']\n",
    "Kenyamanan_dalam_mempelajari_materi=data_feed_elearn['Kenyamanan dalam mempelajari materi']\n",
    "Keramahan_petugas=data_feed_elearn['Keramahan petugas']\n",
    "Manfaat_terhadap_tugas=data_feed_elearn['Manfaat terhadap tugas']\n",
    "Pengetahuan_terhadap_situs=data_feed_elearn['Pengetahuan terhadap situs']\n",
    "Sistematika_Penulisan=data_feed_elearn['Sistematika Penulisan']\n",
    "Tampilan_situs=data_feed_elearn['Tampilan situs']\n",
    "Final_Score=data_feed_elearn['Final Score']"
   ]
  },
  {
   "cell_type": "code",
   "execution_count": 97,
   "metadata": {},
   "outputs": [
    {
     "name": "stdout",
     "output_type": "stream",
     "text": [
      "0       100.00\n",
      "1       100.00\n",
      "2        91.25\n",
      "3        91.50\n",
      "4        90.00\n",
      "         ...  \n",
      "2565     91.37\n",
      "2566     96.67\n",
      "2567     93.82\n",
      "2568     92.61\n",
      "2569     91.53\n",
      "Name: Manfaat terhadap tugas, Length: 2570, dtype: float64\n",
      "0        89.17\n",
      "1       100.00\n",
      "2        91.20\n",
      "3        88.62\n",
      "4        90.00\n",
      "         ...  \n",
      "2565     91.68\n",
      "2566     96.30\n",
      "2567     90.85\n",
      "2568     91.74\n",
      "2569     91.02\n",
      "Name: Final Score, Length: 2570, dtype: float64\n"
     ]
    }
   ],
   "source": [
    "print(Manfaat_terhadap_tugas)\n",
    "print(Final_Score)"
   ]
  },
  {
   "cell_type": "code",
   "execution_count": 98,
   "metadata": {},
   "outputs": [
    {
     "name": "stdout",
     "output_type": "stream",
     "text": [
      "5.845251842785602\n",
      "8.908971138902489\n"
     ]
    }
   ],
   "source": [
    "stdev_Manfaat_terhadap_tugas=statistics.stdev(Manfaat_terhadap_tugas)\n",
    "print(stdev_Manfaat_terhadap_tugas)\n",
    "stdev_Final_Score=statistics.stdev(Final_Score)\n",
    "print(stdev_Final_Score)"
   ]
  },
  {
   "cell_type": "markdown",
   "metadata": {},
   "source": [
    "## Box Plot"
   ]
  },
  {
   "cell_type": "code",
   "execution_count": 99,
   "metadata": {},
   "outputs": [
    {
     "data": {
      "text/html": [
       "<div>\n",
       "<style scoped>\n",
       "    .dataframe tbody tr th:only-of-type {\n",
       "        vertical-align: middle;\n",
       "    }\n",
       "\n",
       "    .dataframe tbody tr th {\n",
       "        vertical-align: top;\n",
       "    }\n",
       "\n",
       "    .dataframe thead th {\n",
       "        text-align: right;\n",
       "    }\n",
       "</style>\n",
       "<table border=\"1\" class=\"dataframe\">\n",
       "  <thead>\n",
       "    <tr style=\"text-align: right;\">\n",
       "      <th></th>\n",
       "      <th>Bulan</th>\n",
       "      <th>Course</th>\n",
       "      <th>Category</th>\n",
       "      <th>Jumlah Partisipan</th>\n",
       "      <th>Kecepatan pelayanan</th>\n",
       "      <th>Kemudahan fungsi fungsi untuk digunakan</th>\n",
       "      <th>Kemudahan nama situs untuk diingat</th>\n",
       "      <th>Kemudahan situs untuk dipahami</th>\n",
       "      <th>Kemudahan untuk dihubungi</th>\n",
       "      <th>Kemudahan untuk dipahami</th>\n",
       "      <th>Kenyamanan dalam mempelajari materi</th>\n",
       "      <th>Keramahan petugas</th>\n",
       "      <th>Manfaat terhadap tugas</th>\n",
       "      <th>Pengetahuan terhadap situs</th>\n",
       "      <th>Sistematika Penulisan</th>\n",
       "      <th>Tampilan situs</th>\n",
       "      <th>Final Score</th>\n",
       "    </tr>\n",
       "  </thead>\n",
       "  <tbody>\n",
       "    <tr>\n",
       "      <th>0</th>\n",
       "      <td>1</td>\n",
       "      <td>Fraud Klaim Asuransi</td>\n",
       "      <td>ADMEDIKA</td>\n",
       "      <td>1</td>\n",
       "      <td>100.00</td>\n",
       "      <td>100.00</td>\n",
       "      <td>0.00</td>\n",
       "      <td>100.00</td>\n",
       "      <td>100.00</td>\n",
       "      <td>70.00</td>\n",
       "      <td>100.00</td>\n",
       "      <td>100.00</td>\n",
       "      <td>100.00</td>\n",
       "      <td>100.00</td>\n",
       "      <td>100.00</td>\n",
       "      <td>100.00</td>\n",
       "      <td>89.17</td>\n",
       "    </tr>\n",
       "    <tr>\n",
       "      <th>1</th>\n",
       "      <td>1</td>\n",
       "      <td>Basic Procurement</td>\n",
       "      <td>Business Enabler / Enterprise Management (EL-EEM)</td>\n",
       "      <td>1</td>\n",
       "      <td>100.00</td>\n",
       "      <td>100.00</td>\n",
       "      <td>100.00</td>\n",
       "      <td>100.00</td>\n",
       "      <td>100.00</td>\n",
       "      <td>100.00</td>\n",
       "      <td>100.00</td>\n",
       "      <td>100.00</td>\n",
       "      <td>100.00</td>\n",
       "      <td>100.00</td>\n",
       "      <td>100.00</td>\n",
       "      <td>100.00</td>\n",
       "      <td>100.00</td>\n",
       "    </tr>\n",
       "    <tr>\n",
       "      <th>2</th>\n",
       "      <td>1</td>\n",
       "      <td>Paradigma Spiritual</td>\n",
       "      <td>Business Enabler / Enterprise Management (EL-EEM)</td>\n",
       "      <td>4</td>\n",
       "      <td>91.25</td>\n",
       "      <td>91.25</td>\n",
       "      <td>91.25</td>\n",
       "      <td>91.25</td>\n",
       "      <td>91.25</td>\n",
       "      <td>91.25</td>\n",
       "      <td>90.67</td>\n",
       "      <td>91.25</td>\n",
       "      <td>91.25</td>\n",
       "      <td>91.25</td>\n",
       "      <td>91.25</td>\n",
       "      <td>91.25</td>\n",
       "      <td>91.20</td>\n",
       "    </tr>\n",
       "    <tr>\n",
       "      <th>3</th>\n",
       "      <td>1</td>\n",
       "      <td>PMBOK</td>\n",
       "      <td>Business Enabler / Enterprise Management (EL-EEM)</td>\n",
       "      <td>10</td>\n",
       "      <td>88.11</td>\n",
       "      <td>87.43</td>\n",
       "      <td>89.47</td>\n",
       "      <td>88.11</td>\n",
       "      <td>89.47</td>\n",
       "      <td>88.11</td>\n",
       "      <td>86.67</td>\n",
       "      <td>88.95</td>\n",
       "      <td>91.50</td>\n",
       "      <td>89.47</td>\n",
       "      <td>87.78</td>\n",
       "      <td>88.33</td>\n",
       "      <td>88.62</td>\n",
       "    </tr>\n",
       "    <tr>\n",
       "      <th>4</th>\n",
       "      <td>1</td>\n",
       "      <td>Spiritual (Islam) Bekerja Ma allah</td>\n",
       "      <td>Business Enabler / Enterprise Management (EL-EEM)</td>\n",
       "      <td>2</td>\n",
       "      <td>90.00</td>\n",
       "      <td>90.00</td>\n",
       "      <td>90.00</td>\n",
       "      <td>90.00</td>\n",
       "      <td>90.00</td>\n",
       "      <td>90.00</td>\n",
       "      <td>90.00</td>\n",
       "      <td>90.00</td>\n",
       "      <td>90.00</td>\n",
       "      <td>90.00</td>\n",
       "      <td>90.00</td>\n",
       "      <td>90.00</td>\n",
       "      <td>90.00</td>\n",
       "    </tr>\n",
       "  </tbody>\n",
       "</table>\n",
       "</div>"
      ],
      "text/plain": [
       "   Bulan                              Course  \\\n",
       "0      1                Fraud Klaim Asuransi   \n",
       "1      1                   Basic Procurement   \n",
       "2      1                 Paradigma Spiritual   \n",
       "3      1                               PMBOK   \n",
       "4      1  Spiritual (Islam) Bekerja Ma allah   \n",
       "\n",
       "                                            Category Jumlah Partisipan  \\\n",
       "0                                           ADMEDIKA                 1   \n",
       "1  Business Enabler / Enterprise Management (EL-EEM)                 1   \n",
       "2  Business Enabler / Enterprise Management (EL-EEM)                 4   \n",
       "3  Business Enabler / Enterprise Management (EL-EEM)                10   \n",
       "4  Business Enabler / Enterprise Management (EL-EEM)                 2   \n",
       "\n",
       "   Kecepatan pelayanan  Kemudahan fungsi fungsi untuk digunakan  \\\n",
       "0               100.00                                   100.00   \n",
       "1               100.00                                   100.00   \n",
       "2                91.25                                    91.25   \n",
       "3                88.11                                    87.43   \n",
       "4                90.00                                    90.00   \n",
       "\n",
       "   Kemudahan nama situs untuk diingat  Kemudahan situs untuk dipahami  \\\n",
       "0                                0.00                          100.00   \n",
       "1                              100.00                          100.00   \n",
       "2                               91.25                           91.25   \n",
       "3                               89.47                           88.11   \n",
       "4                               90.00                           90.00   \n",
       "\n",
       "   Kemudahan untuk dihubungi  Kemudahan untuk dipahami  \\\n",
       "0                     100.00                     70.00   \n",
       "1                     100.00                    100.00   \n",
       "2                      91.25                     91.25   \n",
       "3                      89.47                     88.11   \n",
       "4                      90.00                     90.00   \n",
       "\n",
       "   Kenyamanan dalam mempelajari materi  Keramahan petugas  \\\n",
       "0                               100.00             100.00   \n",
       "1                               100.00             100.00   \n",
       "2                                90.67              91.25   \n",
       "3                                86.67              88.95   \n",
       "4                                90.00              90.00   \n",
       "\n",
       "   Manfaat terhadap tugas  Pengetahuan terhadap situs  Sistematika Penulisan  \\\n",
       "0                  100.00                      100.00                 100.00   \n",
       "1                  100.00                      100.00                 100.00   \n",
       "2                   91.25                       91.25                  91.25   \n",
       "3                   91.50                       89.47                  87.78   \n",
       "4                   90.00                       90.00                  90.00   \n",
       "\n",
       "   Tampilan situs  Final Score  \n",
       "0          100.00        89.17  \n",
       "1          100.00       100.00  \n",
       "2           91.25        91.20  \n",
       "3           88.33        88.62  \n",
       "4           90.00        90.00  "
      ]
     },
     "execution_count": 99,
     "metadata": {},
     "output_type": "execute_result"
    }
   ],
   "source": [
    "data_feed_elearn.head()"
   ]
  },
  {
   "cell_type": "code",
   "execution_count": 100,
   "metadata": {},
   "outputs": [],
   "source": [
    "Final_Score=data_feed_elearn['Final Score']"
   ]
  },
  {
   "cell_type": "code",
   "execution_count": 101,
   "metadata": {},
   "outputs": [
    {
     "data": {
      "text/plain": [
       "0        89.17\n",
       "1       100.00\n",
       "2        91.20\n",
       "3        88.62\n",
       "4        90.00\n",
       "         ...  \n",
       "2565     91.68\n",
       "2566     96.30\n",
       "2567     90.85\n",
       "2568     91.74\n",
       "2569     91.02\n",
       "Name: Final Score, Length: 2570, dtype: float64"
      ]
     },
     "execution_count": 101,
     "metadata": {},
     "output_type": "execute_result"
    }
   ],
   "source": [
    "Final_Score"
   ]
  },
  {
   "cell_type": "code",
   "execution_count": 102,
   "metadata": {},
   "outputs": [
    {
     "data": {
      "text/plain": [
       "count    2570.000000\n",
       "mean       91.086257\n",
       "std         8.908971\n",
       "min        13.330000\n",
       "25%        90.000000\n",
       "50%        91.990000\n",
       "75%        95.050000\n",
       "max       100.000000\n",
       "Name: Final Score, dtype: float64"
      ]
     },
     "execution_count": 102,
     "metadata": {},
     "output_type": "execute_result"
    }
   ],
   "source": [
    "Final_Score.describe()"
   ]
  },
  {
   "cell_type": "code",
   "execution_count": 103,
   "metadata": {},
   "outputs": [],
   "source": [
    "# we are using the inline backend\n",
    "%matplotlib inline \n",
    "\n",
    "import matplotlib as mpl\n",
    "import matplotlib.pyplot as plt"
   ]
  },
  {
   "cell_type": "code",
   "execution_count": 104,
   "metadata": {},
   "outputs": [
    {
     "data": {
      "image/png": "[encoded data removed]",
      "text/plain": [
       "<Figure size 576x720 with 1 Axes>"
      ]
     },
     "metadata": {
      "needs_background": "light"
     },
     "output_type": "display_data"
    }
   ],
   "source": [
    "# Write your function below\n",
    "Final_Score\n",
    "# Graded-Funtion Begin (~1 Lines)\n",
    "Final_Score.plot(kind='box',figsize=(8,10),color='darkgreen')\n",
    "# Graded-Funtion End\n",
    "\n",
    "plt.title('Box Plot of crime in Lambeth and Southwark from 2008 - 2016')\n",
    "plt.ylabel('number of crime')\n",
    "\n",
    "plt.show()"
   ]
  },
  {
   "cell_type": "markdown",
   "metadata": {},
   "source": [
    "## Z-Score"
   ]
  },
  {
   "cell_type": "markdown",
   "metadata": {},
   "source": [
    "akan digunakan saat Probability Distribution, Intervals dan Hypotesis Testing\n",
    "nilai z tabel diperoleh dengan membaca tabel distribus normal"
   ]
  },
  {
   "attachments": {
    "image.png": {
     "image/png": "[encoded data removed]"
    }
   },
   "cell_type": "markdown",
   "metadata": {},
   "source": [
    "![image.png](attachment:image.png)"
   ]
  },
  {
   "cell_type": "markdown",
   "metadata": {},
   "source": [
    "## Probability Distribution"
   ]
  },
  {
   "cell_type": "code",
   "execution_count": 105,
   "metadata": {},
   "outputs": [],
   "source": [
    "%matplotlib inline\n",
    "import matplotlib.pyplot as plt\n",
    "from IPython.display import Math, Latex\n",
    "from IPython.core.display import Image\n",
    "import seaborn as sns\n",
    "from scipy.stats import norm"
   ]
  },
  {
   "cell_type": "code",
   "execution_count": 106,
   "metadata": {},
   "outputs": [
    {
     "data": {
      "text/html": [
       "<div>\n",
       "<style scoped>\n",
       "    .dataframe tbody tr th:only-of-type {\n",
       "        vertical-align: middle;\n",
       "    }\n",
       "\n",
       "    .dataframe tbody tr th {\n",
       "        vertical-align: top;\n",
       "    }\n",
       "\n",
       "    .dataframe thead th {\n",
       "        text-align: right;\n",
       "    }\n",
       "</style>\n",
       "<table border=\"1\" class=\"dataframe\">\n",
       "  <thead>\n",
       "    <tr style=\"text-align: right;\">\n",
       "      <th></th>\n",
       "      <th>Bulan</th>\n",
       "      <th>Course</th>\n",
       "      <th>Category</th>\n",
       "      <th>Jumlah Partisipan</th>\n",
       "      <th>Kecepatan pelayanan</th>\n",
       "      <th>Kemudahan fungsi fungsi untuk digunakan</th>\n",
       "      <th>Kemudahan nama situs untuk diingat</th>\n",
       "      <th>Kemudahan situs untuk dipahami</th>\n",
       "      <th>Kemudahan untuk dihubungi</th>\n",
       "      <th>Kemudahan untuk dipahami</th>\n",
       "      <th>Kenyamanan dalam mempelajari materi</th>\n",
       "      <th>Keramahan petugas</th>\n",
       "      <th>Manfaat terhadap tugas</th>\n",
       "      <th>Pengetahuan terhadap situs</th>\n",
       "      <th>Sistematika Penulisan</th>\n",
       "      <th>Tampilan situs</th>\n",
       "      <th>Final Score</th>\n",
       "    </tr>\n",
       "  </thead>\n",
       "  <tbody>\n",
       "    <tr>\n",
       "      <th>0</th>\n",
       "      <td>1</td>\n",
       "      <td>Fraud Klaim Asuransi</td>\n",
       "      <td>ADMEDIKA</td>\n",
       "      <td>1</td>\n",
       "      <td>100.00</td>\n",
       "      <td>100.00</td>\n",
       "      <td>0.00</td>\n",
       "      <td>100.00</td>\n",
       "      <td>100.00</td>\n",
       "      <td>70.00</td>\n",
       "      <td>100.00</td>\n",
       "      <td>100.00</td>\n",
       "      <td>100.00</td>\n",
       "      <td>100.00</td>\n",
       "      <td>100.00</td>\n",
       "      <td>100.00</td>\n",
       "      <td>89.17</td>\n",
       "    </tr>\n",
       "    <tr>\n",
       "      <th>1</th>\n",
       "      <td>1</td>\n",
       "      <td>Basic Procurement</td>\n",
       "      <td>Business Enabler / Enterprise Management (EL-EEM)</td>\n",
       "      <td>1</td>\n",
       "      <td>100.00</td>\n",
       "      <td>100.00</td>\n",
       "      <td>100.00</td>\n",
       "      <td>100.00</td>\n",
       "      <td>100.00</td>\n",
       "      <td>100.00</td>\n",
       "      <td>100.00</td>\n",
       "      <td>100.00</td>\n",
       "      <td>100.00</td>\n",
       "      <td>100.00</td>\n",
       "      <td>100.00</td>\n",
       "      <td>100.00</td>\n",
       "      <td>100.00</td>\n",
       "    </tr>\n",
       "    <tr>\n",
       "      <th>2</th>\n",
       "      <td>1</td>\n",
       "      <td>Paradigma Spiritual</td>\n",
       "      <td>Business Enabler / Enterprise Management (EL-EEM)</td>\n",
       "      <td>4</td>\n",
       "      <td>91.25</td>\n",
       "      <td>91.25</td>\n",
       "      <td>91.25</td>\n",
       "      <td>91.25</td>\n",
       "      <td>91.25</td>\n",
       "      <td>91.25</td>\n",
       "      <td>90.67</td>\n",
       "      <td>91.25</td>\n",
       "      <td>91.25</td>\n",
       "      <td>91.25</td>\n",
       "      <td>91.25</td>\n",
       "      <td>91.25</td>\n",
       "      <td>91.20</td>\n",
       "    </tr>\n",
       "    <tr>\n",
       "      <th>3</th>\n",
       "      <td>1</td>\n",
       "      <td>PMBOK</td>\n",
       "      <td>Business Enabler / Enterprise Management (EL-EEM)</td>\n",
       "      <td>10</td>\n",
       "      <td>88.11</td>\n",
       "      <td>87.43</td>\n",
       "      <td>89.47</td>\n",
       "      <td>88.11</td>\n",
       "      <td>89.47</td>\n",
       "      <td>88.11</td>\n",
       "      <td>86.67</td>\n",
       "      <td>88.95</td>\n",
       "      <td>91.50</td>\n",
       "      <td>89.47</td>\n",
       "      <td>87.78</td>\n",
       "      <td>88.33</td>\n",
       "      <td>88.62</td>\n",
       "    </tr>\n",
       "    <tr>\n",
       "      <th>4</th>\n",
       "      <td>1</td>\n",
       "      <td>Spiritual (Islam) Bekerja Ma allah</td>\n",
       "      <td>Business Enabler / Enterprise Management (EL-EEM)</td>\n",
       "      <td>2</td>\n",
       "      <td>90.00</td>\n",
       "      <td>90.00</td>\n",
       "      <td>90.00</td>\n",
       "      <td>90.00</td>\n",
       "      <td>90.00</td>\n",
       "      <td>90.00</td>\n",
       "      <td>90.00</td>\n",
       "      <td>90.00</td>\n",
       "      <td>90.00</td>\n",
       "      <td>90.00</td>\n",
       "      <td>90.00</td>\n",
       "      <td>90.00</td>\n",
       "      <td>90.00</td>\n",
       "    </tr>\n",
       "  </tbody>\n",
       "</table>\n",
       "</div>"
      ],
      "text/plain": [
       "   Bulan                              Course  \\\n",
       "0      1                Fraud Klaim Asuransi   \n",
       "1      1                   Basic Procurement   \n",
       "2      1                 Paradigma Spiritual   \n",
       "3      1                               PMBOK   \n",
       "4      1  Spiritual (Islam) Bekerja Ma allah   \n",
       "\n",
       "                                            Category Jumlah Partisipan  \\\n",
       "0                                           ADMEDIKA                 1   \n",
       "1  Business Enabler / Enterprise Management (EL-EEM)                 1   \n",
       "2  Business Enabler / Enterprise Management (EL-EEM)                 4   \n",
       "3  Business Enabler / Enterprise Management (EL-EEM)                10   \n",
       "4  Business Enabler / Enterprise Management (EL-EEM)                 2   \n",
       "\n",
       "   Kecepatan pelayanan  Kemudahan fungsi fungsi untuk digunakan  \\\n",
       "0               100.00                                   100.00   \n",
       "1               100.00                                   100.00   \n",
       "2                91.25                                    91.25   \n",
       "3                88.11                                    87.43   \n",
       "4                90.00                                    90.00   \n",
       "\n",
       "   Kemudahan nama situs untuk diingat  Kemudahan situs untuk dipahami  \\\n",
       "0                                0.00                          100.00   \n",
       "1                              100.00                          100.00   \n",
       "2                               91.25                           91.25   \n",
       "3                               89.47                           88.11   \n",
       "4                               90.00                           90.00   \n",
       "\n",
       "   Kemudahan untuk dihubungi  Kemudahan untuk dipahami  \\\n",
       "0                     100.00                     70.00   \n",
       "1                     100.00                    100.00   \n",
       "2                      91.25                     91.25   \n",
       "3                      89.47                     88.11   \n",
       "4                      90.00                     90.00   \n",
       "\n",
       "   Kenyamanan dalam mempelajari materi  Keramahan petugas  \\\n",
       "0                               100.00             100.00   \n",
       "1                               100.00             100.00   \n",
       "2                                90.67              91.25   \n",
       "3                                86.67              88.95   \n",
       "4                                90.00              90.00   \n",
       "\n",
       "   Manfaat terhadap tugas  Pengetahuan terhadap situs  Sistematika Penulisan  \\\n",
       "0                  100.00                      100.00                 100.00   \n",
       "1                  100.00                      100.00                 100.00   \n",
       "2                   91.25                       91.25                  91.25   \n",
       "3                   91.50                       89.47                  87.78   \n",
       "4                   90.00                       90.00                  90.00   \n",
       "\n",
       "   Tampilan situs  Final Score  \n",
       "0          100.00        89.17  \n",
       "1          100.00       100.00  \n",
       "2           91.25        91.20  \n",
       "3           88.33        88.62  \n",
       "4           90.00        90.00  "
      ]
     },
     "execution_count": 106,
     "metadata": {},
     "output_type": "execute_result"
    }
   ],
   "source": [
    "data_feed_elearn.head()"
   ]
  },
  {
   "cell_type": "code",
   "execution_count": 107,
   "metadata": {},
   "outputs": [],
   "source": [
    "Kecepatan_pelayanan=data_feed_elearn['Kecepatan pelayanan']\n",
    "Kemudahan_fungsi_fungsi_untuk_digunakan=data_feed_elearn['Kemudahan fungsi fungsi untuk digunakan']\n",
    "Kemudahan_nama_situs_untuk_diingate=data_feed_elearn['Kemudahan nama situs untuk diingat']\n",
    "Kemudahan_situs_untuk_dipahami=data_feed_elearn['Kemudahan situs untuk dipahami']\n",
    "Kemudahan_untuk_dihubungi=data_feed_elearn['Kemudahan untuk dihubungi']\n",
    "Kemudahan_untuk_dipahami=data_feed_elearn['Kemudahan untuk dipahami']\n",
    "Kenyamanan_dalam_mempelajari_materi=data_feed_elearn['Kenyamanan dalam mempelajari materi']\n",
    "Keramahan_petugas=data_feed_elearn['Keramahan petugas']\n",
    "Manfaat_terhadap_tugas=data_feed_elearn['Manfaat terhadap tugas']\n",
    "Pengetahuan_terhadap_situs=data_feed_elearn['Pengetahuan terhadap situs']\n",
    "Sistematika_Penulisan=data_feed_elearn['Sistematika Penulisan']\n",
    "Tampilan_situs=data_feed_elearn['Tampilan situs']\n",
    "Final_Score=data_feed_elearn['Final Score']"
   ]
  },
  {
   "cell_type": "code",
   "execution_count": 108,
   "metadata": {},
   "outputs": [
    {
     "data": {
      "text/plain": [
       "0        89.17\n",
       "1       100.00\n",
       "2        91.20\n",
       "3        88.62\n",
       "4        90.00\n",
       "         ...  \n",
       "2565     91.68\n",
       "2566     96.30\n",
       "2567     90.85\n",
       "2568     91.74\n",
       "2569     91.02\n",
       "Name: Final Score, Length: 2570, dtype: float64"
      ]
     },
     "execution_count": 108,
     "metadata": {},
     "output_type": "execute_result"
    }
   ],
   "source": [
    "Final_Score"
   ]
  },
  {
   "cell_type": "code",
   "execution_count": 109,
   "metadata": {},
   "outputs": [
    {
     "data": {
      "text/plain": [
       "[Text(0, 0.5, 'Frequency'),\n",
       " Text(0.5, 0, 'Normal Distribution of Final Score Feedback E-learning')]"
      ]
     },
     "execution_count": 109,
     "metadata": {},
     "output_type": "execute_result"
    },
    {
     "data": {
      "image/png": "[encoded data removed]",
      "text/plain": [
       "<Figure size 432x288 with 1 Axes>"
      ]
     },
     "metadata": {
      "needs_background": "light"
     },
     "output_type": "display_data"
    }
   ],
   "source": [
    "ax = sns.distplot(Final_Score,\n",
    "                 bins=100,\n",
    "                 kde=True,\n",
    "                 color='red',\n",
    "                 hist_kws={'linewidth':15,'alpha':0.3})\n",
    "ax.set(xlabel='Normal Distribution of Final Score Feedback E-learning',ylabel='Frequency')"
   ]
  },
  {
   "cell_type": "code",
   "execution_count": 110,
   "metadata": {},
   "outputs": [
    {
     "name": "stdout",
     "output_type": "stream",
     "text": [
      "91.08625680933852\n",
      "91.99\n",
      "100.0\n"
     ]
    }
   ],
   "source": [
    "cek_mean_Final_Score=statistics.mean(Final_Score)\n",
    "cek_median_Final_Score=statistics.median(Final_Score)\n",
    "cek__modus_Final_Score=statistics.mode(Final_Score)\n",
    "print(cek_mean_Final_Score)\n",
    "print(cek_median_Final_Score)\n",
    "print(cek__modus_Final_Score)"
   ]
  },
  {
   "cell_type": "markdown",
   "metadata": {},
   "source": [
    "Insight Probability distribution data Nilai Final Score:\n",
    "1. data Final Score memusat diantara range 80 sampai dengan 100.\n",
    "2. nilai mean = 91.08625680933852\n",
    "3. Nilai median = 91.99\n",
    "4. Nilai modus = 100.0"
   ]
  },
  {
   "cell_type": "markdown",
   "metadata": {},
   "source": [
    "## Confidence Inetervals"
   ]
  },
  {
   "cell_type": "code",
   "execution_count": 111,
   "metadata": {},
   "outputs": [
    {
     "data": {
      "text/html": [
       "<div>\n",
       "<style scoped>\n",
       "    .dataframe tbody tr th:only-of-type {\n",
       "        vertical-align: middle;\n",
       "    }\n",
       "\n",
       "    .dataframe tbody tr th {\n",
       "        vertical-align: top;\n",
       "    }\n",
       "\n",
       "    .dataframe thead th {\n",
       "        text-align: right;\n",
       "    }\n",
       "</style>\n",
       "<table border=\"1\" class=\"dataframe\">\n",
       "  <thead>\n",
       "    <tr style=\"text-align: right;\">\n",
       "      <th></th>\n",
       "      <th>Bulan</th>\n",
       "      <th>Course</th>\n",
       "      <th>Category</th>\n",
       "      <th>Jumlah Partisipan</th>\n",
       "      <th>Kecepatan pelayanan</th>\n",
       "      <th>Kemudahan fungsi fungsi untuk digunakan</th>\n",
       "      <th>Kemudahan nama situs untuk diingat</th>\n",
       "      <th>Kemudahan situs untuk dipahami</th>\n",
       "      <th>Kemudahan untuk dihubungi</th>\n",
       "      <th>Kemudahan untuk dipahami</th>\n",
       "      <th>Kenyamanan dalam mempelajari materi</th>\n",
       "      <th>Keramahan petugas</th>\n",
       "      <th>Manfaat terhadap tugas</th>\n",
       "      <th>Pengetahuan terhadap situs</th>\n",
       "      <th>Sistematika Penulisan</th>\n",
       "      <th>Tampilan situs</th>\n",
       "      <th>Final Score</th>\n",
       "    </tr>\n",
       "  </thead>\n",
       "  <tbody>\n",
       "    <tr>\n",
       "      <th>0</th>\n",
       "      <td>1</td>\n",
       "      <td>Fraud Klaim Asuransi</td>\n",
       "      <td>ADMEDIKA</td>\n",
       "      <td>1</td>\n",
       "      <td>100.00</td>\n",
       "      <td>100.00</td>\n",
       "      <td>0.00</td>\n",
       "      <td>100.00</td>\n",
       "      <td>100.00</td>\n",
       "      <td>70.00</td>\n",
       "      <td>100.00</td>\n",
       "      <td>100.00</td>\n",
       "      <td>100.00</td>\n",
       "      <td>100.00</td>\n",
       "      <td>100.00</td>\n",
       "      <td>100.00</td>\n",
       "      <td>89.17</td>\n",
       "    </tr>\n",
       "    <tr>\n",
       "      <th>1</th>\n",
       "      <td>1</td>\n",
       "      <td>Basic Procurement</td>\n",
       "      <td>Business Enabler / Enterprise Management (EL-EEM)</td>\n",
       "      <td>1</td>\n",
       "      <td>100.00</td>\n",
       "      <td>100.00</td>\n",
       "      <td>100.00</td>\n",
       "      <td>100.00</td>\n",
       "      <td>100.00</td>\n",
       "      <td>100.00</td>\n",
       "      <td>100.00</td>\n",
       "      <td>100.00</td>\n",
       "      <td>100.00</td>\n",
       "      <td>100.00</td>\n",
       "      <td>100.00</td>\n",
       "      <td>100.00</td>\n",
       "      <td>100.00</td>\n",
       "    </tr>\n",
       "    <tr>\n",
       "      <th>2</th>\n",
       "      <td>1</td>\n",
       "      <td>Paradigma Spiritual</td>\n",
       "      <td>Business Enabler / Enterprise Management (EL-EEM)</td>\n",
       "      <td>4</td>\n",
       "      <td>91.25</td>\n",
       "      <td>91.25</td>\n",
       "      <td>91.25</td>\n",
       "      <td>91.25</td>\n",
       "      <td>91.25</td>\n",
       "      <td>91.25</td>\n",
       "      <td>90.67</td>\n",
       "      <td>91.25</td>\n",
       "      <td>91.25</td>\n",
       "      <td>91.25</td>\n",
       "      <td>91.25</td>\n",
       "      <td>91.25</td>\n",
       "      <td>91.20</td>\n",
       "    </tr>\n",
       "    <tr>\n",
       "      <th>3</th>\n",
       "      <td>1</td>\n",
       "      <td>PMBOK</td>\n",
       "      <td>Business Enabler / Enterprise Management (EL-EEM)</td>\n",
       "      <td>10</td>\n",
       "      <td>88.11</td>\n",
       "      <td>87.43</td>\n",
       "      <td>89.47</td>\n",
       "      <td>88.11</td>\n",
       "      <td>89.47</td>\n",
       "      <td>88.11</td>\n",
       "      <td>86.67</td>\n",
       "      <td>88.95</td>\n",
       "      <td>91.50</td>\n",
       "      <td>89.47</td>\n",
       "      <td>87.78</td>\n",
       "      <td>88.33</td>\n",
       "      <td>88.62</td>\n",
       "    </tr>\n",
       "    <tr>\n",
       "      <th>4</th>\n",
       "      <td>1</td>\n",
       "      <td>Spiritual (Islam) Bekerja Ma allah</td>\n",
       "      <td>Business Enabler / Enterprise Management (EL-EEM)</td>\n",
       "      <td>2</td>\n",
       "      <td>90.00</td>\n",
       "      <td>90.00</td>\n",
       "      <td>90.00</td>\n",
       "      <td>90.00</td>\n",
       "      <td>90.00</td>\n",
       "      <td>90.00</td>\n",
       "      <td>90.00</td>\n",
       "      <td>90.00</td>\n",
       "      <td>90.00</td>\n",
       "      <td>90.00</td>\n",
       "      <td>90.00</td>\n",
       "      <td>90.00</td>\n",
       "      <td>90.00</td>\n",
       "    </tr>\n",
       "  </tbody>\n",
       "</table>\n",
       "</div>"
      ],
      "text/plain": [
       "   Bulan                              Course  \\\n",
       "0      1                Fraud Klaim Asuransi   \n",
       "1      1                   Basic Procurement   \n",
       "2      1                 Paradigma Spiritual   \n",
       "3      1                               PMBOK   \n",
       "4      1  Spiritual (Islam) Bekerja Ma allah   \n",
       "\n",
       "                                            Category Jumlah Partisipan  \\\n",
       "0                                           ADMEDIKA                 1   \n",
       "1  Business Enabler / Enterprise Management (EL-EEM)                 1   \n",
       "2  Business Enabler / Enterprise Management (EL-EEM)                 4   \n",
       "3  Business Enabler / Enterprise Management (EL-EEM)                10   \n",
       "4  Business Enabler / Enterprise Management (EL-EEM)                 2   \n",
       "\n",
       "   Kecepatan pelayanan  Kemudahan fungsi fungsi untuk digunakan  \\\n",
       "0               100.00                                   100.00   \n",
       "1               100.00                                   100.00   \n",
       "2                91.25                                    91.25   \n",
       "3                88.11                                    87.43   \n",
       "4                90.00                                    90.00   \n",
       "\n",
       "   Kemudahan nama situs untuk diingat  Kemudahan situs untuk dipahami  \\\n",
       "0                                0.00                          100.00   \n",
       "1                              100.00                          100.00   \n",
       "2                               91.25                           91.25   \n",
       "3                               89.47                           88.11   \n",
       "4                               90.00                           90.00   \n",
       "\n",
       "   Kemudahan untuk dihubungi  Kemudahan untuk dipahami  \\\n",
       "0                     100.00                     70.00   \n",
       "1                     100.00                    100.00   \n",
       "2                      91.25                     91.25   \n",
       "3                      89.47                     88.11   \n",
       "4                      90.00                     90.00   \n",
       "\n",
       "   Kenyamanan dalam mempelajari materi  Keramahan petugas  \\\n",
       "0                               100.00             100.00   \n",
       "1                               100.00             100.00   \n",
       "2                                90.67              91.25   \n",
       "3                                86.67              88.95   \n",
       "4                                90.00              90.00   \n",
       "\n",
       "   Manfaat terhadap tugas  Pengetahuan terhadap situs  Sistematika Penulisan  \\\n",
       "0                  100.00                      100.00                 100.00   \n",
       "1                  100.00                      100.00                 100.00   \n",
       "2                   91.25                       91.25                  91.25   \n",
       "3                   91.50                       89.47                  87.78   \n",
       "4                   90.00                       90.00                  90.00   \n",
       "\n",
       "   Tampilan situs  Final Score  \n",
       "0          100.00        89.17  \n",
       "1          100.00       100.00  \n",
       "2           91.25        91.20  \n",
       "3           88.33        88.62  \n",
       "4           90.00        90.00  "
      ]
     },
     "execution_count": 111,
     "metadata": {},
     "output_type": "execute_result"
    }
   ],
   "source": [
    "data_feed_elearn.head()"
   ]
  },
  {
   "cell_type": "code",
   "execution_count": 112,
   "metadata": {},
   "outputs": [],
   "source": [
    "Final_Score=data_feed_elearn['Final Score']"
   ]
  },
  {
   "cell_type": "code",
   "execution_count": 113,
   "metadata": {},
   "outputs": [
    {
     "data": {
      "text/plain": [
       "0        89.17\n",
       "1       100.00\n",
       "2        91.20\n",
       "3        88.62\n",
       "4        90.00\n",
       "         ...  \n",
       "2565     91.68\n",
       "2566     96.30\n",
       "2567     90.85\n",
       "2568     91.74\n",
       "2569     91.02\n",
       "Name: Final Score, Length: 2570, dtype: float64"
      ]
     },
     "execution_count": 113,
     "metadata": {},
     "output_type": "execute_result"
    }
   ],
   "source": [
    "Final_Score"
   ]
  },
  {
   "cell_type": "markdown",
   "metadata": {},
   "source": [
    "Kita akan menghitung interval dari Final Score\n",
    "sehingga kita perlu dekripsikan nilai setiap parameter"
   ]
  },
  {
   "cell_type": "markdown",
   "metadata": {},
   "source": [
    "1. confidence interval yang digunakan adalah 95%, sehingga nilai dari z-score adala 1.96"
   ]
  },
  {
   "cell_type": "code",
   "execution_count": 114,
   "metadata": {},
   "outputs": [],
   "source": [
    "z_score=1.96"
   ]
  },
  {
   "cell_type": "markdown",
   "metadata": {},
   "source": [
    "2. Menghitung nilai rata-rata dari Final Score"
   ]
  },
  {
   "cell_type": "code",
   "execution_count": 115,
   "metadata": {},
   "outputs": [
    {
     "data": {
      "text/plain": [
       "91.08625680933852"
      ]
     },
     "execution_count": 115,
     "metadata": {},
     "output_type": "execute_result"
    }
   ],
   "source": [
    "mean_Final_Score_CI=statistics.mean(Final_Score)\n",
    "mean_Final_Score_CI"
   ]
  },
  {
   "cell_type": "markdown",
   "metadata": {},
   "source": [
    "3. menetukan jumlah sampel"
   ]
  },
  {
   "cell_type": "code",
   "execution_count": 116,
   "metadata": {},
   "outputs": [
    {
     "data": {
      "text/plain": [
       "(2570,)"
      ]
     },
     "execution_count": 116,
     "metadata": {},
     "output_type": "execute_result"
    }
   ],
   "source": [
    "Final_Score.shape"
   ]
  },
  {
   "cell_type": "code",
   "execution_count": 117,
   "metadata": {},
   "outputs": [],
   "source": [
    "n=2570"
   ]
  },
  {
   "cell_type": "markdown",
   "metadata": {},
   "source": [
    "4. menentukan standar deviasi Final Score"
   ]
  },
  {
   "cell_type": "code",
   "execution_count": 118,
   "metadata": {},
   "outputs": [
    {
     "data": {
      "text/plain": [
       "8.908971138902489"
      ]
     },
     "execution_count": 118,
     "metadata": {},
     "output_type": "execute_result"
    }
   ],
   "source": [
    "stdev_Final_Score_CI=statistics.stdev(Final_Score)\n",
    "stdev_Final_Score_CI"
   ]
  },
  {
   "cell_type": "markdown",
   "metadata": {},
   "source": [
    "5. menentukan se"
   ]
  },
  {
   "cell_type": "code",
   "execution_count": 119,
   "metadata": {},
   "outputs": [
    {
     "data": {
      "text/plain": [
       "0.17573610250945318"
      ]
     },
     "execution_count": 119,
     "metadata": {},
     "output_type": "execute_result"
    }
   ],
   "source": [
    "se = stdev_Final_Score_CI/np.sqrt(n)\n",
    "se"
   ]
  },
  {
   "cell_type": "markdown",
   "metadata": {},
   "source": [
    "Rekapitulasi parameter"
   ]
  },
  {
   "cell_type": "code",
   "execution_count": 120,
   "metadata": {},
   "outputs": [
    {
     "name": "stdout",
     "output_type": "stream",
     "text": [
      "91.08625680933852\n",
      "1.96\n",
      "0.17573610250945318\n"
     ]
    }
   ],
   "source": [
    "print(mean_Final_Score_CI)\n",
    "print(z_score)\n",
    "print(se)"
   ]
  },
  {
   "cell_type": "markdown",
   "metadata": {},
   "source": [
    "6. menghitung batas atas dan batas bawah"
   ]
  },
  {
   "cell_type": "code",
   "execution_count": 121,
   "metadata": {},
   "outputs": [
    {
     "name": "stdout",
     "output_type": "stream",
     "text": [
      "90.74181404842 91.43069957025705\n"
     ]
    }
   ],
   "source": [
    "Final_Score_lcb=mean_Final_Score_CI - z_score*se\n",
    "Final_Score_ucb=mean_Final_Score_CI + z_score*se\n",
    "print(Final_Score_lcb,Final_Score_ucb)"
   ]
  },
  {
   "cell_type": "markdown",
   "metadata": {},
   "source": [
    "Convidence interval dari Nilai Final Score dengan keyakinan 95% adalah nilai Final Score diantara 90.74 sampai dengan 91.43"
   ]
  },
  {
   "cell_type": "markdown",
   "metadata": {},
   "source": [
    "## Hypotesis Testing"
   ]
  },
  {
   "cell_type": "code",
   "execution_count": 122,
   "metadata": {},
   "outputs": [
    {
     "data": {
      "text/html": [
       "<div>\n",
       "<style scoped>\n",
       "    .dataframe tbody tr th:only-of-type {\n",
       "        vertical-align: middle;\n",
       "    }\n",
       "\n",
       "    .dataframe tbody tr th {\n",
       "        vertical-align: top;\n",
       "    }\n",
       "\n",
       "    .dataframe thead th {\n",
       "        text-align: right;\n",
       "    }\n",
       "</style>\n",
       "<table border=\"1\" class=\"dataframe\">\n",
       "  <thead>\n",
       "    <tr style=\"text-align: right;\">\n",
       "      <th></th>\n",
       "      <th>Bulan</th>\n",
       "      <th>Course</th>\n",
       "      <th>Category</th>\n",
       "      <th>Jumlah Partisipan</th>\n",
       "      <th>Kecepatan pelayanan</th>\n",
       "      <th>Kemudahan fungsi fungsi untuk digunakan</th>\n",
       "      <th>Kemudahan nama situs untuk diingat</th>\n",
       "      <th>Kemudahan situs untuk dipahami</th>\n",
       "      <th>Kemudahan untuk dihubungi</th>\n",
       "      <th>Kemudahan untuk dipahami</th>\n",
       "      <th>Kenyamanan dalam mempelajari materi</th>\n",
       "      <th>Keramahan petugas</th>\n",
       "      <th>Manfaat terhadap tugas</th>\n",
       "      <th>Pengetahuan terhadap situs</th>\n",
       "      <th>Sistematika Penulisan</th>\n",
       "      <th>Tampilan situs</th>\n",
       "      <th>Final Score</th>\n",
       "    </tr>\n",
       "  </thead>\n",
       "  <tbody>\n",
       "    <tr>\n",
       "      <th>0</th>\n",
       "      <td>1</td>\n",
       "      <td>Fraud Klaim Asuransi</td>\n",
       "      <td>ADMEDIKA</td>\n",
       "      <td>1</td>\n",
       "      <td>100.00</td>\n",
       "      <td>100.00</td>\n",
       "      <td>0.00</td>\n",
       "      <td>100.00</td>\n",
       "      <td>100.00</td>\n",
       "      <td>70.00</td>\n",
       "      <td>100.00</td>\n",
       "      <td>100.00</td>\n",
       "      <td>100.00</td>\n",
       "      <td>100.00</td>\n",
       "      <td>100.00</td>\n",
       "      <td>100.00</td>\n",
       "      <td>89.17</td>\n",
       "    </tr>\n",
       "    <tr>\n",
       "      <th>1</th>\n",
       "      <td>1</td>\n",
       "      <td>Basic Procurement</td>\n",
       "      <td>Business Enabler / Enterprise Management (EL-EEM)</td>\n",
       "      <td>1</td>\n",
       "      <td>100.00</td>\n",
       "      <td>100.00</td>\n",
       "      <td>100.00</td>\n",
       "      <td>100.00</td>\n",
       "      <td>100.00</td>\n",
       "      <td>100.00</td>\n",
       "      <td>100.00</td>\n",
       "      <td>100.00</td>\n",
       "      <td>100.00</td>\n",
       "      <td>100.00</td>\n",
       "      <td>100.00</td>\n",
       "      <td>100.00</td>\n",
       "      <td>100.00</td>\n",
       "    </tr>\n",
       "    <tr>\n",
       "      <th>2</th>\n",
       "      <td>1</td>\n",
       "      <td>Paradigma Spiritual</td>\n",
       "      <td>Business Enabler / Enterprise Management (EL-EEM)</td>\n",
       "      <td>4</td>\n",
       "      <td>91.25</td>\n",
       "      <td>91.25</td>\n",
       "      <td>91.25</td>\n",
       "      <td>91.25</td>\n",
       "      <td>91.25</td>\n",
       "      <td>91.25</td>\n",
       "      <td>90.67</td>\n",
       "      <td>91.25</td>\n",
       "      <td>91.25</td>\n",
       "      <td>91.25</td>\n",
       "      <td>91.25</td>\n",
       "      <td>91.25</td>\n",
       "      <td>91.20</td>\n",
       "    </tr>\n",
       "    <tr>\n",
       "      <th>3</th>\n",
       "      <td>1</td>\n",
       "      <td>PMBOK</td>\n",
       "      <td>Business Enabler / Enterprise Management (EL-EEM)</td>\n",
       "      <td>10</td>\n",
       "      <td>88.11</td>\n",
       "      <td>87.43</td>\n",
       "      <td>89.47</td>\n",
       "      <td>88.11</td>\n",
       "      <td>89.47</td>\n",
       "      <td>88.11</td>\n",
       "      <td>86.67</td>\n",
       "      <td>88.95</td>\n",
       "      <td>91.50</td>\n",
       "      <td>89.47</td>\n",
       "      <td>87.78</td>\n",
       "      <td>88.33</td>\n",
       "      <td>88.62</td>\n",
       "    </tr>\n",
       "    <tr>\n",
       "      <th>4</th>\n",
       "      <td>1</td>\n",
       "      <td>Spiritual (Islam) Bekerja Ma allah</td>\n",
       "      <td>Business Enabler / Enterprise Management (EL-EEM)</td>\n",
       "      <td>2</td>\n",
       "      <td>90.00</td>\n",
       "      <td>90.00</td>\n",
       "      <td>90.00</td>\n",
       "      <td>90.00</td>\n",
       "      <td>90.00</td>\n",
       "      <td>90.00</td>\n",
       "      <td>90.00</td>\n",
       "      <td>90.00</td>\n",
       "      <td>90.00</td>\n",
       "      <td>90.00</td>\n",
       "      <td>90.00</td>\n",
       "      <td>90.00</td>\n",
       "      <td>90.00</td>\n",
       "    </tr>\n",
       "  </tbody>\n",
       "</table>\n",
       "</div>"
      ],
      "text/plain": [
       "   Bulan                              Course  \\\n",
       "0      1                Fraud Klaim Asuransi   \n",
       "1      1                   Basic Procurement   \n",
       "2      1                 Paradigma Spiritual   \n",
       "3      1                               PMBOK   \n",
       "4      1  Spiritual (Islam) Bekerja Ma allah   \n",
       "\n",
       "                                            Category Jumlah Partisipan  \\\n",
       "0                                           ADMEDIKA                 1   \n",
       "1  Business Enabler / Enterprise Management (EL-EEM)                 1   \n",
       "2  Business Enabler / Enterprise Management (EL-EEM)                 4   \n",
       "3  Business Enabler / Enterprise Management (EL-EEM)                10   \n",
       "4  Business Enabler / Enterprise Management (EL-EEM)                 2   \n",
       "\n",
       "   Kecepatan pelayanan  Kemudahan fungsi fungsi untuk digunakan  \\\n",
       "0               100.00                                   100.00   \n",
       "1               100.00                                   100.00   \n",
       "2                91.25                                    91.25   \n",
       "3                88.11                                    87.43   \n",
       "4                90.00                                    90.00   \n",
       "\n",
       "   Kemudahan nama situs untuk diingat  Kemudahan situs untuk dipahami  \\\n",
       "0                                0.00                          100.00   \n",
       "1                              100.00                          100.00   \n",
       "2                               91.25                           91.25   \n",
       "3                               89.47                           88.11   \n",
       "4                               90.00                           90.00   \n",
       "\n",
       "   Kemudahan untuk dihubungi  Kemudahan untuk dipahami  \\\n",
       "0                     100.00                     70.00   \n",
       "1                     100.00                    100.00   \n",
       "2                      91.25                     91.25   \n",
       "3                      89.47                     88.11   \n",
       "4                      90.00                     90.00   \n",
       "\n",
       "   Kenyamanan dalam mempelajari materi  Keramahan petugas  \\\n",
       "0                               100.00             100.00   \n",
       "1                               100.00             100.00   \n",
       "2                                90.67              91.25   \n",
       "3                                86.67              88.95   \n",
       "4                                90.00              90.00   \n",
       "\n",
       "   Manfaat terhadap tugas  Pengetahuan terhadap situs  Sistematika Penulisan  \\\n",
       "0                  100.00                      100.00                 100.00   \n",
       "1                  100.00                      100.00                 100.00   \n",
       "2                   91.25                       91.25                  91.25   \n",
       "3                   91.50                       89.47                  87.78   \n",
       "4                   90.00                       90.00                  90.00   \n",
       "\n",
       "   Tampilan situs  Final Score  \n",
       "0          100.00        89.17  \n",
       "1          100.00       100.00  \n",
       "2           91.25        91.20  \n",
       "3           88.33        88.62  \n",
       "4           90.00        90.00  "
      ]
     },
     "execution_count": 122,
     "metadata": {},
     "output_type": "execute_result"
    }
   ],
   "source": [
    "data_feed_elearn.head()"
   ]
  },
  {
   "cell_type": "code",
   "execution_count": 123,
   "metadata": {},
   "outputs": [],
   "source": [
    "Final_Score=data_feed_elearn['Final Score']\n",
    "Kemudahan_situs_untuk_dipahami=data_feed_elearn['Kemudahan situs untuk dipahami']\n",
    "Kecepatan_pelayanan=data_feed_elearn['Kecepatan pelayanan']"
   ]
  },
  {
   "cell_type": "code",
   "execution_count": 124,
   "metadata": {},
   "outputs": [
    {
     "name": "stdout",
     "output_type": "stream",
     "text": [
      "0        89.17\n",
      "1       100.00\n",
      "2        91.20\n",
      "3        88.62\n",
      "4        90.00\n",
      "         ...  \n",
      "2565     91.68\n",
      "2566     96.30\n",
      "2567     90.85\n",
      "2568     91.74\n",
      "2569     91.02\n",
      "Name: Final Score, Length: 2570, dtype: float64\n",
      "0       100.00\n",
      "1       100.00\n",
      "2        91.25\n",
      "3        88.11\n",
      "4        90.00\n",
      "         ...  \n",
      "2565     92.23\n",
      "2566     96.67\n",
      "2567     91.54\n",
      "2568     92.61\n",
      "2569     90.82\n",
      "Name: Kemudahan situs untuk dipahami, Length: 2570, dtype: float64\n",
      "0       100.00\n",
      "1       100.00\n",
      "2        91.25\n",
      "3        88.11\n",
      "4        90.00\n",
      "         ...  \n",
      "2565     91.32\n",
      "2566     94.80\n",
      "2567     90.59\n",
      "2568     91.36\n",
      "2569     90.90\n",
      "Name: Kecepatan pelayanan, Length: 2570, dtype: float64\n"
     ]
    }
   ],
   "source": [
    "print(Final_Score)\n",
    "print(Kemudahan_situs_untuk_dipahami)\n",
    "print(Kecepatan_pelayanan)"
   ]
  },
  {
   "cell_type": "code",
   "execution_count": 125,
   "metadata": {},
   "outputs": [],
   "source": [
    "import statsmodels.api as sm"
   ]
  },
  {
   "cell_type": "markdown",
   "metadata": {},
   "source": [
    "-- Pada case ini, kita akan menguji 3 rata-rata kelompok data yaitu Final Score (kode=1),Kemudahan situs untuk dipahami (kode=2) dan Kecepatan pelayanan (kode=3)\n",
    "kita akan mencari jumlah sampel, mu dan sd utuk setiap kelompok data."
   ]
  },
  {
   "cell_type": "markdown",
   "metadata": {},
   "source": [
    "case 1 adalah menguji apakah rata-rata nilai final score sama dengan rata-rata nilai Kemudahan situs untuk dipahami"
   ]
  },
  {
   "cell_type": "markdown",
   "metadata": {},
   "source": [
    "case 2 adalah menguji apakah rata-rata nilai final score sama dengan rata-rata nilai Kecepatan pelayanan"
   ]
  },
  {
   "cell_type": "code",
   "execution_count": 126,
   "metadata": {},
   "outputs": [
    {
     "data": {
      "text/plain": [
       "(2570, 91.08625680933854, 8.90897113890248)"
      ]
     },
     "execution_count": 126,
     "metadata": {},
     "output_type": "execute_result"
    }
   ],
   "source": [
    "## Final Score\n",
    "n1=len(Final_Score)\n",
    "mu1 = Final_Score.mean()\n",
    "sd1 = Final_Score.std()\n",
    "(n1,mu1,sd1)"
   ]
  },
  {
   "cell_type": "code",
   "execution_count": 127,
   "metadata": {},
   "outputs": [
    {
     "data": {
      "text/plain": [
       "(2570, 89.1697976653698, 17.598739277880323)"
      ]
     },
     "execution_count": 127,
     "metadata": {},
     "output_type": "execute_result"
    }
   ],
   "source": [
    "## Kemudahan situs untuk dipahami\n",
    "n2=len(Kemudahan_situs_untuk_dipahami)\n",
    "mu2 = Kemudahan_situs_untuk_dipahami.mean()\n",
    "sd2 = Kemudahan_situs_untuk_dipahami.std()\n",
    "(n2,mu2,sd2)"
   ]
  },
  {
   "cell_type": "code",
   "execution_count": 128,
   "metadata": {},
   "outputs": [
    {
     "data": {
      "text/plain": [
       "(2570, 90.75810116731527, 11.371855825578677)"
      ]
     },
     "execution_count": 128,
     "metadata": {},
     "output_type": "execute_result"
    }
   ],
   "source": [
    "## Kecepatan Pelayanan\n",
    "n3=len(Kecepatan_pelayanan)\n",
    "mu3 = Kecepatan_pelayanan.mean()\n",
    "sd3 = Kecepatan_pelayanan.std()\n",
    "(n3,mu3,sd3)"
   ]
  },
  {
   "cell_type": "markdown",
   "metadata": {},
   "source": [
    "nilai_alpha = 0.05 (5%)"
   ]
  },
  {
   "attachments": {
    "image.png": {
     "image/png": "[encoded data removed]"
    }
   },
   "cell_type": "markdown",
   "metadata": {},
   "source": [
    "panduan menjawab hipotesis\n",
    "![image.png](attachment:image.png)"
   ]
  },
  {
   "cell_type": "markdown",
   "metadata": {},
   "source": [
    "case 1"
   ]
  },
  {
   "cell_type": "markdown",
   "metadata": {},
   "source": [
    "H0 : mu1 = mu2 (rata-rata nilai Final Score sama dengan rata-rata nilai Kemudahan situs untuk dipahami)"
   ]
  },
  {
   "cell_type": "markdown",
   "metadata": {},
   "source": [
    "H1 : mu1 ~= mu2 (rata-rata nilai Final Score tidak sama dengan rata-rata nilai Kemudahan situs untuk dipahami)"
   ]
  },
  {
   "cell_type": "code",
   "execution_count": 129,
   "metadata": {},
   "outputs": [
    {
     "data": {
      "text/plain": [
       "(4.925424480160536, 8.417741725361513e-07)"
      ]
     },
     "execution_count": 129,
     "metadata": {},
     "output_type": "execute_result"
    }
   ],
   "source": [
    "sm.stats.ztest(Final_Score.dropna(),Kemudahan_situs_untuk_dipahami.dropna(),alternative='two-sided')"
   ]
  },
  {
   "cell_type": "markdown",
   "metadata": {},
   "source": [
    "insight case 1\n",
    "1. Nilai p-value (8.417741725361513e-07) < Nilai alpha (0.05)\n",
    "2. Tolak H0\n",
    "3. Sehingga dapat ditarik kesimpulan bahwa rata-rata nilai Final Score tidak sama dengan rata-rata nilai Kemudahan situs untuk dipahami"
   ]
  },
  {
   "cell_type": "markdown",
   "metadata": {},
   "source": [
    "case 2"
   ]
  },
  {
   "cell_type": "markdown",
   "metadata": {},
   "source": [
    "H0 : mu1 = mu3 (rata-rata nilai Final Score sama dengan rata-rata nilai Kecepatan Pelayanan)"
   ]
  },
  {
   "cell_type": "markdown",
   "metadata": {},
   "source": [
    "H1 : mu1 ~= mu3 (rata-rata nilai Final Score tidak sama dengan rata-rata nilai Kecepatan Pelayanan)"
   ]
  },
  {
   "cell_type": "code",
   "execution_count": 130,
   "metadata": {},
   "outputs": [
    {
     "data": {
      "text/plain": [
       "(1.1515871011623902, 0.24949078434311334)"
      ]
     },
     "execution_count": 130,
     "metadata": {},
     "output_type": "execute_result"
    }
   ],
   "source": [
    "sm.stats.ztest(Final_Score.dropna(),Kecepatan_pelayanan.dropna(),alternative='two-sided')"
   ]
  },
  {
   "cell_type": "markdown",
   "metadata": {},
   "source": [
    "insight case 2\n",
    "1. Nilai p-value (0.24949078434311334) > Nilai alpha (0.05)\n",
    "2. Tidak Tolak H0\n",
    "3. Sehingga dapat ditarik kesimpulan bahwa rata-rata nilai Final Score sama dengan rata-rata nilai Kecepatan Pelayanan"
   ]
  }
 ],
 "metadata": {
  "kernelspec": {
   "display_name": "Python 3",
   "language": "python",
   "name": "python3"
  },
  "language_info": {
   "codemirror_mode": {
    "name": "ipython",
    "version": 3
   },
   "file_extension": ".py",
   "mimetype": "text/x-python",
   "name": "python",
   "nbconvert_exporter": "python",
   "pygments_lexer": "ipython3",
   "version": "3.8.3"
  }
 },
 "nbformat": 4,
 "nbformat_minor": 4
}
