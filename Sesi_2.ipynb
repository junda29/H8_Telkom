{
  "nbformat": 4,
  "nbformat_minor": 0,
  "metadata": {
    "colab": {
      "name": "Sesi_2.ipynb",
      "provenance": []
    },
    "kernelspec": {
      "name": "python3",
      "display_name": "Python 3"
    }
  },
  "cells": [
    {
      "cell_type": "markdown",
      "metadata": {
        "id": "CmBQk2Ci-n-7"
      },
      "source": [
        "# Sesi 2"
      ]
    },
    {
      "cell_type": "code",
      "metadata": {
        "id": "hG8UZqMY-sAx"
      },
      "source": [
        "x = 0\n",
        "y = 5"
      ],
      "execution_count": 2,
      "outputs": []
    },
    {
      "cell_type": "code",
      "metadata": {
        "colab": {
          "base_uri": "https://localhost:8080/"
        },
        "id": "DC-jh6c1-7LG",
        "outputId": "d27377af-ebb3-4c12-da84-bbeffa9b385d"
      },
      "source": [
        "if x<y:\n",
        "  print('yes')\n",
        "if x>y:\n",
        "  print('no')"
      ],
      "execution_count": 6,
      "outputs": [
        {
          "output_type": "stream",
          "text": [
            "yes\n"
          ],
          "name": "stdout"
        }
      ]
    },
    {
      "cell_type": "code",
      "metadata": {
        "colab": {
          "base_uri": "https://localhost:8080/"
        },
        "id": "kQjxgqzI_Iqz",
        "outputId": "52e1b825-6cd5-4436-aef1-a6db2d64d92a"
      },
      "source": [
        "if 'abc' in 'abcde':\n",
        "  print('state_1')\n",
        "  print('state_2')\n",
        "print('state_di_luar')"
      ],
      "execution_count": 9,
      "outputs": [
        {
          "output_type": "stream",
          "text": [
            "state_1\n",
            "state_2\n",
            "state_di_luar\n"
          ],
          "name": "stdout"
        }
      ]
    },
    {
      "cell_type": "code",
      "metadata": {
        "colab": {
          "base_uri": "https://localhost:8080/"
        },
        "id": "6YLrorFb_eRG",
        "outputId": "023e9430-035e-40f6-bd86-dd11c675effe"
      },
      "source": [
        "if 'abcf' in 'abcde':\n",
        "  print('state_1')\n",
        "  print('state_2')\n",
        "print('state_di_luar')"
      ],
      "execution_count": 10,
      "outputs": [
        {
          "output_type": "stream",
          "text": [
            "state_di_luar\n"
          ],
          "name": "stdout"
        }
      ]
    },
    {
      "cell_type": "code",
      "metadata": {
        "colab": {
          "base_uri": "https://localhost:8080/"
        },
        "id": "ALlUyuXu_4ol",
        "outputId": "684c74b2-89e3-447b-a25c-1e1cba4f3693"
      },
      "source": [
        "if 'foo' in ['foo','bar','baz']:\n",
        "  print('Outer condition in true')\n",
        "if 10 > 20 :\n",
        "  print('Inner Condition 1')\n",
        "print('between inner condition')\n",
        "if 10<20:\n",
        "  print('inner condition 2')\n",
        "print('end of outer condition')\n",
        "print('after outer condition')"
      ],
      "execution_count": 11,
      "outputs": [
        {
          "output_type": "stream",
          "text": [
            "Outer condition in true\n",
            "between inner condition\n",
            "inner condition 2\n",
            "end of outer condition\n",
            "after outer condition\n"
          ],
          "name": "stdout"
        }
      ]
    },
    {
      "cell_type": "code",
      "metadata": {
        "colab": {
          "base_uri": "https://localhost:8080/"
        },
        "id": "a26RZHtyBDuN",
        "outputId": "22aa932d-8355-4cdd-ad71-6a3d93e16f59"
      },
      "source": [
        "x = 20\n",
        "if x<50:\n",
        "  print('statement1')\n",
        "  print('True')\n",
        "else:\n",
        "  print('statement2')"
      ],
      "execution_count": 13,
      "outputs": [
        {
          "output_type": "stream",
          "text": [
            "statement1\n",
            "True\n"
          ],
          "name": "stdout"
        }
      ]
    },
    {
      "cell_type": "code",
      "metadata": {
        "colab": {
          "base_uri": "https://localhost:8080/"
        },
        "id": "2sxyuiEcBsQ3",
        "outputId": "e2df5d5e-96df-4271-ded4-93b2539e0916"
      },
      "source": [
        "harga_buku = 1000\n",
        "harga_majalah = 2000\n",
        "uang = 1500\n",
        "if uang>harga_buku:\n",
        "  print('beli buku')\n",
        "else:\n",
        "  print('uang tidak cukup')"
      ],
      "execution_count": 14,
      "outputs": [
        {
          "output_type": "stream",
          "text": [
            "beli buku\n"
          ],
          "name": "stdout"
        }
      ]
    },
    {
      "cell_type": "markdown",
      "metadata": {
        "id": "k-XZNhkyBr_G"
      },
      "source": [
        ""
      ]
    },
    {
      "cell_type": "code",
      "metadata": {
        "colab": {
          "base_uri": "https://localhost:8080/"
        },
        "id": "BEMeXpVjCJzq",
        "outputId": "3d2f9aba-d0fc-4205-8239-dad1bcdf165c"
      },
      "source": [
        "harga_buku = 1000\n",
        "harga_majalah = 2000\n",
        "uang = 3500\n",
        "if uang>harga_buku + harga_majalah:\n",
        "  print('beli keduanya')\n",
        "elif uang>harga_majalah:\n",
        "  print('beli majalah')\n",
        "elif uang>harga_buku:\n",
        "  print('beli buku')\n",
        "else:\n",
        "  print('uang tidak cukup')"
      ],
      "execution_count": 21,
      "outputs": [
        {
          "output_type": "stream",
          "text": [
            "beli keduanya\n"
          ],
          "name": "stdout"
        }
      ]
    },
    {
      "cell_type": "code",
      "metadata": {
        "colab": {
          "base_uri": "https://localhost:8080/"
        },
        "id": "dwbQLlrqEk2C",
        "outputId": "bd1869cb-840f-4aa0-ea3f-59c093dd3ace"
      },
      "source": [
        "if 5>2: print(1);print(2)"
      ],
      "execution_count": 22,
      "outputs": [
        {
          "output_type": "stream",
          "text": [
            "1\n",
            "2\n"
          ],
          "name": "stdout"
        }
      ]
    },
    {
      "cell_type": "code",
      "metadata": {
        "id": "-5N6mlv0E_bm",
        "outputId": "5aef5010-8da1-4467-d531-2feaa6d24da7",
        "colab": {
          "base_uri": "https://localhost:8080/"
        }
      },
      "source": [
        "harga_buku = 1000\n",
        "harga_majalah = 2000\n",
        "uang = 3500\n",
        "if uang>harga_buku + harga_majalah:print('beli keduanya')\n",
        "elif uang>harga_majalah:print('beli majalah')\n",
        "elif uang>harga_buku:print('beli buku')\n",
        "else:print('uang tidak cukup')"
      ],
      "execution_count": 23,
      "outputs": [
        {
          "output_type": "stream",
          "text": [
            "beli keduanya\n"
          ],
          "name": "stdout"
        }
      ]
    },
    {
      "cell_type": "code",
      "metadata": {
        "id": "zrHT57RhGSOY",
        "outputId": "86b2b94e-2db7-4cb6-cde2-7073c222115b",
        "colab": {
          "base_uri": "https://localhost:8080/"
        }
      },
      "source": [
        "age = 10\n",
        "print('katregori usia','teen' if age < 21 else 'adult')"
      ],
      "execution_count": 30,
      "outputs": [
        {
          "output_type": "stream",
          "text": [
            "katregori usia teen\n"
          ],
          "name": "stdout"
        }
      ]
    },
    {
      "cell_type": "code",
      "metadata": {
        "id": "W-PgzLXIHqbV",
        "outputId": "9a75e6b6-c778-4ac5-aa54-e20ecda171b0",
        "colab": {
          "base_uri": "https://localhost:8080/"
        }
      },
      "source": [
        "age=12\n",
        "if age>10 & age<21:\n",
        "  print('masuk')\n",
        "else:\n",
        "  print('usir')"
      ],
      "execution_count": 32,
      "outputs": [
        {
          "output_type": "stream",
          "text": [
            "masuk\n"
          ],
          "name": "stdout"
        }
      ]
    },
    {
      "cell_type": "code",
      "metadata": {
        "id": "_iQl4xW5IO9J",
        "outputId": "d0a1c839-b222-420c-f7e0-3a8644c722f8",
        "colab": {
          "base_uri": "https://localhost:8080/"
        }
      },
      "source": [
        "age=12\n",
        "if age>10 | age<21:\n",
        "  print('masuk')\n",
        "else:\n",
        "  print('usir')"
      ],
      "execution_count": 36,
      "outputs": [
        {
          "output_type": "stream",
          "text": [
            "usir\n"
          ],
          "name": "stdout"
        }
      ]
    },
    {
      "cell_type": "code",
      "metadata": {
        "id": "MP2heNzXKkD6",
        "outputId": "b4abc573-1cac-4da3-db9e-f4a6d4968daa",
        "colab": {
          "base_uri": "https://localhost:8080/"
        }
      },
      "source": [
        "n = 5\n",
        "while n > 0.5:\n",
        "  n =n-1\n",
        "  print(n)"
      ],
      "execution_count": 52,
      "outputs": [
        {
          "output_type": "stream",
          "text": [
            "4\n",
            "3\n",
            "2\n",
            "1\n",
            "0\n"
          ],
          "name": "stdout"
        }
      ]
    },
    {
      "cell_type": "code",
      "metadata": {
        "id": "LLNDyKe6KjkS",
        "outputId": "573a78ba-9408-4095-d4a0-f53dca0503ce",
        "colab": {
          "base_uri": "https://localhost:8080/"
        }
      },
      "source": [
        "n = 5\n",
        "while n > 0:\n",
        "  n =n-1\n",
        "  if n == 2:\n",
        "    break\n",
        "  print(n)\n",
        "print('stop')"
      ],
      "execution_count": 61,
      "outputs": [
        {
          "output_type": "stream",
          "text": [
            "4\n",
            "3\n",
            "stop\n"
          ],
          "name": "stdout"
        }
      ]
    },
    {
      "cell_type": "code",
      "metadata": {
        "id": "xoQGp9pANlgM",
        "outputId": "ee34983e-efba-40be-ed1f-e68a907cfa69",
        "colab": {
          "base_uri": "https://localhost:8080/"
        }
      },
      "source": [
        "n = 5\n",
        "while n > 0:\n",
        "  n =n-1\n",
        "  if n == 2:\n",
        "    continue\n",
        "  print(n)\n",
        "print('stop')"
      ],
      "execution_count": 62,
      "outputs": [
        {
          "output_type": "stream",
          "text": [
            "4\n",
            "3\n",
            "1\n",
            "0\n",
            "stop\n"
          ],
          "name": "stdout"
        }
      ]
    },
    {
      "cell_type": "markdown",
      "metadata": {
        "id": "UY10gdApHqRd"
      },
      "source": [
        ""
      ]
    },
    {
      "cell_type": "code",
      "metadata": {
        "id": "xC8z34KlOCQD",
        "outputId": "c38906f1-ca56-4c26-fc4a-7bbae07106b3",
        "colab": {
          "base_uri": "https://localhost:8080/"
        }
      },
      "source": [
        "a = ['foo','bar']\n",
        "while len(a):\n",
        "  print(a.pop(0))\n",
        "  b = ['baz','qux','qex']\n",
        "  while len(b):\n",
        "    print('--',b.pop(0))\n",
        "    c = ['aaa','bbb']\n",
        "    while len(c):\n",
        "     print('>',c.pop(0))"
      ],
      "execution_count": 95,
      "outputs": [
        {
          "output_type": "stream",
          "text": [
            "foo\n",
            "-- baz\n",
            "> aaa\n",
            "> bbb\n",
            "-- qux\n",
            "> aaa\n",
            "> bbb\n",
            "-- qex\n",
            "> aaa\n",
            "> bbb\n",
            "bar\n",
            "-- baz\n",
            "> aaa\n",
            "> bbb\n",
            "-- qux\n",
            "> aaa\n",
            "> bbb\n",
            "-- qex\n",
            "> aaa\n",
            "> bbb\n"
          ],
          "name": "stdout"
        }
      ]
    },
    {
      "cell_type": "code",
      "metadata": {
        "id": "_dQXungfQQtg",
        "outputId": "74a8d0e0-03a2-43da-ab5e-6e775507c723",
        "colab": {
          "base_uri": "https://localhost:8080/"
        }
      },
      "source": [
        "a = [1,2,3]\n",
        "for i in a:\n",
        "  print(i)"
      ],
      "execution_count": 72,
      "outputs": [
        {
          "output_type": "stream",
          "text": [
            "1\n",
            "2\n",
            "3\n"
          ],
          "name": "stdout"
        }
      ]
    },
    {
      "cell_type": "code",
      "metadata": {
        "id": "K2jgNSiRQx5S",
        "outputId": "bd04d414-4f1b-40f2-8380-d424761ee342",
        "colab": {
          "base_uri": "https://localhost:8080/"
        }
      },
      "source": [
        "a = [1,2,3]\n",
        "for i in a:\n",
        "  print(i*100)"
      ],
      "execution_count": 75,
      "outputs": [
        {
          "output_type": "stream",
          "text": [
            "100\n",
            "200\n",
            "300\n"
          ],
          "name": "stdout"
        }
      ]
    },
    {
      "cell_type": "code",
      "metadata": {
        "id": "K-fjbGrUUHyt",
        "outputId": "401914e2-a9e8-4d5f-ddb3-ef08764a47ac",
        "colab": {
          "base_uri": "https://localhost:8080/"
        }
      },
      "source": [
        "temp = input('masukkan suhu ')\n",
        "suhu = int(temp[:-1])\n",
        "satuan = temp[-1]\n",
        "\n",
        "if satuan == 'C':\n",
        "  result = suhu + 100\n",
        "  print('resultnya adalah',result,'derajat')\n",
        "elif satuan == 'F':\n",
        "  result = suhu + 200\n",
        "  print('resultnya adalah',result,'derajat')\n",
        "else:\n",
        "  print('masukkan yang benar')\n"
      ],
      "execution_count": 94,
      "outputs": [
        {
          "output_type": "stream",
          "text": [
            "masukkan suhu 9C\n",
            "resultnya adalah 109 derajat\n"
          ],
          "name": "stdout"
        }
      ]
    },
    {
      "cell_type": "code",
      "metadata": {
        "id": "EvMQIiT_XM7v"
      },
      "source": [
        ""
      ],
      "execution_count": null,
      "outputs": []
    }
  ]
}