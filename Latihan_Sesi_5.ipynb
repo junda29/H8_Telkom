{
  "nbformat": 4,
  "nbformat_minor": 0,
  "metadata": {
    "colab": {
      "name": "Latihan_Sesi_5.ipynb",
      "provenance": [],
      "authorship_tag": "ABX9TyNu0jsDxmxfIJ43a8mJw38P",
      "include_colab_link": true
    },
    "kernelspec": {
      "name": "python3",
      "display_name": "Python 3"
    },
    "language_info": {
      "name": "python"
    }
  },
  "cells": [
    {
      "cell_type": "markdown",
      "metadata": {
        "id": "view-in-github",
        "colab_type": "text"
      },
      "source": [
        "<a href=\"https://colab.research.google.com/github/junda29/H8_Telkom/blob/master/Latihan_Sesi_5.ipynb\" target=\"_parent\"><img src=\"https://colab.research.google.com/assets/colab-badge.svg\" alt=\"Open In Colab\"/></a>"
      ]
    },
    {
      "cell_type": "code",
      "metadata": {
        "id": "z0rQ-DXJyTJw"
      },
      "source": [
        "import numpy as np"
      ],
      "execution_count": 1,
      "outputs": []
    },
    {
      "cell_type": "code",
      "metadata": {
        "id": "2W24eyW-oHoV"
      },
      "source": [
        "class Conv3x3:\n",
        "  \"\"\"Convolutional layers using 3x3 filters\"\"\"\n",
        "  def __init__(self,out_channel: int):\n",
        "    self.out_channel = out_channel\n",
        "    self.filter = np.random.randint(-1,1, (out_channel,3,3))\n",
        "\n",
        "  def _region(self, image):\n",
        "    \"\"\"Generate all posibles 3x3 receptive field form 2D image.\"\"\"\n",
        "    h, w =image.shape\n",
        "    for hi in range(h-2):\n",
        "      for wi in range(w-2):\n",
        "        region = image [hi:(hi+3), wi: (wi+3)]\n",
        "        yield region, hi, wi\n",
        "  def convolve(self, image):\n",
        "    \"\"\"Do convolution over image\"\"\"\n",
        "    h, w = image.shape\n",
        "    out_dim = (h-2, w-2, self.out_channel)\n",
        "    output = np.zeros(out_dim)\n",
        "\n",
        "    for region, hi, wi, in self._region(image):\n",
        "      output [hi,wi] = np.sum(region*self.filter, axis=(1,2))\n",
        "    return output\n"
      ],
      "execution_count": 2,
      "outputs": []
    },
    {
      "cell_type": "code",
      "metadata": {
        "id": "o4vMdVuGycwS"
      },
      "source": [
        "np.random.seed(11)"
      ],
      "execution_count": 3,
      "outputs": []
    },
    {
      "cell_type": "code",
      "metadata": {
        "colab": {
          "base_uri": "https://localhost:8080/"
        },
        "id": "WkLor6DLykNb",
        "outputId": "8a1a5fd8-4761-4d0e-dca9-7a71df430596"
      },
      "source": [
        "# generate random image\n",
        "image=np.random.randint(0,10, size=(5,5))\n",
        "print(\"Random Image:\")\n",
        "print(image)"
      ],
      "execution_count": 6,
      "outputs": [
        {
          "output_type": "stream",
          "text": [
            "Random Image:\n",
            "[[9 0 1 7 1]\n",
            " [7 2 8 0 0]\n",
            " [4 2 1 5 5]\n",
            " [7 4 1 8 8]\n",
            " [1 3 6 2 2]]\n"
          ],
          "name": "stdout"
        }
      ]
    },
    {
      "cell_type": "code",
      "metadata": {
        "colab": {
          "base_uri": "https://localhost:8080/"
        },
        "id": "NzundZ3MzEPa",
        "outputId": "6f09eac7-5c70-4af8-fe09-1e7a75591c35"
      },
      "source": [
        "#instatituate Conv3x3 onject\n",
        "conv = Conv3x3(out_channel=5)\n",
        "print(\"filter size:\", conv.filter.shape)\n",
        "print(\"filter;\")\n",
        "print(conv.filter)\n",
        "\n",
        "output = conv.convolve(image)\n",
        "print(\"Output shape:\", output.shape)\n",
        "print(\"Output:\")\n",
        "print(output)"
      ],
      "execution_count": 7,
      "outputs": [
        {
          "output_type": "stream",
          "text": [
            "filter size: (5, 3, 3)\n",
            "filter;\n",
            "[[[-1  0  0]\n",
            "  [-1  0  0]\n",
            "  [-1  0  0]]\n",
            "\n",
            " [[-1  0  0]\n",
            "  [-1  0 -1]\n",
            "  [ 0  0  0]]\n",
            "\n",
            " [[-1 -1 -1]\n",
            "  [ 0 -1  0]\n",
            "  [ 0  0  0]]\n",
            "\n",
            " [[-1  0  0]\n",
            "  [ 0 -1  0]\n",
            "  [-1  0  0]]\n",
            "\n",
            " [[-1 -1 -1]\n",
            "  [-1 -1  0]\n",
            "  [ 0  0 -1]]]\n",
            "Output shape: (3, 3, 5)\n",
            "Output:\n",
            "[[[-20. -24. -12. -15. -20.]\n",
            "  [ -4.  -2. -16. -10. -23.]\n",
            "  [-10.  -9.  -9.  -2. -22.]]\n",
            "\n",
            " [[-18. -12. -19. -16. -24.]\n",
            "  [ -8.  -9. -11.  -7. -21.]\n",
            "  [-10. -14. -13. -14. -22.]]\n",
            "\n",
            " [[-12. -12. -11.  -9. -24.]\n",
            "  [ -9. -14.  -9.  -6. -15.]\n",
            "  [ -8. -10. -19. -15. -22.]]]\n"
          ],
          "name": "stdout"
        }
      ]
    }
  ]
}