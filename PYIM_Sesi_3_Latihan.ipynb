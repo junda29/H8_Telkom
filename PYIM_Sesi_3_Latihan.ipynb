{
  "nbformat": 4,
  "nbformat_minor": 0,
  "metadata": {
    "colab": {
      "name": "PYIM_Sesi_3_Latihan.ipynb",
      "provenance": [],
      "collapsed_sections": [],
      "authorship_tag": "ABX9TyPjh7JDyOb8M+Ek657HBqCL",
      "include_colab_link": true
    },
    "kernelspec": {
      "name": "python3",
      "display_name": "Python 3"
    },
    "language_info": {
      "name": "python"
    }
  },
  "cells": [
    {
      "cell_type": "markdown",
      "metadata": {
        "id": "view-in-github",
        "colab_type": "text"
      },
      "source": [
        "<a href=\"https://colab.research.google.com/github/junda29/H8_Telkom/blob/master/PYIM_Sesi_3_Latihan.ipynb\" target=\"_parent\"><img src=\"https://colab.research.google.com/assets/colab-badge.svg\" alt=\"Open In Colab\"/></a>"
      ]
    },
    {
      "cell_type": "code",
      "metadata": {
        "id": "F8AOFeeRuMD3"
      },
      "source": [
        "import numpy as np\n",
        "def sigmoid(x):\n",
        "  return 1/(1+np.exp(-x))"
      ],
      "execution_count": 36,
      "outputs": []
    },
    {
      "cell_type": "code",
      "metadata": {
        "id": "C_Nq07tBugJs"
      },
      "source": [
        "def output_net(features, weights, bias):\n",
        "  y_pred = sigmoid(np.matmul(features,weights)+bias)\n",
        "  return y_pred"
      ],
      "execution_count": 37,
      "outputs": []
    },
    {
      "cell_type": "code",
      "metadata": {
        "id": "9YjJgy1lujYQ"
      },
      "source": [
        "def loss_function(y,output):\n",
        "  error = -(y * np.log10(output) + (1-y)*np.log10(1-output))\n",
        "  return error"
      ],
      "execution_count": 39,
      "outputs": []
    },
    {
      "cell_type": "code",
      "metadata": {
        "id": "eFdqQlGXvDZt"
      },
      "source": [
        "def update_weights(x,y,weights, bias, alpha):\n",
        "  output = output_net(x, weights, bias)\n",
        "  new_weights = weights + alpha*(y-output)*x\n",
        "  new_bias = bias + alpha*(y-output)\n",
        "  return new_weights,new_bias"
      ],
      "execution_count": 40,
      "outputs": []
    },
    {
      "cell_type": "code",
      "metadata": {
        "id": "nlkuSVYMvMeP"
      },
      "source": [
        "def train(features,targets,epochs,alpha, graph_line=False):\n",
        "  n_records, n_features = features.shape\n",
        "  #inisiasi weight\n",
        "  weights = np.random.normal(scale=1/n_features**.5,size=n_features)\n",
        "\n",
        "  errors = []\n",
        "  last_loss = None\n",
        "  bias = 0\n",
        "\n",
        "  for e in range(epochs):\n",
        "    del_w = np.zeros(weights.shape)\n",
        "    for x,y in zip (features,targets):\n",
        "      output = output_net(x,weights,bias)\n",
        "      error = loss_function(y, output)\n",
        "      weights, bias = update_weights(x,y,weights,bias,alpha)\n",
        "\n",
        "      # print loss\n",
        "      out = output_net(features,weights,bias)\n",
        "      loss = np.mean(loss_function(targets, out))\n",
        "      errors.append(loss)\n",
        "\n",
        "      if e % (epochs / 10) == 0:\n",
        "        print(\"=\"*10, e, \"=\"*10)\n",
        "        if last_loss and last_loss < loss:\n",
        "          print(\"[WARNING] LOSS INCREASING\")\n",
        "        else:\n",
        "            print(\"Train Loss :\", loss)\n",
        "            last_loss = loss\n",
        "            prediction = out > 0.5\n",
        "            accuracy = np.mean(prediction == targets)\n",
        "            print(\"Acc :\",accuracy)\n",
        "            print(weights,bias)"
      ],
      "execution_count": 62,
      "outputs": []
    },
    {
      "cell_type": "code",
      "metadata": {
        "colab": {
          "base_uri": "https://localhost:8080/"
        },
        "id": "cdtSPN-d5Erq",
        "outputId": "6661b2a1-a927-4fe1-caff-b58d081bfa22"
      },
      "source": [
        "epochs = 200\n",
        "alpha = 0.001\n",
        "X = np.array([[0,0],[0,1],[1,0],[1,1]])\n",
        "y = np.array([0,1,1,1])\n",
        "train(X,y,epochs,alpha)"
      ],
      "execution_count": 64,
      "outputs": [
        {
          "output_type": "stream",
          "text": [
            "========== 0 ==========\n",
            "Train Loss : 0.34256358178336194\n",
            "Acc : 0.5\n",
            "[ 0.47192573 -0.74836127] -0.0005\n",
            "========== 0 ==========\n",
            "Train Loss : 0.3423882118730195\n",
            "Acc : 0.25\n",
            "[ 0.47192573 -0.74768234] 0.00017893052562458118\n",
            "========== 0 ==========\n",
            "Train Loss : 0.3423013280651889\n",
            "Acc : 0.25\n",
            "[ 0.47230985 -0.74768234] 0.0005630487452194861\n",
            "========== 0 ==========\n",
            "Train Loss : 0.34209596515840923\n",
            "Acc : 0.25\n",
            "[ 0.47287812 -0.74711407] 0.0011313219786426984\n",
            "========== 20 ==========\n",
            "Train Loss : 0.3346535670610173\n",
            "Acc : 0.25\n",
            "[ 0.49072688 -0.72366964] 0.02172289048304665\n",
            "========== 20 ==========\n",
            "Train Loss : 0.33448581171065855\n",
            "Acc : 0.25\n",
            "[ 0.49072688 -0.72300102] 0.022391509732574096\n",
            "========== 20 ==========\n",
            "Train Loss : 0.33440385741169387\n",
            "Acc : 0.25\n",
            "[ 0.49110135 -0.72300102] 0.022765972519192993\n",
            "========== 20 ==========\n",
            "Train Loss : 0.33420997493270804\n",
            "Acc : 0.25\n",
            "[ 0.49165344 -0.72244892] 0.023318066214396097\n",
            "========== 40 ==========\n",
            "Train Loss : 0.32718042833128375\n",
            "Acc : 0.25\n",
            "[ 0.50901851 -0.69950324] 0.04312237446548404\n",
            "========== 40 ==========\n",
            "Train Loss : 0.3270199870679504\n",
            "Acc : 0.25\n",
            "[ 0.50901851 -0.69884479] 0.04378082139721808\n",
            "========== 40 ==========\n",
            "Train Loss : 0.3269426605408374\n",
            "Acc : 0.25\n",
            "[ 0.50938373 -0.69884479] 0.044146036583831615\n",
            "========== 40 ==========\n",
            "Train Loss : 0.32675967157832186\n",
            "Acc : 0.25\n",
            "[ 0.50991999 -0.69830853] 0.04468230154772539\n",
            "========== 60 ==========\n",
            "Train Loss : 0.3201204268994308\n",
            "Acc : 0.25\n",
            "[ 0.52681594 -0.67585188] 0.06372078076152507\n",
            "========== 60 ==========\n",
            "Train Loss : 0.31996699989945304\n",
            "Acc : 0.25\n",
            "[ 0.52681594 -0.67520346] 0.06436920754365735\n",
            "========== 60 ==========\n",
            "Train Loss : 0.3198940148065905\n",
            "Acc : 0.25\n",
            "[ 0.52717231 -0.67520346] 0.06472557051572825\n",
            "========== 60 ==========\n",
            "Train Loss : 0.31972134156361337\n",
            "Acc : 0.25\n",
            "[ 0.52769312 -0.67468264] 0.06524638487508644\n",
            "========== 80 ==========\n",
            "Train Loss : 0.313450509356328\n",
            "Acc : 0.25\n",
            "[ 0.54413474 -0.65270464] 0.08354082745621422\n",
            "========== 80 ==========\n",
            "Train Loss : 0.3133037994353212\n",
            "Acc : 0.25\n",
            "[ 0.54413474 -0.65206607] 0.08417939766312182\n",
            "========== 80 ==========\n",
            "Train Loss : 0.3132348848578928\n",
            "Acc : 0.25\n",
            "[ 0.54448263 -0.65206607] 0.08452729056364293\n",
            "========== 80 ==========\n",
            "Train Loss : 0.3130719625990965\n",
            "Acc : 0.25\n",
            "[ 0.5449884  -0.65156031] 0.08503305434530727\n",
            "========== 100 ==========\n",
            "Train Loss : 0.3071484030822781\n",
            "Acc : 0.5\n",
            "[ 0.56099058 -0.63004997] 0.10260546190620227\n",
            "========== 100 ==========\n",
            "Train Loss : 0.30700811740800144\n",
            "Acc : 0.5\n",
            "[ 0.56099058 -0.62942108] 0.10323434879372688\n",
            "========== 100 ==========\n",
            "Train Loss : 0.3069430176877264\n",
            "Acc : 0.5\n",
            "[ 0.56133037 -0.62942108] 0.1035741399731326\n",
            "========== 100 ==========\n",
            "Train Loss : 0.30678929794913223\n",
            "Acc : 0.5\n",
            "[ 0.5618215  -0.62892995] 0.10406527004714693\n",
            "========== 120 ==========\n",
            "Train Loss : 0.3011926889949173\n",
            "Acc : 0.5\n",
            "[ 0.57739916 -0.60787587] 0.12093771627492811\n",
            "========== 120 ==========\n",
            "Train Loss : 0.3010585405318049\n",
            "Acc : 0.5\n",
            "[ 0.57739916 -0.60725649] 0.12155710115075816\n",
            "========== 120 ==========\n",
            "Train Loss : 0.30099701496764014\n",
            "Acc : 0.5\n",
            "[ 0.57773121 -0.60725649] 0.12188914482912946\n",
            "========== 120 ==========\n",
            "Train Loss : 0.3008519680779171\n",
            "Acc : 0.5\n",
            "[ 0.57820813 -0.60677956] 0.12236607026581388\n",
            "========== 140 ==========\n",
            "Train Loss : 0.29556285367536406\n",
            "Acc : 0.5\n",
            "[ 0.5933761  -0.58616999] 0.13856057891095452\n",
            "========== 140 ==========\n",
            "Train Loss : 0.2954345623752307\n",
            "Acc : 0.5\n",
            "[ 0.5933761  -0.58555992] 0.13917064961152634\n",
            "========== 140 ==========\n",
            "Train Loss : 0.29537638480484696\n",
            "Acc : 0.5\n",
            "[ 0.59370073 -0.58555992] 0.1394952857221631\n",
            "========== 140 ==========\n",
            "Train Loss : 0.2952395017791227\n",
            "Acc : 0.5\n",
            "[ 0.59416389 -0.58509676] 0.13995844359281853\n",
            "========== 160 ==========\n",
            "Train Loss : 0.290239323197933\n",
            "Acc : 0.5\n",
            "[ 0.60893683 -0.56491973] 0.1554968814328256\n",
            "========== 160 ==========\n",
            "Train Loss : 0.2901166169553643\n",
            "Acc : 0.5\n",
            "[ 0.60893683 -0.56431878] 0.15609783091399088\n",
            "========== 160 ==========\n",
            "Train Loss : 0.2900615752481217\n",
            "Acc : 0.5\n",
            "[ 0.60925439 -0.56431878] 0.15641538509961683\n",
            "========== 160 ==========\n",
            "Train Loss : 0.28993236912247017\n",
            "Acc : 0.5\n",
            "[ 0.60970422 -0.56386895] 0.15686521673251075\n",
            "========== 180 ==========\n",
            "Train Loss : 0.2852034810521552\n",
            "Acc : 0.5\n",
            "[ 0.62409659 -0.54411235] 0.17176920102880908\n",
            "========== 180 ==========\n",
            "Train Loss : 0.285086096445637\n",
            "Acc : 0.5\n",
            "[ 0.62409659 -0.54352033] 0.17236122607393242\n",
            "========== 180 ==========\n",
            "Train Loss : 0.28503399193053547\n",
            "Acc : 0.5\n",
            "[ 0.62440738 -0.54352033] 0.17267200980931766\n",
            "========== 180 ==========\n",
            "Train Loss : 0.2849119986080528\n",
            "Acc : 0.5\n",
            "[ 0.62484432 -0.54308338] 0.17310895749795166\n"
          ],
          "name": "stdout"
        }
      ]
    }
  ]
}